{
 "cells": [
  {
   "cell_type": "code",
   "execution_count": 23,
   "metadata": {},
   "outputs": [
    {
     "name": "stdout",
     "output_type": "stream",
     "text": [
      "Collecting plotly\n",
      "  Downloading plotly-5.3.1-py2.py3-none-any.whl (23.9 MB)\n",
      "Collecting tenacity>=6.2.0\n",
      "  Downloading tenacity-8.0.1-py3-none-any.whl (24 kB)\n",
      "Requirement already satisfied: six in c:\\jupyter\\lib\\site-packages (from plotly) (1.15.0)\n",
      "Installing collected packages: tenacity, plotly\n",
      "Successfully installed plotly-5.3.1 tenacity-8.0.1\n",
      "Note: you may need to restart the kernel to use updated packages.\n"
     ]
    }
   ],
   "source": [
    "pip install plotly"
   ]
  },
  {
   "cell_type": "code",
   "execution_count": 1,
   "metadata": {},
   "outputs": [],
   "source": [
    "import pandas as pd\n",
    "import numpy as np"
   ]
  },
  {
   "cell_type": "code",
   "execution_count": 2,
   "metadata": {},
   "outputs": [],
   "source": [
    "# ANOVA 하기 위한 코드\n",
    "from statsmodels.formula.api import ols\n",
    "from statsmodels.stats.anova import anova_lm\n",
    "\n",
    "# 오류 무시\n",
    "import warnings\n",
    "warnings.filterwarnings('ignore')\n",
    "\n",
    "from statsmodels.stats.multicomp import pairwise_tukeyhsd"
   ]
  },
  {
   "cell_type": "code",
   "execution_count": 3,
   "metadata": {},
   "outputs": [],
   "source": [
    "# Prophet\n",
    "from fbprophet import Prophet\n",
    "\n",
    "# 그룹화 시계열\n",
    "import hts   # gts가 여기에 포함됨\n",
    "import matplotlib.pyplot as plt\n",
    "import seaborn as sns\n",
    "# import warnings\n",
    "# warnings.simplefilter(\"ignore\")\n",
    "\n",
    "# settings\n",
    "plt.style.use('seaborn')\n",
    "plt.rcParams[\"figure.figsize\"] = (16,8)"
   ]
  },
  {
   "cell_type": "code",
   "execution_count": 4,
   "metadata": {},
   "outputs": [],
   "source": [
    "%matplotlib inline\n",
    "\n",
    "from pathlib import Path\n",
    "import pandas as pd\n",
    "\n",
    "from sklearn import preprocessing \n",
    "from sklearn.metrics import pairwise\n",
    "from scipy.cluster.hierarchy import dendrogram, linkage, fcluster\n",
    "from sklearn.cluster import KMeans #k-평균 모델 구축\n",
    "import matplotlib.pylab as plt\n",
    "import seaborn as sns\n",
    "from pandas.plotting import parallel_coordinates\n",
    "\n",
    "import statsmodels.formula.api as sm\n",
    "from statsmodels.tsa import tsatools, stattools\n",
    "from statsmodels.tsa.arima_model import ARIMA\n",
    "from statsmodels.graphics import tsaplots\n"
   ]
  },
  {
   "cell_type": "markdown",
   "metadata": {},
   "source": [
    "# 페이스북이 만든, Prophet 시계열 예측 라이브러리 이용"
   ]
  },
  {
   "cell_type": "markdown",
   "metadata": {},
   "source": [
    "> ARIMA 같은 시계열 모델은 시간에 종속적인 구조를 가지지만, Prophet은 종속적이지 않고 Curve Fitting으로 문제 해결\n",
    ">\n",
    "> 구성요소로는 Growth, Seasonality, Holidays가 있으며 \\[y(t)=g(t)+s(t)+h(t)+error\\]구조를 취함\n",
    ">\n",
    "> 데이터를 Prophet에 맞도록 가공하기 위해 ds, y 2개의 colum이 필요함\n",
    ">\n",
    "> Prophet 객체는 1번만 Fit할 수 있음. default growth = 'linear'이고, 상한과 하한을 설정할 경우에는 Prophet의 growh = 'logistic'을 추가 \n",
    ">\n",
    "> 미래 dataframe 생성\n",
    "> \n",
    "> 예측 후 forecast 결과 확인 "
   ]
  },
  {
   "cell_type": "markdown",
   "metadata": {},
   "source": [
    "## month_long_term_frgn 장기체류"
   ]
  },
  {
   "cell_type": "markdown",
   "metadata": {},
   "source": [
    "1. sum_resd_pop_cnt  ~ nationality group별로\n",
    "\n",
    "2. sum_work_pop_cnt  ~ nationality group별로\n",
    "\n",
    "3. sum_visit_pop_cnt ~ nationality group별로"
   ]
  },
  {
   "cell_type": "code",
   "execution_count": 33,
   "metadata": {},
   "outputs": [
    {
     "data": {
      "text/html": [
       "<div>\n",
       "<style scoped>\n",
       "    .dataframe tbody tr th:only-of-type {\n",
       "        vertical-align: middle;\n",
       "    }\n",
       "\n",
       "    .dataframe tbody tr th {\n",
       "        vertical-align: top;\n",
       "    }\n",
       "\n",
       "    .dataframe thead th {\n",
       "        text-align: right;\n",
       "    }\n",
       "</style>\n",
       "<table border=\"1\" class=\"dataframe\">\n",
       "  <thead>\n",
       "    <tr style=\"text-align: right;\">\n",
       "      <th></th>\n",
       "      <th>m</th>\n",
       "      <th>nationality</th>\n",
       "      <th>emd_cd</th>\n",
       "      <th>emd_nm</th>\n",
       "      <th>count_num</th>\n",
       "      <th>sum_resd_pop_cnt</th>\n",
       "      <th>sum_work_pop_cnt</th>\n",
       "      <th>sum_visit_pop_cnt</th>\n",
       "    </tr>\n",
       "  </thead>\n",
       "  <tbody>\n",
       "    <tr>\n",
       "      <th>0</th>\n",
       "      <td>2018-01</td>\n",
       "      <td>AUS</td>\n",
       "      <td>50110590</td>\n",
       "      <td>건입동</td>\n",
       "      <td>33</td>\n",
       "      <td>0.0000</td>\n",
       "      <td>0.0000</td>\n",
       "      <td>193.1805</td>\n",
       "    </tr>\n",
       "    <tr>\n",
       "      <th>1</th>\n",
       "      <td>2018-01</td>\n",
       "      <td>AUS</td>\n",
       "      <td>50110256</td>\n",
       "      <td>구좌읍</td>\n",
       "      <td>40</td>\n",
       "      <td>0.0000</td>\n",
       "      <td>0.0000</td>\n",
       "      <td>251.2195</td>\n",
       "    </tr>\n",
       "    <tr>\n",
       "      <th>2</th>\n",
       "      <td>2018-01</td>\n",
       "      <td>AUS</td>\n",
       "      <td>50130253</td>\n",
       "      <td>남원읍</td>\n",
       "      <td>107</td>\n",
       "      <td>0.0000</td>\n",
       "      <td>0.0000</td>\n",
       "      <td>648.0345</td>\n",
       "    </tr>\n",
       "    <tr>\n",
       "      <th>3</th>\n",
       "      <td>2018-01</td>\n",
       "      <td>AUS</td>\n",
       "      <td>50110660</td>\n",
       "      <td>노형동</td>\n",
       "      <td>761</td>\n",
       "      <td>11855.9924</td>\n",
       "      <td>738.9594</td>\n",
       "      <td>2612.7042</td>\n",
       "    </tr>\n",
       "    <tr>\n",
       "      <th>4</th>\n",
       "      <td>2018-01</td>\n",
       "      <td>AUS</td>\n",
       "      <td>50130590</td>\n",
       "      <td>대륜동</td>\n",
       "      <td>563</td>\n",
       "      <td>2701.0357</td>\n",
       "      <td>1576.0168</td>\n",
       "      <td>200.4630</td>\n",
       "    </tr>\n",
       "    <tr>\n",
       "      <th>...</th>\n",
       "      <td>...</td>\n",
       "      <td>...</td>\n",
       "      <td>...</td>\n",
       "      <td>...</td>\n",
       "      <td>...</td>\n",
       "      <td>...</td>\n",
       "      <td>...</td>\n",
       "      <td>...</td>\n",
       "    </tr>\n",
       "    <tr>\n",
       "      <th>52233</th>\n",
       "      <td>2021-06</td>\n",
       "      <td>VNM</td>\n",
       "      <td>50130320</td>\n",
       "      <td>표선면</td>\n",
       "      <td>919</td>\n",
       "      <td>2646.5554</td>\n",
       "      <td>0.0000</td>\n",
       "      <td>7603.5847</td>\n",
       "    </tr>\n",
       "    <tr>\n",
       "      <th>52234</th>\n",
       "      <td>2021-06</td>\n",
       "      <td>VNM</td>\n",
       "      <td>50110310</td>\n",
       "      <td>한경면</td>\n",
       "      <td>1366</td>\n",
       "      <td>45349.6490</td>\n",
       "      <td>1121.2861</td>\n",
       "      <td>75816.8162</td>\n",
       "    </tr>\n",
       "    <tr>\n",
       "      <th>52235</th>\n",
       "      <td>2021-06</td>\n",
       "      <td>VNM</td>\n",
       "      <td>50110250</td>\n",
       "      <td>한림읍</td>\n",
       "      <td>1440</td>\n",
       "      <td>97147.6156</td>\n",
       "      <td>3820.6787</td>\n",
       "      <td>61844.2041</td>\n",
       "    </tr>\n",
       "    <tr>\n",
       "      <th>52236</th>\n",
       "      <td>2021-06</td>\n",
       "      <td>VNM</td>\n",
       "      <td>50110600</td>\n",
       "      <td>화북동</td>\n",
       "      <td>1375</td>\n",
       "      <td>13436.5104</td>\n",
       "      <td>2574.8044</td>\n",
       "      <td>8554.9721</td>\n",
       "    </tr>\n",
       "    <tr>\n",
       "      <th>52237</th>\n",
       "      <td>2021-06</td>\n",
       "      <td>VNM</td>\n",
       "      <td>50130550</td>\n",
       "      <td>효돈동</td>\n",
       "      <td>811</td>\n",
       "      <td>3122.2495</td>\n",
       "      <td>0.0000</td>\n",
       "      <td>1634.7394</td>\n",
       "    </tr>\n",
       "  </tbody>\n",
       "</table>\n",
       "<p>52238 rows × 8 columns</p>\n",
       "</div>"
      ],
      "text/plain": [
       "             m nationality    emd_cd emd_nm  count_num  sum_resd_pop_cnt  \\\n",
       "0      2018-01         AUS  50110590    건입동         33            0.0000   \n",
       "1      2018-01         AUS  50110256    구좌읍         40            0.0000   \n",
       "2      2018-01         AUS  50130253    남원읍        107            0.0000   \n",
       "3      2018-01         AUS  50110660    노형동        761        11855.9924   \n",
       "4      2018-01         AUS  50130590    대륜동        563         2701.0357   \n",
       "...        ...         ...       ...    ...        ...               ...   \n",
       "52233  2021-06         VNM  50130320    표선면        919         2646.5554   \n",
       "52234  2021-06         VNM  50110310    한경면       1366        45349.6490   \n",
       "52235  2021-06         VNM  50110250    한림읍       1440        97147.6156   \n",
       "52236  2021-06         VNM  50110600    화북동       1375        13436.5104   \n",
       "52237  2021-06         VNM  50130550    효돈동        811         3122.2495   \n",
       "\n",
       "       sum_work_pop_cnt  sum_visit_pop_cnt  \n",
       "0                0.0000           193.1805  \n",
       "1                0.0000           251.2195  \n",
       "2                0.0000           648.0345  \n",
       "3              738.9594          2612.7042  \n",
       "4             1576.0168           200.4630  \n",
       "...                 ...                ...  \n",
       "52233            0.0000          7603.5847  \n",
       "52234         1121.2861         75816.8162  \n",
       "52235         3820.6787         61844.2041  \n",
       "52236         2574.8044          8554.9721  \n",
       "52237            0.0000          1634.7394  \n",
       "\n",
       "[52238 rows x 8 columns]"
      ]
     },
     "execution_count": 33,
     "metadata": {},
     "output_type": "execute_result"
    }
   ],
   "source": [
    "long_df = pd.read_csv(r'C:\\Users\\이현아\\Desktop\\월별데이터 정리\\month_long_term_frgn.csv')\n",
    "long_df"
   ]
  },
  {
   "cell_type": "code",
   "execution_count": 34,
   "metadata": {},
   "outputs": [
    {
     "data": {
      "text/plain": [
       "array(['AUS', 'BGD', 'CAN', 'CHN', 'DEU', 'EGY', 'ETC', 'FRA', 'GBR',\n",
       "       'IDN', 'IND', 'JPN', 'KAZ', 'KGZ', 'KHM', 'LKA', 'MGL', 'MMR',\n",
       "       'MYS', 'NGR', 'NPL', 'NZL', 'PAK', 'PHL', 'RUS', 'THA', 'TWN',\n",
       "       'UKR', 'USA', 'UZB', 'VNM'], dtype=object)"
      ]
     },
     "execution_count": 34,
     "metadata": {},
     "output_type": "execute_result"
    }
   ],
   "source": [
    "long_df['nationality'].unique()"
   ]
  },
  {
   "cell_type": "markdown",
   "metadata": {},
   "source": [
    "### 1. grouping"
   ]
  },
  {
   "cell_type": "code",
   "execution_count": 35,
   "metadata": {},
   "outputs": [],
   "source": [
    "group1 = ['CHN']\n",
    "group2 = ['NPL','USA']\n",
    "group3 = ['IDN']\n",
    "group4 = ['VNM']\n",
    "group5 = ['AUS','BGD','CAN','DEU','EGY','ETC','FRA','GBR','IND','JPN','KAZ','KGZ','KHM','LKA','MGL','MMR','MYS','NGR','NZL','PAK','PHL','RUS','THA','TWN','UKR','UZB']"
   ]
  },
  {
   "cell_type": "code",
   "execution_count": 36,
   "metadata": {},
   "outputs": [],
   "source": [
    "#group1부터 group5부터 한번에 if문 돌리면 너어무 오래걸려서 좀 나눴어요 코드 ~~"
   ]
  },
  {
   "cell_type": "code",
   "execution_count": 37,
   "metadata": {},
   "outputs": [],
   "source": [
    "for i in long_df.index:\n",
    "    if long_df.loc[i,'nationality'] in group1:\n",
    "        long_df.loc[i,'nationality_group'] = 'group1'"
   ]
  },
  {
   "cell_type": "code",
   "execution_count": 38,
   "metadata": {},
   "outputs": [],
   "source": [
    "for i in long_df.index:\n",
    "    if long_df.loc[i,'nationality'] in group2:\n",
    "        long_df.loc[i,'nationality_group'] = 'group2'"
   ]
  },
  {
   "cell_type": "code",
   "execution_count": 39,
   "metadata": {},
   "outputs": [],
   "source": [
    "for i in long_df.index:\n",
    "    if long_df.loc[i,'nationality'] in group3:\n",
    "        long_df.loc[i,'nationality_group'] = 'group3'"
   ]
  },
  {
   "cell_type": "code",
   "execution_count": 40,
   "metadata": {},
   "outputs": [],
   "source": [
    "for i in long_df.index:\n",
    "    if long_df.loc[i,'nationality'] in group4:\n",
    "        long_df.loc[i,'nationality_group'] = 'group4'"
   ]
  },
  {
   "cell_type": "code",
   "execution_count": 41,
   "metadata": {},
   "outputs": [],
   "source": [
    "for i in long_df.index:\n",
    "    if long_df.loc[i,'nationality'] in group5:\n",
    "        long_df.loc[i,'nationality_group'] = 'group5'"
   ]
  },
  {
   "cell_type": "code",
   "execution_count": 42,
   "metadata": {},
   "outputs": [
    {
     "data": {
      "text/html": [
       "<div>\n",
       "<style scoped>\n",
       "    .dataframe tbody tr th:only-of-type {\n",
       "        vertical-align: middle;\n",
       "    }\n",
       "\n",
       "    .dataframe tbody tr th {\n",
       "        vertical-align: top;\n",
       "    }\n",
       "\n",
       "    .dataframe thead th {\n",
       "        text-align: right;\n",
       "    }\n",
       "</style>\n",
       "<table border=\"1\" class=\"dataframe\">\n",
       "  <thead>\n",
       "    <tr style=\"text-align: right;\">\n",
       "      <th></th>\n",
       "      <th>m</th>\n",
       "      <th>nationality</th>\n",
       "      <th>emd_cd</th>\n",
       "      <th>emd_nm</th>\n",
       "      <th>count_num</th>\n",
       "      <th>sum_resd_pop_cnt</th>\n",
       "      <th>sum_work_pop_cnt</th>\n",
       "      <th>sum_visit_pop_cnt</th>\n",
       "      <th>nationality_group</th>\n",
       "    </tr>\n",
       "  </thead>\n",
       "  <tbody>\n",
       "    <tr>\n",
       "      <th>0</th>\n",
       "      <td>2018-01</td>\n",
       "      <td>AUS</td>\n",
       "      <td>50110590</td>\n",
       "      <td>건입동</td>\n",
       "      <td>33</td>\n",
       "      <td>0.0000</td>\n",
       "      <td>0.0000</td>\n",
       "      <td>193.1805</td>\n",
       "      <td>group5</td>\n",
       "    </tr>\n",
       "    <tr>\n",
       "      <th>1</th>\n",
       "      <td>2018-01</td>\n",
       "      <td>AUS</td>\n",
       "      <td>50110256</td>\n",
       "      <td>구좌읍</td>\n",
       "      <td>40</td>\n",
       "      <td>0.0000</td>\n",
       "      <td>0.0000</td>\n",
       "      <td>251.2195</td>\n",
       "      <td>group5</td>\n",
       "    </tr>\n",
       "    <tr>\n",
       "      <th>2</th>\n",
       "      <td>2018-01</td>\n",
       "      <td>AUS</td>\n",
       "      <td>50130253</td>\n",
       "      <td>남원읍</td>\n",
       "      <td>107</td>\n",
       "      <td>0.0000</td>\n",
       "      <td>0.0000</td>\n",
       "      <td>648.0345</td>\n",
       "      <td>group5</td>\n",
       "    </tr>\n",
       "    <tr>\n",
       "      <th>3</th>\n",
       "      <td>2018-01</td>\n",
       "      <td>AUS</td>\n",
       "      <td>50110660</td>\n",
       "      <td>노형동</td>\n",
       "      <td>761</td>\n",
       "      <td>11855.9924</td>\n",
       "      <td>738.9594</td>\n",
       "      <td>2612.7042</td>\n",
       "      <td>group5</td>\n",
       "    </tr>\n",
       "    <tr>\n",
       "      <th>4</th>\n",
       "      <td>2018-01</td>\n",
       "      <td>AUS</td>\n",
       "      <td>50130590</td>\n",
       "      <td>대륜동</td>\n",
       "      <td>563</td>\n",
       "      <td>2701.0357</td>\n",
       "      <td>1576.0168</td>\n",
       "      <td>200.4630</td>\n",
       "      <td>group5</td>\n",
       "    </tr>\n",
       "    <tr>\n",
       "      <th>...</th>\n",
       "      <td>...</td>\n",
       "      <td>...</td>\n",
       "      <td>...</td>\n",
       "      <td>...</td>\n",
       "      <td>...</td>\n",
       "      <td>...</td>\n",
       "      <td>...</td>\n",
       "      <td>...</td>\n",
       "      <td>...</td>\n",
       "    </tr>\n",
       "    <tr>\n",
       "      <th>52233</th>\n",
       "      <td>2021-06</td>\n",
       "      <td>VNM</td>\n",
       "      <td>50130320</td>\n",
       "      <td>표선면</td>\n",
       "      <td>919</td>\n",
       "      <td>2646.5554</td>\n",
       "      <td>0.0000</td>\n",
       "      <td>7603.5847</td>\n",
       "      <td>group4</td>\n",
       "    </tr>\n",
       "    <tr>\n",
       "      <th>52234</th>\n",
       "      <td>2021-06</td>\n",
       "      <td>VNM</td>\n",
       "      <td>50110310</td>\n",
       "      <td>한경면</td>\n",
       "      <td>1366</td>\n",
       "      <td>45349.6490</td>\n",
       "      <td>1121.2861</td>\n",
       "      <td>75816.8162</td>\n",
       "      <td>group4</td>\n",
       "    </tr>\n",
       "    <tr>\n",
       "      <th>52235</th>\n",
       "      <td>2021-06</td>\n",
       "      <td>VNM</td>\n",
       "      <td>50110250</td>\n",
       "      <td>한림읍</td>\n",
       "      <td>1440</td>\n",
       "      <td>97147.6156</td>\n",
       "      <td>3820.6787</td>\n",
       "      <td>61844.2041</td>\n",
       "      <td>group4</td>\n",
       "    </tr>\n",
       "    <tr>\n",
       "      <th>52236</th>\n",
       "      <td>2021-06</td>\n",
       "      <td>VNM</td>\n",
       "      <td>50110600</td>\n",
       "      <td>화북동</td>\n",
       "      <td>1375</td>\n",
       "      <td>13436.5104</td>\n",
       "      <td>2574.8044</td>\n",
       "      <td>8554.9721</td>\n",
       "      <td>group4</td>\n",
       "    </tr>\n",
       "    <tr>\n",
       "      <th>52237</th>\n",
       "      <td>2021-06</td>\n",
       "      <td>VNM</td>\n",
       "      <td>50130550</td>\n",
       "      <td>효돈동</td>\n",
       "      <td>811</td>\n",
       "      <td>3122.2495</td>\n",
       "      <td>0.0000</td>\n",
       "      <td>1634.7394</td>\n",
       "      <td>group4</td>\n",
       "    </tr>\n",
       "  </tbody>\n",
       "</table>\n",
       "<p>52238 rows × 9 columns</p>\n",
       "</div>"
      ],
      "text/plain": [
       "             m nationality    emd_cd emd_nm  count_num  sum_resd_pop_cnt  \\\n",
       "0      2018-01         AUS  50110590    건입동         33            0.0000   \n",
       "1      2018-01         AUS  50110256    구좌읍         40            0.0000   \n",
       "2      2018-01         AUS  50130253    남원읍        107            0.0000   \n",
       "3      2018-01         AUS  50110660    노형동        761        11855.9924   \n",
       "4      2018-01         AUS  50130590    대륜동        563         2701.0357   \n",
       "...        ...         ...       ...    ...        ...               ...   \n",
       "52233  2021-06         VNM  50130320    표선면        919         2646.5554   \n",
       "52234  2021-06         VNM  50110310    한경면       1366        45349.6490   \n",
       "52235  2021-06         VNM  50110250    한림읍       1440        97147.6156   \n",
       "52236  2021-06         VNM  50110600    화북동       1375        13436.5104   \n",
       "52237  2021-06         VNM  50130550    효돈동        811         3122.2495   \n",
       "\n",
       "       sum_work_pop_cnt  sum_visit_pop_cnt nationality_group  \n",
       "0                0.0000           193.1805            group5  \n",
       "1                0.0000           251.2195            group5  \n",
       "2                0.0000           648.0345            group5  \n",
       "3              738.9594          2612.7042            group5  \n",
       "4             1576.0168           200.4630            group5  \n",
       "...                 ...                ...               ...  \n",
       "52233            0.0000          7603.5847            group4  \n",
       "52234         1121.2861         75816.8162            group4  \n",
       "52235         3820.6787         61844.2041            group4  \n",
       "52236         2574.8044          8554.9721            group4  \n",
       "52237            0.0000          1634.7394            group4  \n",
       "\n",
       "[52238 rows x 9 columns]"
      ]
     },
     "execution_count": 42,
     "metadata": {},
     "output_type": "execute_result"
    }
   ],
   "source": [
    "long_df"
   ]
  },
  {
   "cell_type": "code",
   "execution_count": 43,
   "metadata": {},
   "outputs": [
    {
     "data": {
      "text/plain": [
       "array(['group5', 'group1', 'group3', 'group2', 'group4'], dtype=object)"
      ]
     },
     "execution_count": 43,
     "metadata": {},
     "output_type": "execute_result"
    }
   ],
   "source": [
    "long_df['nationality_group'].unique()"
   ]
  },
  {
   "cell_type": "code",
   "execution_count": 44,
   "metadata": {},
   "outputs": [
    {
     "data": {
      "text/plain": [
       "group5    43208\n",
       "group2     3612\n",
       "group4     1806\n",
       "group3     1806\n",
       "group1     1806\n",
       "Name: nationality_group, dtype: int64"
      ]
     },
     "execution_count": 44,
     "metadata": {},
     "output_type": "execute_result"
    }
   ],
   "source": [
    "long_df['nationality_group'].value_counts()"
   ]
  },
  {
   "cell_type": "markdown",
   "metadata": {},
   "source": [
    "### 데이터 전처리"
   ]
  },
  {
   "cell_type": "code",
   "execution_count": 45,
   "metadata": {},
   "outputs": [],
   "source": [
    "# 우선, 시계열 데이터이므로 날짜를 datetime형식으로 변환\n",
    "long_df['m'] = pd.to_datetime(long_df.m, format = '%Y-%m')\n",
    "# long_df.info()"
   ]
  },
  {
   "cell_type": "code",
   "execution_count": 52,
   "metadata": {},
   "outputs": [],
   "source": [
    "dong = long_df['emd_nm'].unique()"
   ]
  },
  {
   "cell_type": "code",
   "execution_count": 60,
   "metadata": {
    "scrolled": false
   },
   "outputs": [
    {
     "name": "stdout",
     "output_type": "stream",
     "text": [
      "건입동그룹별 예측 결과\n",
      "7월의 sum_resd_pop_cnt(거주 인구 합) : 12821.035943812818\n",
      "8월의 sum_resd_pop_cnt(거주 인구 합) : 27909.234904564364\n",
      "구좌읍그룹별 예측 결과\n",
      "7월의 sum_resd_pop_cnt(거주 인구 합) : 1389.0433255996022\n",
      "8월의 sum_resd_pop_cnt(거주 인구 합) : 17828.91271049444\n",
      "남원읍그룹별 예측 결과\n",
      "7월의 sum_resd_pop_cnt(거주 인구 합) : 13096.222161924434\n",
      "8월의 sum_resd_pop_cnt(거주 인구 합) : 5806.054177996325\n",
      "노형동그룹별 예측 결과\n",
      "7월의 sum_resd_pop_cnt(거주 인구 합) : 48424.0807630004\n",
      "8월의 sum_resd_pop_cnt(거주 인구 합) : 102314.82633043952\n",
      "대륜동그룹별 예측 결과\n",
      "7월의 sum_resd_pop_cnt(거주 인구 합) : 1184.4923452113917\n",
      "8월의 sum_resd_pop_cnt(거주 인구 합) : 12009.211175175016\n",
      "대정읍그룹별 예측 결과\n",
      "7월의 sum_resd_pop_cnt(거주 인구 합) : 29245.963288561325\n",
      "8월의 sum_resd_pop_cnt(거주 인구 합) : 48392.77126729214\n",
      "대천동그룹별 예측 결과\n",
      "7월의 sum_resd_pop_cnt(거주 인구 합) : 3234.3282244502498\n",
      "8월의 sum_resd_pop_cnt(거주 인구 합) : 2168.3921443799863\n",
      "도두동그룹별 예측 결과\n",
      "7월의 sum_resd_pop_cnt(거주 인구 합) : 2540.2066510970585\n",
      "8월의 sum_resd_pop_cnt(거주 인구 합) : 7681.548230906168\n",
      "동홍동그룹별 예측 결과\n",
      "7월의 sum_resd_pop_cnt(거주 인구 합) : -7585.5538149914355\n",
      "8월의 sum_resd_pop_cnt(거주 인구 합) : 1963.8297841212534\n",
      "봉개동그룹별 예측 결과\n",
      "7월의 sum_resd_pop_cnt(거주 인구 합) : -1626.3010396797195\n",
      "8월의 sum_resd_pop_cnt(거주 인구 합) : -1245.0032815506133\n",
      "삼도1동그룹별 예측 결과\n",
      "7월의 sum_resd_pop_cnt(거주 인구 합) : 7569.356851450389\n",
      "8월의 sum_resd_pop_cnt(거주 인구 합) : 1174.7178966446606\n",
      "삼도2동그룹별 예측 결과\n",
      "7월의 sum_resd_pop_cnt(거주 인구 합) : 6716.304265125275\n",
      "8월의 sum_resd_pop_cnt(거주 인구 합) : 7463.973207445003\n",
      "삼양동그룹별 예측 결과\n",
      "7월의 sum_resd_pop_cnt(거주 인구 합) : 8950.265683767087\n",
      "8월의 sum_resd_pop_cnt(거주 인구 합) : -6586.138657572357\n",
      "서홍동그룹별 예측 결과\n",
      "7월의 sum_resd_pop_cnt(거주 인구 합) : 4967.7783327756415\n",
      "8월의 sum_resd_pop_cnt(거주 인구 합) : 3041.557420202407\n",
      "성산읍그룹별 예측 결과\n",
      "7월의 sum_resd_pop_cnt(거주 인구 합) : 24878.471474795606\n",
      "8월의 sum_resd_pop_cnt(거주 인구 합) : 14865.093040376658\n",
      "송산동그룹별 예측 결과\n",
      "7월의 sum_resd_pop_cnt(거주 인구 합) : 7762.852570224314\n",
      "8월의 sum_resd_pop_cnt(거주 인구 합) : 11869.212302864778\n",
      "아라동그룹별 예측 결과\n",
      "7월의 sum_resd_pop_cnt(거주 인구 합) : 17927.84890232939\n",
      "8월의 sum_resd_pop_cnt(거주 인구 합) : 2495.938538781177\n",
      "안덕면그룹별 예측 결과\n",
      "7월의 sum_resd_pop_cnt(거주 인구 합) : 2883.5746298833137\n",
      "8월의 sum_resd_pop_cnt(거주 인구 합) : 85672.7430546287\n",
      "애월읍그룹별 예측 결과\n",
      "7월의 sum_resd_pop_cnt(거주 인구 합) : 59573.272329023566\n",
      "8월의 sum_resd_pop_cnt(거주 인구 합) : 94474.86164187524\n",
      "연동그룹별 예측 결과\n",
      "7월의 sum_resd_pop_cnt(거주 인구 합) : 10779.180087752256\n",
      "8월의 sum_resd_pop_cnt(거주 인구 합) : 118258.51825284294\n",
      "영천동그룹별 예측 결과\n",
      "7월의 sum_resd_pop_cnt(거주 인구 합) : 18672.942937082687\n",
      "8월의 sum_resd_pop_cnt(거주 인구 합) : -2462.7630190755854\n",
      "예래동그룹별 예측 결과\n",
      "7월의 sum_resd_pop_cnt(거주 인구 합) : 3339.3824153387313\n",
      "8월의 sum_resd_pop_cnt(거주 인구 합) : 33604.201563408315\n",
      "오라동그룹별 예측 결과\n",
      "7월의 sum_resd_pop_cnt(거주 인구 합) : 4445.724097850292\n",
      "8월의 sum_resd_pop_cnt(거주 인구 합) : 18618.046783679903\n",
      "외도동그룹별 예측 결과\n",
      "7월의 sum_resd_pop_cnt(거주 인구 합) : 350.93214233674246\n",
      "8월의 sum_resd_pop_cnt(거주 인구 합) : 13053.824802312605\n",
      "용담1동그룹별 예측 결과\n",
      "7월의 sum_resd_pop_cnt(거주 인구 합) : 5417.31324090103\n",
      "8월의 sum_resd_pop_cnt(거주 인구 합) : 218.85619638715337\n",
      "용담2동그룹별 예측 결과\n",
      "7월의 sum_resd_pop_cnt(거주 인구 합) : 1544.859639401669\n",
      "8월의 sum_resd_pop_cnt(거주 인구 합) : 20903.703028057804\n",
      "우도면그룹별 예측 결과\n",
      "7월의 sum_resd_pop_cnt(거주 인구 합) : 1644.41579816621\n",
      "8월의 sum_resd_pop_cnt(거주 인구 합) : 2747.0722327061567\n",
      "이도1동그룹별 예측 결과\n",
      "7월의 sum_resd_pop_cnt(거주 인구 합) : 5419.278329364881\n",
      "8월의 sum_resd_pop_cnt(거주 인구 합) : 14541.518092966053\n",
      "이도2동그룹별 예측 결과\n",
      "7월의 sum_resd_pop_cnt(거주 인구 합) : 48541.44080814256\n",
      "8월의 sum_resd_pop_cnt(거주 인구 합) : 17059.469389037375\n",
      "이호동그룹별 예측 결과\n",
      "7월의 sum_resd_pop_cnt(거주 인구 합) : 20771.023224595217\n",
      "8월의 sum_resd_pop_cnt(거주 인구 합) : -5195.574221088956\n",
      "일도1동그룹별 예측 결과\n",
      "7월의 sum_resd_pop_cnt(거주 인구 합) : 6864.576601317283\n",
      "8월의 sum_resd_pop_cnt(거주 인구 합) : -1297.695735459348\n",
      "일도2동그룹별 예측 결과\n",
      "7월의 sum_resd_pop_cnt(거주 인구 합) : 15899.039138226308\n",
      "8월의 sum_resd_pop_cnt(거주 인구 합) : 902.548600809843\n",
      "정방동그룹별 예측 결과\n",
      "7월의 sum_resd_pop_cnt(거주 인구 합) : -4148.626324348713\n",
      "8월의 sum_resd_pop_cnt(거주 인구 합) : 10832.981070532798\n",
      "조천읍그룹별 예측 결과\n",
      "7월의 sum_resd_pop_cnt(거주 인구 합) : 13443.994541517275\n",
      "8월의 sum_resd_pop_cnt(거주 인구 합) : 8189.312354733065\n",
      "중문동그룹별 예측 결과\n",
      "7월의 sum_resd_pop_cnt(거주 인구 합) : 8243.669547414609\n",
      "8월의 sum_resd_pop_cnt(거주 인구 합) : 5667.016462100507\n",
      "중앙동그룹별 예측 결과\n",
      "7월의 sum_resd_pop_cnt(거주 인구 합) : -3364.354519442389\n",
      "8월의 sum_resd_pop_cnt(거주 인구 합) : 8664.38445054396\n",
      "천지동그룹별 예측 결과\n",
      "7월의 sum_resd_pop_cnt(거주 인구 합) : 1518.5969694750427\n",
      "8월의 sum_resd_pop_cnt(거주 인구 합) : 1286.2102959033919\n",
      "추자면그룹별 예측 결과\n",
      "7월의 sum_resd_pop_cnt(거주 인구 합) : 4517.981427482731\n",
      "8월의 sum_resd_pop_cnt(거주 인구 합) : 15941.438682255852\n",
      "표선면그룹별 예측 결과\n",
      "7월의 sum_resd_pop_cnt(거주 인구 합) : -7232.685389202874\n",
      "8월의 sum_resd_pop_cnt(거주 인구 합) : 13911.400141605904\n",
      "한경면그룹별 예측 결과\n",
      "7월의 sum_resd_pop_cnt(거주 인구 합) : 10259.218847035187\n",
      "8월의 sum_resd_pop_cnt(거주 인구 합) : 12376.83991579473\n",
      "한림읍그룹별 예측 결과\n",
      "7월의 sum_resd_pop_cnt(거주 인구 합) : 47918.628621012416\n",
      "8월의 sum_resd_pop_cnt(거주 인구 합) : 96781.57179282051\n",
      "화북동그룹별 예측 결과\n",
      "7월의 sum_resd_pop_cnt(거주 인구 합) : 12553.9281109381\n",
      "8월의 sum_resd_pop_cnt(거주 인구 합) : 27933.097927202052\n",
      "효돈동그룹별 예측 결과\n",
      "7월의 sum_resd_pop_cnt(거주 인구 합) : 5641.391500622558\n",
      "8월의 sum_resd_pop_cnt(거주 인구 합) : -157.87033256770962\n"
     ]
    }
   ],
   "source": [
    "# 1. sum_resd_pop_cnt\n",
    "# 국적(nationality) 그룹별로 예측하기\n",
    "for c in dong:\n",
    "    sum_july1 = 0\n",
    "    sum_august1 = 0\n",
    "    new_df = long_df[long_df['emd_nm']==c]\n",
    "    new_df = new_df.rename(columns = {'m' : 'ds', 'sum_resd_pop_cnt' : 'y'})\n",
    "    df_grouped = new_df.groupby('nationality_group')   \n",
    "    df_final1 = pd.DataFrame()\n",
    "    for g in df_grouped.groups:\n",
    "        group = df_grouped.get_group(g)\n",
    "        m = Prophet()\n",
    "        m.daily_seasonality=True\n",
    "        m.weekly_seasonality=True\n",
    "        m.fit(group)\n",
    "        future = m.make_future_dataframe(freq ='M', periods=2)\n",
    "        forecast = m.predict(future)\n",
    "        forecast = forecast.rename(columns={'yhat': 'yhat_'+g})\n",
    "        df_final1 = pd.merge(df_final1, forecast.set_index('ds'), how='outer', left_index=True, right_index=True)\n",
    "\n",
    "    df_final1 = df_final1[['yhat_' + g for g in df_grouped.groups.keys()]]\n",
    "    print(c + \"그룹별 예측 결과\")\n",
    "    for i in range(5):\n",
    "        sum_july1 += df_final1.iloc[-2,i]\n",
    "        sum_august1 += df_final1.iloc[-1,i]\n",
    "    print(f'7월의 sum_resd_pop_cnt(거주 인구 합) : {sum_july1}')\n",
    "    print(f'8월의 sum_resd_pop_cnt(거주 인구 합) : {sum_august1}')"
   ]
  },
  {
   "cell_type": "code",
   "execution_count": 62,
   "metadata": {
    "scrolled": false
   },
   "outputs": [
    {
     "name": "stdout",
     "output_type": "stream",
     "text": [
      "건입동 그룹별 예측 결과\n",
      "7월의 sum_work_pop_cnt(근무 인구 합) : 12821.035943812818\n",
      "8월의 sum_work_pop_cnt(근무 인구 합) : 27909.234904564364\n",
      "구좌읍 그룹별 예측 결과\n",
      "7월의 sum_work_pop_cnt(근무 인구 합) : 1389.0433255996022\n",
      "8월의 sum_work_pop_cnt(근무 인구 합) : 17828.91271049444\n",
      "남원읍 그룹별 예측 결과\n",
      "7월의 sum_work_pop_cnt(근무 인구 합) : 13096.222161924434\n",
      "8월의 sum_work_pop_cnt(근무 인구 합) : 5806.054177996325\n",
      "노형동 그룹별 예측 결과\n",
      "7월의 sum_work_pop_cnt(근무 인구 합) : 48424.0807630004\n",
      "8월의 sum_work_pop_cnt(근무 인구 합) : 102314.82633043952\n",
      "대륜동 그룹별 예측 결과\n",
      "7월의 sum_work_pop_cnt(근무 인구 합) : 1184.4923452113917\n",
      "8월의 sum_work_pop_cnt(근무 인구 합) : 12009.211175175016\n",
      "대정읍 그룹별 예측 결과\n",
      "7월의 sum_work_pop_cnt(근무 인구 합) : 29245.963288561325\n",
      "8월의 sum_work_pop_cnt(근무 인구 합) : 48392.77126729214\n",
      "대천동 그룹별 예측 결과\n",
      "7월의 sum_work_pop_cnt(근무 인구 합) : 3234.3282244502498\n",
      "8월의 sum_work_pop_cnt(근무 인구 합) : 2168.3921443799863\n",
      "도두동 그룹별 예측 결과\n",
      "7월의 sum_work_pop_cnt(근무 인구 합) : 2540.2066510970585\n",
      "8월의 sum_work_pop_cnt(근무 인구 합) : 7681.548230906168\n",
      "동홍동 그룹별 예측 결과\n",
      "7월의 sum_work_pop_cnt(근무 인구 합) : -7585.5538149914355\n",
      "8월의 sum_work_pop_cnt(근무 인구 합) : 1963.8297841212534\n",
      "봉개동 그룹별 예측 결과\n",
      "7월의 sum_work_pop_cnt(근무 인구 합) : -1626.3010396797195\n",
      "8월의 sum_work_pop_cnt(근무 인구 합) : -1245.0032815506133\n",
      "삼도1동 그룹별 예측 결과\n",
      "7월의 sum_work_pop_cnt(근무 인구 합) : 7569.356851450389\n",
      "8월의 sum_work_pop_cnt(근무 인구 합) : 1174.7178966446606\n",
      "삼도2동 그룹별 예측 결과\n",
      "7월의 sum_work_pop_cnt(근무 인구 합) : 6716.304265125275\n",
      "8월의 sum_work_pop_cnt(근무 인구 합) : 7463.973207445003\n",
      "삼양동 그룹별 예측 결과\n",
      "7월의 sum_work_pop_cnt(근무 인구 합) : 8950.265683767087\n",
      "8월의 sum_work_pop_cnt(근무 인구 합) : -6586.138657572357\n",
      "서홍동 그룹별 예측 결과\n",
      "7월의 sum_work_pop_cnt(근무 인구 합) : 4967.7783327756415\n",
      "8월의 sum_work_pop_cnt(근무 인구 합) : 3041.557420202407\n",
      "성산읍 그룹별 예측 결과\n",
      "7월의 sum_work_pop_cnt(근무 인구 합) : 24878.471474795606\n",
      "8월의 sum_work_pop_cnt(근무 인구 합) : 14865.093040376658\n",
      "송산동 그룹별 예측 결과\n",
      "7월의 sum_work_pop_cnt(근무 인구 합) : 7762.852570224314\n",
      "8월의 sum_work_pop_cnt(근무 인구 합) : 11869.212302864778\n",
      "아라동 그룹별 예측 결과\n",
      "7월의 sum_work_pop_cnt(근무 인구 합) : 17927.84890232939\n",
      "8월의 sum_work_pop_cnt(근무 인구 합) : 2495.938538781177\n",
      "안덕면 그룹별 예측 결과\n",
      "7월의 sum_work_pop_cnt(근무 인구 합) : 2883.5746298833137\n",
      "8월의 sum_work_pop_cnt(근무 인구 합) : 85672.7430546287\n",
      "애월읍 그룹별 예측 결과\n",
      "7월의 sum_work_pop_cnt(근무 인구 합) : 59573.272329023566\n",
      "8월의 sum_work_pop_cnt(근무 인구 합) : 94474.86164187524\n",
      "연동 그룹별 예측 결과\n",
      "7월의 sum_work_pop_cnt(근무 인구 합) : 10779.180087752256\n",
      "8월의 sum_work_pop_cnt(근무 인구 합) : 118258.51825284294\n",
      "영천동 그룹별 예측 결과\n",
      "7월의 sum_work_pop_cnt(근무 인구 합) : 18672.942937082687\n",
      "8월의 sum_work_pop_cnt(근무 인구 합) : -2462.7630190755854\n",
      "예래동 그룹별 예측 결과\n",
      "7월의 sum_work_pop_cnt(근무 인구 합) : 3339.3824153387313\n",
      "8월의 sum_work_pop_cnt(근무 인구 합) : 33604.201563408315\n",
      "오라동 그룹별 예측 결과\n",
      "7월의 sum_work_pop_cnt(근무 인구 합) : 4445.724097850292\n",
      "8월의 sum_work_pop_cnt(근무 인구 합) : 18618.046783679903\n",
      "외도동 그룹별 예측 결과\n",
      "7월의 sum_work_pop_cnt(근무 인구 합) : 350.93214233674246\n",
      "8월의 sum_work_pop_cnt(근무 인구 합) : 13053.824802312605\n",
      "용담1동 그룹별 예측 결과\n",
      "7월의 sum_work_pop_cnt(근무 인구 합) : 5417.31324090103\n",
      "8월의 sum_work_pop_cnt(근무 인구 합) : 218.85619638715337\n",
      "용담2동 그룹별 예측 결과\n",
      "7월의 sum_work_pop_cnt(근무 인구 합) : 1544.859639401669\n",
      "8월의 sum_work_pop_cnt(근무 인구 합) : 20903.703028057804\n",
      "우도면 그룹별 예측 결과\n",
      "7월의 sum_work_pop_cnt(근무 인구 합) : 1644.41579816621\n",
      "8월의 sum_work_pop_cnt(근무 인구 합) : 2747.0722327061567\n",
      "이도1동 그룹별 예측 결과\n",
      "7월의 sum_work_pop_cnt(근무 인구 합) : 5419.278329364881\n",
      "8월의 sum_work_pop_cnt(근무 인구 합) : 14541.518092966053\n",
      "이도2동 그룹별 예측 결과\n",
      "7월의 sum_work_pop_cnt(근무 인구 합) : 48541.44080814256\n",
      "8월의 sum_work_pop_cnt(근무 인구 합) : 17059.469389037375\n",
      "이호동 그룹별 예측 결과\n",
      "7월의 sum_work_pop_cnt(근무 인구 합) : 20771.023224595217\n",
      "8월의 sum_work_pop_cnt(근무 인구 합) : -5195.574221088956\n",
      "일도1동 그룹별 예측 결과\n",
      "7월의 sum_work_pop_cnt(근무 인구 합) : 6864.576601317283\n",
      "8월의 sum_work_pop_cnt(근무 인구 합) : -1297.695735459348\n",
      "일도2동 그룹별 예측 결과\n",
      "7월의 sum_work_pop_cnt(근무 인구 합) : 15899.039138226308\n",
      "8월의 sum_work_pop_cnt(근무 인구 합) : 902.548600809843\n",
      "정방동 그룹별 예측 결과\n",
      "7월의 sum_work_pop_cnt(근무 인구 합) : -4148.626324348713\n",
      "8월의 sum_work_pop_cnt(근무 인구 합) : 10832.981070532798\n",
      "조천읍 그룹별 예측 결과\n",
      "7월의 sum_work_pop_cnt(근무 인구 합) : 13443.994541517275\n",
      "8월의 sum_work_pop_cnt(근무 인구 합) : 8189.312354733065\n",
      "중문동 그룹별 예측 결과\n",
      "7월의 sum_work_pop_cnt(근무 인구 합) : 8243.669547414609\n",
      "8월의 sum_work_pop_cnt(근무 인구 합) : 5667.016462100507\n",
      "중앙동 그룹별 예측 결과\n",
      "7월의 sum_work_pop_cnt(근무 인구 합) : -3364.354519442389\n",
      "8월의 sum_work_pop_cnt(근무 인구 합) : 8664.38445054396\n",
      "천지동 그룹별 예측 결과\n",
      "7월의 sum_work_pop_cnt(근무 인구 합) : 1518.5969694750427\n",
      "8월의 sum_work_pop_cnt(근무 인구 합) : 1286.2102959033919\n",
      "추자면 그룹별 예측 결과\n",
      "7월의 sum_work_pop_cnt(근무 인구 합) : 4517.981427482731\n",
      "8월의 sum_work_pop_cnt(근무 인구 합) : 15941.438682255852\n",
      "표선면 그룹별 예측 결과\n",
      "7월의 sum_work_pop_cnt(근무 인구 합) : -7232.685389202874\n",
      "8월의 sum_work_pop_cnt(근무 인구 합) : 13911.400141605904\n",
      "한경면 그룹별 예측 결과\n",
      "7월의 sum_work_pop_cnt(근무 인구 합) : 10259.218847035187\n",
      "8월의 sum_work_pop_cnt(근무 인구 합) : 12376.83991579473\n",
      "한림읍 그룹별 예측 결과\n",
      "7월의 sum_work_pop_cnt(근무 인구 합) : 47918.628621012416\n",
      "8월의 sum_work_pop_cnt(근무 인구 합) : 96781.57179282051\n",
      "화북동 그룹별 예측 결과\n",
      "7월의 sum_work_pop_cnt(근무 인구 합) : 12553.9281109381\n",
      "8월의 sum_work_pop_cnt(근무 인구 합) : 27933.097927202052\n",
      "효돈동 그룹별 예측 결과\n",
      "7월의 sum_work_pop_cnt(근무 인구 합) : 5641.391500622558\n",
      "8월의 sum_work_pop_cnt(근무 인구 합) : -157.87033256770962\n"
     ]
    }
   ],
   "source": [
    "# 2. sum_work_pop_cnt\n",
    "# 국적(nationality) 그룹별로 예측하기\n",
    "for c in dong:\n",
    "    sum_july2 = 0\n",
    "    sum_august2 = 0\n",
    "    new_df = long_df[long_df['emd_nm']==c]\n",
    "    new_df = new_df.rename(columns = {'m' : 'ds', 'sum_work_pop_cnt' : 'y'})\n",
    "    df_grouped = new_df.groupby('nationality_group')   \n",
    "    df_final2 = pd.DataFrame()\n",
    "    for g in df_grouped.groups:\n",
    "        group = df_grouped.get_group(g)\n",
    "        m = Prophet()\n",
    "        m.daily_seasonality=True\n",
    "        m.weekly_seasonality=True\n",
    "        m.fit(group)\n",
    "        future = m.make_future_dataframe(freq ='M', periods=2)\n",
    "        forecast = m.predict(future)\n",
    "        forecast = forecast.rename(columns={'yhat': 'yhat_'+g})\n",
    "        df_final2 = pd.merge(df_final2, forecast.set_index('ds'), how='outer', left_index=True, right_index=True)\n",
    "\n",
    "    df_final2 = df_final2[['yhat_' + g for g in df_grouped.groups.keys()]]\n",
    "    print(c + \" 그룹별 예측 결과\")\n",
    "    for i in range(5):\n",
    "        sum_july2 += df_final2.iloc[-2,i]\n",
    "        sum_august2 += df_final2.iloc[-1,i]\n",
    "    print(f'7월의 sum_work_pop_cnt(근무 인구 합) : {sum_july2}')\n",
    "    print(f'8월의 sum_work_pop_cnt(근무 인구 합) : {sum_august2}')"
   ]
  },
  {
   "cell_type": "markdown",
   "metadata": {},
   "source": [
    "데이터 값이 0에 근접해 있다면, 계절변동에 의해 negative(음수)의 예측값을 내놓을 수 있음. \n",
    "따라서 이경우, 음수인 예측값들은 0으로 생각."
   ]
  },
  {
   "cell_type": "code",
   "execution_count": 64,
   "metadata": {
    "scrolled": false
   },
   "outputs": [
    {
     "name": "stdout",
     "output_type": "stream",
     "text": [
      "건입동 그룹별 예측 결과\n",
      "7월의 sum_visit_pop_cnt(방문 인구 합) : 137177.78662951305\n",
      "8월의 sum_visit_pop_cnt(방문 인구 합) : 218305.90620717462\n",
      "구좌읍 그룹별 예측 결과\n",
      "7월의 sum_visit_pop_cnt(방문 인구 합) : 70876.4132718484\n",
      "8월의 sum_visit_pop_cnt(방문 인구 합) : 255916.61013910826\n",
      "남원읍 그룹별 예측 결과\n",
      "7월의 sum_visit_pop_cnt(방문 인구 합) : 185832.2778973061\n",
      "8월의 sum_visit_pop_cnt(방문 인구 합) : 206713.06265903436\n",
      "노형동 그룹별 예측 결과\n",
      "7월의 sum_visit_pop_cnt(방문 인구 합) : 298791.5422655778\n",
      "8월의 sum_visit_pop_cnt(방문 인구 합) : 529539.9289740208\n",
      "대륜동 그룹별 예측 결과\n",
      "7월의 sum_visit_pop_cnt(방문 인구 합) : 51683.25248822802\n",
      "8월의 sum_visit_pop_cnt(방문 인구 합) : 130731.08137481188\n",
      "대정읍 그룹별 예측 결과\n",
      "7월의 sum_visit_pop_cnt(방문 인구 합) : 174989.990414961\n",
      "8월의 sum_visit_pop_cnt(방문 인구 합) : 351519.63782250154\n",
      "대천동 그룹별 예측 결과\n",
      "7월의 sum_visit_pop_cnt(방문 인구 합) : 5090.571509145679\n",
      "8월의 sum_visit_pop_cnt(방문 인구 합) : 114973.79781532047\n",
      "도두동 그룹별 예측 결과\n",
      "7월의 sum_visit_pop_cnt(방문 인구 합) : 48325.44569502522\n",
      "8월의 sum_visit_pop_cnt(방문 인구 합) : 58436.4447231182\n",
      "동홍동 그룹별 예측 결과\n",
      "7월의 sum_visit_pop_cnt(방문 인구 합) : 75879.18338654244\n",
      "8월의 sum_visit_pop_cnt(방문 인구 합) : 113920.27439222133\n",
      "봉개동 그룹별 예측 결과\n",
      "7월의 sum_visit_pop_cnt(방문 인구 합) : 5759.363640726108\n",
      "8월의 sum_visit_pop_cnt(방문 인구 합) : 153538.8795070894\n",
      "삼도1동 그룹별 예측 결과\n",
      "7월의 sum_visit_pop_cnt(방문 인구 합) : 26078.00593888664\n",
      "8월의 sum_visit_pop_cnt(방문 인구 합) : 68591.23767344082\n",
      "삼도2동 그룹별 예측 결과\n",
      "7월의 sum_visit_pop_cnt(방문 인구 합) : 50946.198535966316\n",
      "8월의 sum_visit_pop_cnt(방문 인구 합) : 72241.94083555092\n",
      "삼양동 그룹별 예측 결과\n",
      "7월의 sum_visit_pop_cnt(방문 인구 합) : 6536.178493201911\n",
      "8월의 sum_visit_pop_cnt(방문 인구 합) : 38226.89536355827\n",
      "서홍동 그룹별 예측 결과\n",
      "7월의 sum_visit_pop_cnt(방문 인구 합) : 142781.59274116004\n",
      "8월의 sum_visit_pop_cnt(방문 인구 합) : 171846.02542496528\n",
      "성산읍 그룹별 예측 결과\n",
      "7월의 sum_visit_pop_cnt(방문 인구 합) : 85117.2184842773\n",
      "8월의 sum_visit_pop_cnt(방문 인구 합) : 382861.5511488876\n",
      "송산동 그룹별 예측 결과\n",
      "7월의 sum_visit_pop_cnt(방문 인구 합) : 71030.2505377457\n",
      "8월의 sum_visit_pop_cnt(방문 인구 합) : 143064.95500903332\n",
      "아라동 그룹별 예측 결과\n",
      "7월의 sum_visit_pop_cnt(방문 인구 합) : 91377.6479144838\n",
      "8월의 sum_visit_pop_cnt(방문 인구 합) : 187608.79532853587\n",
      "안덕면 그룹별 예측 결과\n",
      "7월의 sum_visit_pop_cnt(방문 인구 합) : 134050.40546774285\n",
      "8월의 sum_visit_pop_cnt(방문 인구 합) : 444947.7578935255\n",
      "애월읍 그룹별 예측 결과\n",
      "7월의 sum_visit_pop_cnt(방문 인구 합) : 583021.38495754\n",
      "8월의 sum_visit_pop_cnt(방문 인구 합) : 1028963.6231310589\n",
      "연동 그룹별 예측 결과\n",
      "7월의 sum_visit_pop_cnt(방문 인구 합) : 377937.7401608225\n",
      "8월의 sum_visit_pop_cnt(방문 인구 합) : 533933.0268654205\n",
      "영천동 그룹별 예측 결과\n",
      "7월의 sum_visit_pop_cnt(방문 인구 합) : 117192.1193962263\n",
      "8월의 sum_visit_pop_cnt(방문 인구 합) : 225095.26145565833\n",
      "예래동 그룹별 예측 결과\n",
      "7월의 sum_visit_pop_cnt(방문 인구 합) : 34541.929957791166\n",
      "8월의 sum_visit_pop_cnt(방문 인구 합) : 130299.60017733072\n",
      "오라동 그룹별 예측 결과\n",
      "7월의 sum_visit_pop_cnt(방문 인구 합) : 107668.50754823949\n",
      "8월의 sum_visit_pop_cnt(방문 인구 합) : 130111.52057931673\n",
      "외도동 그룹별 예측 결과\n",
      "7월의 sum_visit_pop_cnt(방문 인구 합) : 46034.73965501861\n",
      "8월의 sum_visit_pop_cnt(방문 인구 합) : 61765.91423383943\n",
      "용담1동 그룹별 예측 결과\n",
      "7월의 sum_visit_pop_cnt(방문 인구 합) : 19802.509121083538\n",
      "8월의 sum_visit_pop_cnt(방문 인구 합) : 41832.55129634172\n",
      "용담2동 그룹별 예측 결과\n",
      "7월의 sum_visit_pop_cnt(방문 인구 합) : 117255.38631960307\n",
      "8월의 sum_visit_pop_cnt(방문 인구 합) : 174919.87602363902\n",
      "우도면 그룹별 예측 결과\n",
      "7월의 sum_visit_pop_cnt(방문 인구 합) : 19194.745236009643\n",
      "8월의 sum_visit_pop_cnt(방문 인구 합) : 220813.7470205165\n",
      "이도1동 그룹별 예측 결과\n",
      "7월의 sum_visit_pop_cnt(방문 인구 합) : 48800.3872261656\n",
      "8월의 sum_visit_pop_cnt(방문 인구 합) : 99215.1897448242\n",
      "이도2동 그룹별 예측 결과\n",
      "7월의 sum_visit_pop_cnt(방문 인구 합) : 142789.0981524899\n",
      "8월의 sum_visit_pop_cnt(방문 인구 합) : 161762.69239973745\n",
      "이호동 그룹별 예측 결과\n",
      "7월의 sum_visit_pop_cnt(방문 인구 합) : 34903.22316296676\n",
      "8월의 sum_visit_pop_cnt(방문 인구 합) : 76340.70192210368\n",
      "일도1동 그룹별 예측 결과\n",
      "7월의 sum_visit_pop_cnt(방문 인구 합) : 43354.64124950355\n",
      "8월의 sum_visit_pop_cnt(방문 인구 합) : 45354.47979980348\n",
      "일도2동 그룹별 예측 결과\n",
      "7월의 sum_visit_pop_cnt(방문 인구 합) : 51497.3706720168\n",
      "8월의 sum_visit_pop_cnt(방문 인구 합) : 61763.66898311642\n",
      "정방동 그룹별 예측 결과\n",
      "7월의 sum_visit_pop_cnt(방문 인구 합) : 34580.867072838446\n",
      "8월의 sum_visit_pop_cnt(방문 인구 합) : 227445.46034310607\n",
      "조천읍 그룹별 예측 결과\n",
      "7월의 sum_visit_pop_cnt(방문 인구 합) : 136480.7142050861\n",
      "8월의 sum_visit_pop_cnt(방문 인구 합) : 237730.20436742058\n",
      "중문동 그룹별 예측 결과\n",
      "7월의 sum_visit_pop_cnt(방문 인구 합) : 214585.4450276429\n",
      "8월의 sum_visit_pop_cnt(방문 인구 합) : 219903.899550691\n",
      "중앙동 그룹별 예측 결과\n",
      "7월의 sum_visit_pop_cnt(방문 인구 합) : 41636.15446565336\n",
      "8월의 sum_visit_pop_cnt(방문 인구 합) : 76308.89401428514\n",
      "천지동 그룹별 예측 결과\n",
      "7월의 sum_visit_pop_cnt(방문 인구 합) : 15701.280453189447\n",
      "8월의 sum_visit_pop_cnt(방문 인구 합) : 85852.10972180049\n",
      "추자면 그룹별 예측 결과\n",
      "7월의 sum_visit_pop_cnt(방문 인구 합) : 141292.8470091014\n",
      "8월의 sum_visit_pop_cnt(방문 인구 합) : 201509.3575691029\n",
      "표선면 그룹별 예측 결과\n",
      "7월의 sum_visit_pop_cnt(방문 인구 합) : 34337.55807724576\n",
      "8월의 sum_visit_pop_cnt(방문 인구 합) : 96205.39581010996\n",
      "한경면 그룹별 예측 결과\n",
      "7월의 sum_visit_pop_cnt(방문 인구 합) : 198110.0546976344\n",
      "8월의 sum_visit_pop_cnt(방문 인구 합) : 169723.51329733667\n",
      "한림읍 그룹별 예측 결과\n",
      "7월의 sum_visit_pop_cnt(방문 인구 합) : 517247.33682806214\n",
      "8월의 sum_visit_pop_cnt(방문 인구 합) : 538133.3391336005\n",
      "화북동 그룹별 예측 결과\n",
      "7월의 sum_visit_pop_cnt(방문 인구 합) : 44564.81090214233\n",
      "8월의 sum_visit_pop_cnt(방문 인구 합) : 39802.25403487792\n",
      "효돈동 그룹별 예측 결과\n",
      "7월의 sum_visit_pop_cnt(방문 인구 합) : 15664.00248105216\n",
      "8월의 sum_visit_pop_cnt(방문 인구 합) : 23222.329986578057\n"
     ]
    }
   ],
   "source": [
    "# 3. sum_visit_pop_cnt\n",
    "# 국적(nationality) 그룹별로 예측하기\n",
    "for c in dong:\n",
    "    sum_july3 = 0\n",
    "    sum_august3 = 0\n",
    "    new_df = long_df[long_df['emd_nm']==c]\n",
    "    new_df = new_df.rename(columns = {'m' : 'ds', 'sum_visit_pop_cnt' : 'y'})\n",
    "    df_grouped = new_df.groupby('nationality_group')   \n",
    "    df_final3 = pd.DataFrame()\n",
    "    for g in df_grouped.groups:\n",
    "        group = df_grouped.get_group(g)\n",
    "        m = Prophet()\n",
    "        m.daily_seasonality=True\n",
    "        m.weekly_seasonality=True\n",
    "        m.fit(group)\n",
    "        future = m.make_future_dataframe(freq ='M', periods=2)\n",
    "        forecast = m.predict(future)\n",
    "        forecast = forecast.rename(columns={'yhat': 'yhat_'+g})\n",
    "        df_final3 = pd.merge(df_final3, forecast.set_index('ds'), how='outer', left_index=True, right_index=True)\n",
    "\n",
    "    df_final3 = df_final3[['yhat_' + g for g in df_grouped.groups.keys()]]\n",
    "    print(c + \" 그룹별 예측 결과\")\n",
    "    for i in range(5):\n",
    "        sum_july3 += df_final3.iloc[-2,i]\n",
    "        sum_august3 += df_final3.iloc[-1,i]\n",
    "    print(f'7월의 sum_visit_pop_cnt(방문 인구 합) : {sum_july3}')\n",
    "    print(f'8월의 sum_visit_pop_cnt(방문 인구 합) : {sum_august3}')"
   ]
  },
  {
   "cell_type": "markdown",
   "metadata": {},
   "source": [
    "## month_short_term_frgn 단기체류"
   ]
  },
  {
   "cell_type": "markdown",
   "metadata": {},
   "source": [
    "4. visit_pop_cnt ~ nationality group별로"
   ]
  },
  {
   "cell_type": "code",
   "execution_count": 65,
   "metadata": {},
   "outputs": [
    {
     "data": {
      "text/html": [
       "<div>\n",
       "<style scoped>\n",
       "    .dataframe tbody tr th:only-of-type {\n",
       "        vertical-align: middle;\n",
       "    }\n",
       "\n",
       "    .dataframe tbody tr th {\n",
       "        vertical-align: top;\n",
       "    }\n",
       "\n",
       "    .dataframe thead th {\n",
       "        text-align: right;\n",
       "    }\n",
       "</style>\n",
       "<table border=\"1\" class=\"dataframe\">\n",
       "  <thead>\n",
       "    <tr style=\"text-align: right;\">\n",
       "      <th></th>\n",
       "      <th>m</th>\n",
       "      <th>nationality</th>\n",
       "      <th>count_num</th>\n",
       "      <th>emd_cd</th>\n",
       "      <th>emd_nm</th>\n",
       "      <th>visit_pop_cnt</th>\n",
       "    </tr>\n",
       "  </thead>\n",
       "  <tbody>\n",
       "    <tr>\n",
       "      <th>0</th>\n",
       "      <td>2018-01</td>\n",
       "      <td>CHN</td>\n",
       "      <td>744</td>\n",
       "      <td>50110590</td>\n",
       "      <td>건입동</td>\n",
       "      <td>30589.4398</td>\n",
       "    </tr>\n",
       "    <tr>\n",
       "      <th>1</th>\n",
       "      <td>2018-01</td>\n",
       "      <td>CHN</td>\n",
       "      <td>744</td>\n",
       "      <td>50110256</td>\n",
       "      <td>구좌읍</td>\n",
       "      <td>26691.1513</td>\n",
       "    </tr>\n",
       "    <tr>\n",
       "      <th>2</th>\n",
       "      <td>2018-01</td>\n",
       "      <td>CHN</td>\n",
       "      <td>744</td>\n",
       "      <td>50130253</td>\n",
       "      <td>남원읍</td>\n",
       "      <td>179846.0273</td>\n",
       "    </tr>\n",
       "    <tr>\n",
       "      <th>3</th>\n",
       "      <td>2018-01</td>\n",
       "      <td>CHN</td>\n",
       "      <td>744</td>\n",
       "      <td>50110660</td>\n",
       "      <td>노형동</td>\n",
       "      <td>145583.1902</td>\n",
       "    </tr>\n",
       "    <tr>\n",
       "      <th>4</th>\n",
       "      <td>2018-01</td>\n",
       "      <td>CHN</td>\n",
       "      <td>742</td>\n",
       "      <td>50130590</td>\n",
       "      <td>대륜동</td>\n",
       "      <td>22743.8459</td>\n",
       "    </tr>\n",
       "    <tr>\n",
       "      <th>...</th>\n",
       "      <td>...</td>\n",
       "      <td>...</td>\n",
       "      <td>...</td>\n",
       "      <td>...</td>\n",
       "      <td>...</td>\n",
       "      <td>...</td>\n",
       "    </tr>\n",
       "    <tr>\n",
       "      <th>16250</th>\n",
       "      <td>2021-06</td>\n",
       "      <td>VNM</td>\n",
       "      <td>126</td>\n",
       "      <td>50110320</td>\n",
       "      <td>추자면</td>\n",
       "      <td>36.6789</td>\n",
       "    </tr>\n",
       "    <tr>\n",
       "      <th>16251</th>\n",
       "      <td>2021-06</td>\n",
       "      <td>VNM</td>\n",
       "      <td>39</td>\n",
       "      <td>50130320</td>\n",
       "      <td>표선면</td>\n",
       "      <td>9.2223</td>\n",
       "    </tr>\n",
       "    <tr>\n",
       "      <th>16252</th>\n",
       "      <td>2021-06</td>\n",
       "      <td>VNM</td>\n",
       "      <td>45</td>\n",
       "      <td>50110310</td>\n",
       "      <td>한경면</td>\n",
       "      <td>11.1088</td>\n",
       "    </tr>\n",
       "    <tr>\n",
       "      <th>16253</th>\n",
       "      <td>2021-06</td>\n",
       "      <td>VNM</td>\n",
       "      <td>37</td>\n",
       "      <td>50110250</td>\n",
       "      <td>한림읍</td>\n",
       "      <td>7.7552</td>\n",
       "    </tr>\n",
       "    <tr>\n",
       "      <th>16254</th>\n",
       "      <td>2021-06</td>\n",
       "      <td>VNM</td>\n",
       "      <td>2</td>\n",
       "      <td>50130550</td>\n",
       "      <td>효돈동</td>\n",
       "      <td>0.4192</td>\n",
       "    </tr>\n",
       "  </tbody>\n",
       "</table>\n",
       "<p>16255 rows × 6 columns</p>\n",
       "</div>"
      ],
      "text/plain": [
       "             m nationality  count_num    emd_cd emd_nm  visit_pop_cnt\n",
       "0      2018-01         CHN        744  50110590    건입동     30589.4398\n",
       "1      2018-01         CHN        744  50110256    구좌읍     26691.1513\n",
       "2      2018-01         CHN        744  50130253    남원읍    179846.0273\n",
       "3      2018-01         CHN        744  50110660    노형동    145583.1902\n",
       "4      2018-01         CHN        742  50130590    대륜동     22743.8459\n",
       "...        ...         ...        ...       ...    ...            ...\n",
       "16250  2021-06         VNM        126  50110320    추자면        36.6789\n",
       "16251  2021-06         VNM         39  50130320    표선면         9.2223\n",
       "16252  2021-06         VNM         45  50110310    한경면        11.1088\n",
       "16253  2021-06         VNM         37  50110250    한림읍         7.7552\n",
       "16254  2021-06         VNM          2  50130550    효돈동         0.4192\n",
       "\n",
       "[16255 rows x 6 columns]"
      ]
     },
     "execution_count": 65,
     "metadata": {},
     "output_type": "execute_result"
    }
   ],
   "source": [
    "short_df = pd.read_csv(r'C:\\Users\\이현아\\Desktop\\월별데이터 정리\\month_short_term_frgn.csv')\n",
    "short_df"
   ]
  },
  {
   "cell_type": "code",
   "execution_count": 66,
   "metadata": {},
   "outputs": [
    {
     "data": {
      "text/plain": [
       "array(['CHN', 'ETC', 'HKG', 'IDN', 'JPN', 'MYS', 'SGP', 'THA', 'USA',\n",
       "       'VNM'], dtype=object)"
      ]
     },
     "execution_count": 66,
     "metadata": {},
     "output_type": "execute_result"
    }
   ],
   "source": [
    "short_df['nationality'].unique()"
   ]
  },
  {
   "cell_type": "markdown",
   "metadata": {},
   "source": [
    "### 1. grouping"
   ]
  },
  {
   "cell_type": "code",
   "execution_count": 67,
   "metadata": {},
   "outputs": [],
   "source": [
    "group1= ['VNM']\n",
    "group2 = ['JPN','SGP','IDN','MYS']\n",
    "group3 = ['USA','CHN','ETC']\n",
    "group4 = ['HKG','THA']"
   ]
  },
  {
   "cell_type": "code",
   "execution_count": 68,
   "metadata": {},
   "outputs": [],
   "source": [
    "for i in short_df.index:\n",
    "    if short_df.loc[i,'nationality'] in group1:\n",
    "        short_df.loc[i,'nationality_group'] = 'group1'\n",
    "    elif short_df.loc[i,'nationality'] in group2:\n",
    "        short_df.loc[i,'nationality_group'] = 'group2'\n",
    "    elif short_df.loc[i,'nationality'] in group3:\n",
    "        short_df.loc[i,'nationality_group'] = 'group3'\n",
    "    elif short_df.loc[i,'nationality'] in group4:\n",
    "        short_df.loc[i,'nationality_group'] = 'group4'"
   ]
  },
  {
   "cell_type": "code",
   "execution_count": 69,
   "metadata": {},
   "outputs": [
    {
     "data": {
      "text/plain": [
       "group2    6130\n",
       "group3    5397\n",
       "group4    3320\n",
       "group1    1408\n",
       "Name: nationality_group, dtype: int64"
      ]
     },
     "execution_count": 69,
     "metadata": {},
     "output_type": "execute_result"
    }
   ],
   "source": [
    "short_df['nationality_group'].value_counts()"
   ]
  },
  {
   "cell_type": "markdown",
   "metadata": {},
   "source": [
    "### 데이터 전처리"
   ]
  },
  {
   "cell_type": "code",
   "execution_count": 70,
   "metadata": {},
   "outputs": [],
   "source": [
    "# 우선, 시계열 데이터이므로 날짜를 datetime형식으로 변환\n",
    "short_df['m'] = pd.to_datetime(short_df.m, format = '%Y-%m')\n",
    "# short_df.info()"
   ]
  },
  {
   "cell_type": "code",
   "execution_count": 71,
   "metadata": {},
   "outputs": [],
   "source": [
    "dong = short_df['emd_nm'].unique()"
   ]
  },
  {
   "cell_type": "code",
   "execution_count": 73,
   "metadata": {},
   "outputs": [
    {
     "name": "stdout",
     "output_type": "stream",
     "text": [
      "건입동 그룹별 예측 결과\n",
      "7월의 sum_visit_pop_cnt(방문 인구 합) : -151.24916704595944\n",
      "8월의 sum_visit_pop_cnt(방문 인구 합) : 8442.972635677412\n",
      "구좌읍 그룹별 예측 결과\n",
      "7월의 sum_visit_pop_cnt(방문 인구 합) : -379.6980274262264\n",
      "8월의 sum_visit_pop_cnt(방문 인구 합) : 1993.4241840598715\n",
      "남원읍 그룹별 예측 결과\n",
      "7월의 sum_visit_pop_cnt(방문 인구 합) : -2357.9986013616644\n",
      "8월의 sum_visit_pop_cnt(방문 인구 합) : 14767.391124696576\n",
      "노형동 그룹별 예측 결과\n",
      "7월의 sum_visit_pop_cnt(방문 인구 합) : 16971.663803826297\n",
      "8월의 sum_visit_pop_cnt(방문 인구 합) : 23234.39183211902\n"
     ]
    },
    {
     "name": "stderr",
     "output_type": "stream",
     "text": [
      "INFO:fbprophet:n_changepoints greater than number of observations. Using 24.\n"
     ]
    },
    {
     "name": "stdout",
     "output_type": "stream",
     "text": [
      "대륜동 그룹별 예측 결과\n",
      "7월의 sum_visit_pop_cnt(방문 인구 합) : -738.3442699360312\n",
      "8월의 sum_visit_pop_cnt(방문 인구 합) : 2393.603592110829\n"
     ]
    },
    {
     "name": "stderr",
     "output_type": "stream",
     "text": [
      "INFO:fbprophet:n_changepoints greater than number of observations. Using 18.\n"
     ]
    },
    {
     "name": "stdout",
     "output_type": "stream",
     "text": [
      "대정읍 그룹별 예측 결과\n",
      "7월의 sum_visit_pop_cnt(방문 인구 합) : -10259.715522722327\n",
      "8월의 sum_visit_pop_cnt(방문 인구 합) : -2837.1507411911625\n"
     ]
    },
    {
     "name": "stderr",
     "output_type": "stream",
     "text": [
      "INFO:fbprophet:n_changepoints greater than number of observations. Using 19.\n"
     ]
    },
    {
     "name": "stdout",
     "output_type": "stream",
     "text": [
      "대천동 그룹별 예측 결과\n",
      "7월의 sum_visit_pop_cnt(방문 인구 합) : -10155.687219664087\n",
      "8월의 sum_visit_pop_cnt(방문 인구 합) : -1236.8281114083752\n"
     ]
    },
    {
     "name": "stderr",
     "output_type": "stream",
     "text": [
      "INFO:fbprophet:n_changepoints greater than number of observations. Using 22.\n"
     ]
    },
    {
     "name": "stdout",
     "output_type": "stream",
     "text": [
      "도두동 그룹별 예측 결과\n",
      "7월의 sum_visit_pop_cnt(방문 인구 합) : 28847.079818544484\n",
      "8월의 sum_visit_pop_cnt(방문 인구 합) : 33434.58981666736\n",
      "동홍동 그룹별 예측 결과\n",
      "7월의 sum_visit_pop_cnt(방문 인구 합) : nan\n",
      "8월의 sum_visit_pop_cnt(방문 인구 합) : nan\n"
     ]
    },
    {
     "name": "stderr",
     "output_type": "stream",
     "text": [
      "INFO:fbprophet:n_changepoints greater than number of observations. Using 18.\n"
     ]
    },
    {
     "name": "stdout",
     "output_type": "stream",
     "text": [
      "봉개동 그룹별 예측 결과\n",
      "7월의 sum_visit_pop_cnt(방문 인구 합) : 1278.4031657394457\n",
      "8월의 sum_visit_pop_cnt(방문 인구 합) : 11348.123207199425\n"
     ]
    },
    {
     "name": "stderr",
     "output_type": "stream",
     "text": [
      "INFO:fbprophet:n_changepoints greater than number of observations. Using 23.\n"
     ]
    },
    {
     "name": "stdout",
     "output_type": "stream",
     "text": [
      "삼도1동 그룹별 예측 결과\n",
      "7월의 sum_visit_pop_cnt(방문 인구 합) : nan\n",
      "8월의 sum_visit_pop_cnt(방문 인구 합) : nan\n"
     ]
    },
    {
     "name": "stderr",
     "output_type": "stream",
     "text": [
      "INFO:fbprophet:n_changepoints greater than number of observations. Using 15.\n"
     ]
    },
    {
     "name": "stdout",
     "output_type": "stream",
     "text": [
      "삼도2동 그룹별 예측 결과\n",
      "7월의 sum_visit_pop_cnt(방문 인구 합) : 3654.739864915392\n",
      "8월의 sum_visit_pop_cnt(방문 인구 합) : nan\n",
      "삼양동 그룹별 예측 결과\n",
      "7월의 sum_visit_pop_cnt(방문 인구 합) : nan\n",
      "8월의 sum_visit_pop_cnt(방문 인구 합) : nan\n",
      "서홍동 그룹별 예측 결과\n",
      "7월의 sum_visit_pop_cnt(방문 인구 합) : 13767.292901568597\n",
      "8월의 sum_visit_pop_cnt(방문 인구 합) : 24182.86136033768\n"
     ]
    },
    {
     "name": "stderr",
     "output_type": "stream",
     "text": [
      "INFO:fbprophet:n_changepoints greater than number of observations. Using 22.\n"
     ]
    },
    {
     "name": "stdout",
     "output_type": "stream",
     "text": [
      "성산읍 그룹별 예측 결과\n",
      "7월의 sum_visit_pop_cnt(방문 인구 합) : 2042.552727075371\n",
      "8월의 sum_visit_pop_cnt(방문 인구 합) : 9477.148476253818\n",
      "송산동 그룹별 예측 결과\n",
      "7월의 sum_visit_pop_cnt(방문 인구 합) : 1691.5354494303504\n",
      "8월의 sum_visit_pop_cnt(방문 인구 합) : 4708.985763031177\n",
      "아라동 그룹별 예측 결과\n",
      "7월의 sum_visit_pop_cnt(방문 인구 합) : -4366.320845154574\n",
      "8월의 sum_visit_pop_cnt(방문 인구 합) : 5185.156990279865\n",
      "안덕면 그룹별 예측 결과\n",
      "7월의 sum_visit_pop_cnt(방문 인구 합) : 40710.410019669915\n",
      "8월의 sum_visit_pop_cnt(방문 인구 합) : 37360.21782624359\n",
      "애월읍 그룹별 예측 결과\n",
      "7월의 sum_visit_pop_cnt(방문 인구 합) : 23747.533405347567\n",
      "8월의 sum_visit_pop_cnt(방문 인구 합) : 50170.30791974123\n",
      "연동 그룹별 예측 결과\n",
      "7월의 sum_visit_pop_cnt(방문 인구 합) : -24255.568486219752\n",
      "8월의 sum_visit_pop_cnt(방문 인구 합) : -8789.082809838657\n",
      "영천동 그룹별 예측 결과\n",
      "7월의 sum_visit_pop_cnt(방문 인구 합) : -331.63899182036766\n",
      "8월의 sum_visit_pop_cnt(방문 인구 합) : 4928.972224737298\n"
     ]
    },
    {
     "name": "stderr",
     "output_type": "stream",
     "text": [
      "INFO:fbprophet:n_changepoints greater than number of observations. Using 21.\n"
     ]
    },
    {
     "name": "stdout",
     "output_type": "stream",
     "text": [
      "예래동 그룹별 예측 결과\n",
      "7월의 sum_visit_pop_cnt(방문 인구 합) : 15094.567980194783\n",
      "8월의 sum_visit_pop_cnt(방문 인구 합) : 24623.383826983656\n"
     ]
    },
    {
     "name": "stderr",
     "output_type": "stream",
     "text": [
      "INFO:fbprophet:n_changepoints greater than number of observations. Using 15.\n"
     ]
    },
    {
     "name": "stdout",
     "output_type": "stream",
     "text": [
      "오라동 그룹별 예측 결과\n",
      "7월의 sum_visit_pop_cnt(방문 인구 합) : nan\n",
      "8월의 sum_visit_pop_cnt(방문 인구 합) : nan\n",
      "외도동 그룹별 예측 결과\n",
      "7월의 sum_visit_pop_cnt(방문 인구 합) : nan\n",
      "8월의 sum_visit_pop_cnt(방문 인구 합) : nan\n"
     ]
    },
    {
     "name": "stderr",
     "output_type": "stream",
     "text": [
      "INFO:fbprophet:n_changepoints greater than number of observations. Using 19.\n"
     ]
    },
    {
     "name": "stdout",
     "output_type": "stream",
     "text": [
      "용담1동 그룹별 예측 결과\n",
      "7월의 sum_visit_pop_cnt(방문 인구 합) : nan\n",
      "8월의 sum_visit_pop_cnt(방문 인구 합) : nan\n",
      "용담2동 그룹별 예측 결과\n",
      "7월의 sum_visit_pop_cnt(방문 인구 합) : -6024.096057804814\n",
      "8월의 sum_visit_pop_cnt(방문 인구 합) : 13148.651598543209\n"
     ]
    },
    {
     "name": "stderr",
     "output_type": "stream",
     "text": [
      "INFO:fbprophet:n_changepoints greater than number of observations. Using 23.\n"
     ]
    },
    {
     "name": "stdout",
     "output_type": "stream",
     "text": [
      "우도면 그룹별 예측 결과\n",
      "7월의 sum_visit_pop_cnt(방문 인구 합) : 6557.813896241157\n",
      "8월의 sum_visit_pop_cnt(방문 인구 합) : 10537.194639002946\n",
      "이도1동 그룹별 예측 결과\n",
      "7월의 sum_visit_pop_cnt(방문 인구 합) : -1556.7813881895493\n",
      "8월의 sum_visit_pop_cnt(방문 인구 합) : 6868.694627853825\n"
     ]
    },
    {
     "name": "stderr",
     "output_type": "stream",
     "text": [
      "INFO:fbprophet:n_changepoints greater than number of observations. Using 18.\n"
     ]
    },
    {
     "name": "stdout",
     "output_type": "stream",
     "text": [
      "이도2동 그룹별 예측 결과\n",
      "7월의 sum_visit_pop_cnt(방문 인구 합) : 4732.92494305545\n",
      "8월의 sum_visit_pop_cnt(방문 인구 합) : nan\n"
     ]
    },
    {
     "name": "stderr",
     "output_type": "stream",
     "text": [
      "INFO:fbprophet:Disabling yearly seasonality. Run prophet with yearly_seasonality=True to override this.\n",
      "INFO:fbprophet:n_changepoints greater than number of observations. Using 16.\n"
     ]
    },
    {
     "name": "stdout",
     "output_type": "stream",
     "text": [
      "이호동 그룹별 예측 결과\n",
      "7월의 sum_visit_pop_cnt(방문 인구 합) : -8960.628085178309\n",
      "8월의 sum_visit_pop_cnt(방문 인구 합) : nan\n"
     ]
    },
    {
     "name": "stderr",
     "output_type": "stream",
     "text": [
      "INFO:fbprophet:n_changepoints greater than number of observations. Using 19.\n"
     ]
    },
    {
     "name": "stdout",
     "output_type": "stream",
     "text": [
      "일도1동 그룹별 예측 결과\n",
      "7월의 sum_visit_pop_cnt(방문 인구 합) : nan\n",
      "8월의 sum_visit_pop_cnt(방문 인구 합) : nan\n"
     ]
    },
    {
     "name": "stderr",
     "output_type": "stream",
     "text": [
      "INFO:fbprophet:n_changepoints greater than number of observations. Using 24.\n"
     ]
    },
    {
     "name": "stdout",
     "output_type": "stream",
     "text": [
      "일도2동 그룹별 예측 결과\n",
      "7월의 sum_visit_pop_cnt(방문 인구 합) : nan\n",
      "8월의 sum_visit_pop_cnt(방문 인구 합) : nan\n",
      "정방동 그룹별 예측 결과\n",
      "7월의 sum_visit_pop_cnt(방문 인구 합) : 7592.549539405306\n",
      "8월의 sum_visit_pop_cnt(방문 인구 합) : 4231.168201997676\n",
      "조천읍 그룹별 예측 결과\n",
      "7월의 sum_visit_pop_cnt(방문 인구 합) : 16101.61508135922\n",
      "8월의 sum_visit_pop_cnt(방문 인구 합) : 25009.284514421277\n"
     ]
    },
    {
     "name": "stderr",
     "output_type": "stream",
     "text": [
      "INFO:fbprophet:n_changepoints greater than number of observations. Using 18.\n"
     ]
    },
    {
     "name": "stdout",
     "output_type": "stream",
     "text": [
      "중문동 그룹별 예측 결과\n",
      "7월의 sum_visit_pop_cnt(방문 인구 합) : 4400.906467513978\n",
      "8월의 sum_visit_pop_cnt(방문 인구 합) : 10263.689564374437\n"
     ]
    },
    {
     "name": "stderr",
     "output_type": "stream",
     "text": [
      "INFO:fbprophet:n_changepoints greater than number of observations. Using 20.\n"
     ]
    },
    {
     "name": "stdout",
     "output_type": "stream",
     "text": [
      "중앙동 그룹별 예측 결과\n",
      "7월의 sum_visit_pop_cnt(방문 인구 합) : nan\n",
      "8월의 sum_visit_pop_cnt(방문 인구 합) : nan\n",
      "천지동 그룹별 예측 결과\n",
      "7월의 sum_visit_pop_cnt(방문 인구 합) : nan\n",
      "8월의 sum_visit_pop_cnt(방문 인구 합) : nan\n",
      "추자면 그룹별 예측 결과\n",
      "7월의 sum_visit_pop_cnt(방문 인구 합) : 9384.915323086334\n",
      "8월의 sum_visit_pop_cnt(방문 인구 합) : 13880.29733500572\n",
      "표선면 그룹별 예측 결과\n",
      "7월의 sum_visit_pop_cnt(방문 인구 합) : -1980.3453504895351\n",
      "8월의 sum_visit_pop_cnt(방문 인구 합) : 2931.4202675773486\n",
      "한경면 그룹별 예측 결과\n",
      "7월의 sum_visit_pop_cnt(방문 인구 합) : 2407.9318149003143\n",
      "8월의 sum_visit_pop_cnt(방문 인구 합) : 1988.9125614760273\n"
     ]
    },
    {
     "name": "stderr",
     "output_type": "stream",
     "text": [
      "INFO:fbprophet:n_changepoints greater than number of observations. Using 15.\n"
     ]
    },
    {
     "name": "stdout",
     "output_type": "stream",
     "text": [
      "한림읍 그룹별 예측 결과\n",
      "7월의 sum_visit_pop_cnt(방문 인구 합) : 12535.093689157999\n",
      "8월의 sum_visit_pop_cnt(방문 인구 합) : 18300.143577236668\n"
     ]
    },
    {
     "name": "stderr",
     "output_type": "stream",
     "text": [
      "INFO:fbprophet:n_changepoints greater than number of observations. Using 10.\n"
     ]
    },
    {
     "name": "stdout",
     "output_type": "stream",
     "text": [
      "화북동 그룹별 예측 결과\n",
      "7월의 sum_visit_pop_cnt(방문 인구 합) : nan\n",
      "8월의 sum_visit_pop_cnt(방문 인구 합) : nan\n",
      "효돈동 그룹별 예측 결과\n",
      "7월의 sum_visit_pop_cnt(방문 인구 합) : -3981.4774126144957\n",
      "8월의 sum_visit_pop_cnt(방문 인구 합) : -197.25310574473542\n"
     ]
    }
   ],
   "source": [
    "# 1. visit_pop_cnt\n",
    "# 국적(nationality) 그룹별로 예측하기\n",
    "for c in dong:\n",
    "    sum_july4 = 0\n",
    "    sum_august4 = 0\n",
    "    new_df = short_df[short_df['emd_nm']==c]\n",
    "    new_df = new_df.rename(columns = {'m' : 'ds', 'visit_pop_cnt' : 'y'})\n",
    "    df_grouped = new_df.groupby('nationality_group')   \n",
    "    df_final4 = pd.DataFrame()\n",
    "    for g in df_grouped.groups:\n",
    "        group = df_grouped.get_group(g)\n",
    "        m = Prophet()\n",
    "        m.daily_seasonality=True\n",
    "        m.weekly_seasonality=True\n",
    "        m.fit(group)\n",
    "        future = m.make_future_dataframe(freq ='M', periods=2)\n",
    "        forecast = m.predict(future)\n",
    "        forecast = forecast.rename(columns={'yhat': 'yhat_'+g})\n",
    "        df_final4 = pd.merge(df_final4, forecast.set_index('ds'), how='outer', left_index=True, right_index=True)\n",
    "\n",
    "    df_final4 = df_final4[['yhat_' + g for g in df_grouped.groups.keys()]]\n",
    "    print(c + \" 그룹별 예측 결과\")\n",
    "    for i in range(4):\n",
    "        sum_july4 += df_final4.iloc[-2,i]\n",
    "        sum_august4 += df_final4.iloc[-1,i]\n",
    "    print(f'7월의 sum_visit_pop_cnt(방문 인구 합) : {sum_july4}')\n",
    "    print(f'8월의 sum_visit_pop_cnt(방문 인구 합) : {sum_august4}')"
   ]
  },
  {
   "cell_type": "markdown",
   "metadata": {},
   "source": [
    "데이터 값이 0에 근접해 있다면, 계절변동에 의해 negative(음수)의 예측값을 내놓을 수 있음. \n",
    "따라서 이경우, 음수인 예측값들은 0으로 생각."
   ]
  },
  {
   "cell_type": "markdown",
   "metadata": {},
   "source": [
    "## month_resident_pop (거주 인구 데이터)"
   ]
  },
  {
   "cell_type": "markdown",
   "metadata": {},
   "source": [
    "5. sum_resid_pop_cnt  ~ sex별로\n",
    "6. sum_foreign_pop_cnt  ~ sex별로"
   ]
  },
  {
   "cell_type": "code",
   "execution_count": 5,
   "metadata": {},
   "outputs": [
    {
     "data": {
      "text/html": [
       "<div>\n",
       "<style scoped>\n",
       "    .dataframe tbody tr th:only-of-type {\n",
       "        vertical-align: middle;\n",
       "    }\n",
       "\n",
       "    .dataframe tbody tr th {\n",
       "        vertical-align: top;\n",
       "    }\n",
       "\n",
       "    .dataframe thead th {\n",
       "        text-align: right;\n",
       "    }\n",
       "</style>\n",
       "<table border=\"1\" class=\"dataframe\">\n",
       "  <thead>\n",
       "    <tr style=\"text-align: right;\">\n",
       "      <th></th>\n",
       "      <th>base_year</th>\n",
       "      <th>base_month</th>\n",
       "      <th>sex</th>\n",
       "      <th>emd_cd</th>\n",
       "      <th>emd_nm</th>\n",
       "      <th>count_num</th>\n",
       "      <th>sum_resid_pop_cnt</th>\n",
       "      <th>sum_foreign_pop_cnt</th>\n",
       "      <th>sum_total_pop_cnt</th>\n",
       "    </tr>\n",
       "  </thead>\n",
       "  <tbody>\n",
       "    <tr>\n",
       "      <th>0</th>\n",
       "      <td>2018</td>\n",
       "      <td>1</td>\n",
       "      <td>남성</td>\n",
       "      <td>50110590</td>\n",
       "      <td>건입동</td>\n",
       "      <td>1</td>\n",
       "      <td>5085.0</td>\n",
       "      <td>146.0</td>\n",
       "      <td>5231.0</td>\n",
       "    </tr>\n",
       "    <tr>\n",
       "      <th>1</th>\n",
       "      <td>2018</td>\n",
       "      <td>1</td>\n",
       "      <td>남성</td>\n",
       "      <td>50110256</td>\n",
       "      <td>구좌읍</td>\n",
       "      <td>1</td>\n",
       "      <td>7965.0</td>\n",
       "      <td>368.0</td>\n",
       "      <td>8333.0</td>\n",
       "    </tr>\n",
       "    <tr>\n",
       "      <th>2</th>\n",
       "      <td>2018</td>\n",
       "      <td>1</td>\n",
       "      <td>남성</td>\n",
       "      <td>50130253</td>\n",
       "      <td>남원읍</td>\n",
       "      <td>1</td>\n",
       "      <td>9806.0</td>\n",
       "      <td>428.0</td>\n",
       "      <td>10234.0</td>\n",
       "    </tr>\n",
       "    <tr>\n",
       "      <th>3</th>\n",
       "      <td>2018</td>\n",
       "      <td>1</td>\n",
       "      <td>남성</td>\n",
       "      <td>50110660</td>\n",
       "      <td>노형동</td>\n",
       "      <td>1</td>\n",
       "      <td>26286.0</td>\n",
       "      <td>821.0</td>\n",
       "      <td>27107.0</td>\n",
       "    </tr>\n",
       "    <tr>\n",
       "      <th>4</th>\n",
       "      <td>2018</td>\n",
       "      <td>1</td>\n",
       "      <td>남성</td>\n",
       "      <td>50130590</td>\n",
       "      <td>대륜동</td>\n",
       "      <td>1</td>\n",
       "      <td>6836.0</td>\n",
       "      <td>83.0</td>\n",
       "      <td>6919.0</td>\n",
       "    </tr>\n",
       "    <tr>\n",
       "      <th>...</th>\n",
       "      <td>...</td>\n",
       "      <td>...</td>\n",
       "      <td>...</td>\n",
       "      <td>...</td>\n",
       "      <td>...</td>\n",
       "      <td>...</td>\n",
       "      <td>...</td>\n",
       "      <td>...</td>\n",
       "      <td>...</td>\n",
       "    </tr>\n",
       "    <tr>\n",
       "      <th>3607</th>\n",
       "      <td>2021</td>\n",
       "      <td>6</td>\n",
       "      <td>여성</td>\n",
       "      <td>50130320</td>\n",
       "      <td>표선면</td>\n",
       "      <td>1</td>\n",
       "      <td>6033.0</td>\n",
       "      <td>123.0</td>\n",
       "      <td>6156.0</td>\n",
       "    </tr>\n",
       "    <tr>\n",
       "      <th>3608</th>\n",
       "      <td>2021</td>\n",
       "      <td>6</td>\n",
       "      <td>여성</td>\n",
       "      <td>50110310</td>\n",
       "      <td>한경면</td>\n",
       "      <td>1</td>\n",
       "      <td>4531.0</td>\n",
       "      <td>100.0</td>\n",
       "      <td>4631.0</td>\n",
       "    </tr>\n",
       "    <tr>\n",
       "      <th>3609</th>\n",
       "      <td>2021</td>\n",
       "      <td>6</td>\n",
       "      <td>여성</td>\n",
       "      <td>50110250</td>\n",
       "      <td>한림읍</td>\n",
       "      <td>1</td>\n",
       "      <td>10341.0</td>\n",
       "      <td>1140.0</td>\n",
       "      <td>11481.0</td>\n",
       "    </tr>\n",
       "    <tr>\n",
       "      <th>3610</th>\n",
       "      <td>2021</td>\n",
       "      <td>6</td>\n",
       "      <td>여성</td>\n",
       "      <td>50110600</td>\n",
       "      <td>화북동</td>\n",
       "      <td>1</td>\n",
       "      <td>12238.0</td>\n",
       "      <td>161.0</td>\n",
       "      <td>12399.0</td>\n",
       "    </tr>\n",
       "    <tr>\n",
       "      <th>3611</th>\n",
       "      <td>2021</td>\n",
       "      <td>6</td>\n",
       "      <td>여성</td>\n",
       "      <td>50130550</td>\n",
       "      <td>효돈동</td>\n",
       "      <td>1</td>\n",
       "      <td>2597.0</td>\n",
       "      <td>18.0</td>\n",
       "      <td>2615.0</td>\n",
       "    </tr>\n",
       "  </tbody>\n",
       "</table>\n",
       "<p>3612 rows × 9 columns</p>\n",
       "</div>"
      ],
      "text/plain": [
       "      base_year  base_month sex    emd_cd emd_nm  count_num  \\\n",
       "0          2018           1  남성  50110590    건입동          1   \n",
       "1          2018           1  남성  50110256    구좌읍          1   \n",
       "2          2018           1  남성  50130253    남원읍          1   \n",
       "3          2018           1  남성  50110660    노형동          1   \n",
       "4          2018           1  남성  50130590    대륜동          1   \n",
       "...         ...         ...  ..       ...    ...        ...   \n",
       "3607       2021           6  여성  50130320    표선면          1   \n",
       "3608       2021           6  여성  50110310    한경면          1   \n",
       "3609       2021           6  여성  50110250    한림읍          1   \n",
       "3610       2021           6  여성  50110600    화북동          1   \n",
       "3611       2021           6  여성  50130550    효돈동          1   \n",
       "\n",
       "      sum_resid_pop_cnt  sum_foreign_pop_cnt  sum_total_pop_cnt  \n",
       "0                5085.0                146.0             5231.0  \n",
       "1                7965.0                368.0             8333.0  \n",
       "2                9806.0                428.0            10234.0  \n",
       "3               26286.0                821.0            27107.0  \n",
       "4                6836.0                 83.0             6919.0  \n",
       "...                 ...                  ...                ...  \n",
       "3607             6033.0                123.0             6156.0  \n",
       "3608             4531.0                100.0             4631.0  \n",
       "3609            10341.0               1140.0            11481.0  \n",
       "3610            12238.0                161.0            12399.0  \n",
       "3611             2597.0                 18.0             2615.0  \n",
       "\n",
       "[3612 rows x 9 columns]"
      ]
     },
     "execution_count": 5,
     "metadata": {},
     "output_type": "execute_result"
    }
   ],
   "source": [
    "# sex 그루핑 이미 나눠져 있음 !\n",
    "resi_df = pd.read_csv(r'C:\\Users\\이현아\\Desktop\\월별데이터 정리\\month_resident_pop.csv')\n",
    "resi_df"
   ]
  },
  {
   "cell_type": "markdown",
   "metadata": {},
   "source": [
    "### 데이터 전처리"
   ]
  },
  {
   "cell_type": "code",
   "execution_count": 6,
   "metadata": {},
   "outputs": [],
   "source": [
    "# 우선, 시계열 데이터이므로 날짜를 datetime형식으로 변환\n",
    "\n",
    "for i in resi_df.index:\n",
    "    if resi_df.loc[i,'base_month'] < 10:\n",
    "        resi_df.loc[i,'base_month'] = '0'+ str(resi_df.loc[i,'base_month'])"
   ]
  },
  {
   "cell_type": "code",
   "execution_count": 7,
   "metadata": {},
   "outputs": [],
   "source": [
    "for i in resi_df.index:\n",
    "    resi_df.loc[i,'m'] = pd.to_datetime(str(resi_df.loc[i,'base_year'])+ str(resi_df.loc[i,'base_month']), format = '%Y%m')"
   ]
  },
  {
   "cell_type": "code",
   "execution_count": 8,
   "metadata": {},
   "outputs": [],
   "source": [
    "dong = resi_df['emd_nm'].unique()"
   ]
  },
  {
   "cell_type": "code",
   "execution_count": 12,
   "metadata": {
    "scrolled": true
   },
   "outputs": [
    {
     "name": "stdout",
     "output_type": "stream",
     "text": [
      "<class 'pandas.core.frame.DataFrame'>\n",
      "Int64Index: 1806 entries, 0 to 3568\n",
      "Data columns (total 10 columns):\n",
      " #   Column               Non-Null Count  Dtype         \n",
      "---  ------               --------------  -----         \n",
      " 0   base_year            1806 non-null   int64         \n",
      " 1   base_month           1806 non-null   object        \n",
      " 2   sex                  1806 non-null   object        \n",
      " 3   emd_cd               1806 non-null   int64         \n",
      " 4   emd_nm               1806 non-null   object        \n",
      " 5   count_num            1806 non-null   int64         \n",
      " 6   sum_resid_pop_cnt    1806 non-null   float64       \n",
      " 7   sum_foreign_pop_cnt  1806 non-null   float64       \n",
      " 8   sum_total_pop_cnt    1806 non-null   float64       \n",
      " 9   m                    1806 non-null   datetime64[ns]\n",
      "dtypes: datetime64[ns](1), float64(3), int64(3), object(3)\n",
      "memory usage: 155.2+ KB\n"
     ]
    }
   ],
   "source": [
    "resim_df = resi_df[resi_df['sex'] == \"남성\"]    # 남성의 데이터\n",
    "resif_df = resi_df[resi_df['sex'] == \"여성\"]    # 여성의 데이터"
   ]
  },
  {
   "cell_type": "markdown",
   "metadata": {},
   "source": [
    "sum_resid_pop_cnt"
   ]
  },
  {
   "cell_type": "code",
   "execution_count": null,
   "metadata": {},
   "outputs": [
    {
     "name": "stdout",
     "output_type": "stream",
     "text": [
      "건입동 그룹별 예측 결과\n",
      "7월의 sum_resid_pop_cnt(주민등록 거주 인구 합) : 4491.325778987443\n",
      "8월의 sum_resid_pop_cnt(주민등록 거주 인구 합) : 4455.635359692566\n",
      "구좌읍 그룹별 예측 결과\n",
      "7월의 sum_resid_pop_cnt(주민등록 거주 인구 합) : 7884.765036708094\n",
      "8월의 sum_resid_pop_cnt(주민등록 거주 인구 합) : 8025.119155791348\n",
      "남원읍 그룹별 예측 결과\n",
      "7월의 sum_resid_pop_cnt(주민등록 거주 인구 합) : 9618.181694555326\n",
      "8월의 sum_resid_pop_cnt(주민등록 거주 인구 합) : 9655.375706266965\n",
      "노형동 그룹별 예측 결과\n",
      "7월의 sum_resid_pop_cnt(주민등록 거주 인구 합) : 26965.614204495672\n",
      "8월의 sum_resid_pop_cnt(주민등록 거주 인구 합) : 27140.98107225937\n",
      "대륜동 그룹별 예측 결과\n",
      "7월의 sum_resid_pop_cnt(주민등록 거주 인구 합) : 7643.582473942153\n",
      "8월의 sum_resid_pop_cnt(주민등록 거주 인구 합) : 7660.724513561026\n",
      "대정읍 그룹별 예측 결과\n",
      "7월의 sum_resid_pop_cnt(주민등록 거주 인구 합) : 10721.101222139992\n",
      "8월의 sum_resid_pop_cnt(주민등록 거주 인구 합) : 10727.43200687831\n",
      "대천동 그룹별 예측 결과\n",
      "7월의 sum_resid_pop_cnt(주민등록 거주 인구 합) : 7143.1673092147485\n",
      "8월의 sum_resid_pop_cnt(주민등록 거주 인구 합) : 7112.3981159513805\n",
      "도두동 그룹별 예측 결과\n",
      "7월의 sum_resid_pop_cnt(주민등록 거주 인구 합) : 1742.5585401978678\n",
      "8월의 sum_resid_pop_cnt(주민등록 거주 인구 합) : 1739.0348619047995\n",
      "동홍동 그룹별 예측 결과\n",
      "7월의 sum_resid_pop_cnt(주민등록 거주 인구 합) : 11369.24338838079\n",
      "8월의 sum_resid_pop_cnt(주민등록 거주 인구 합) : 11345.041920756963\n",
      "봉개동 그룹별 예측 결과\n",
      "7월의 sum_resid_pop_cnt(주민등록 거주 인구 합) : 2622.9986768773947\n",
      "8월의 sum_resid_pop_cnt(주민등록 거주 인구 합) : 2748.4498897091544\n",
      "삼도1동 그룹별 예측 결과\n",
      "7월의 sum_resid_pop_cnt(주민등록 거주 인구 합) : 6620.30019193402\n",
      "8월의 sum_resid_pop_cnt(주민등록 거주 인구 합) : 6565.933723969194\n",
      "삼도2동 그룹별 예측 결과\n",
      "7월의 sum_resid_pop_cnt(주민등록 거주 인구 합) : 4105.974386578088\n",
      "8월의 sum_resid_pop_cnt(주민등록 거주 인구 합) : 4100.3609518288395\n"
     ]
    }
   ],
   "source": [
    "# 남성의 데이터\n",
    "list_male_resid = [] # 총 값들 저장\n",
    "for c in dong:\n",
    "    sum_july5 = 0\n",
    "    sum_august5 = 0\n",
    "    new_df = resim_df[resim_df['emd_nm']==c]\n",
    "    new_df = new_df.rename(columns = {'m' : 'ds', 'sum_resid_pop_cnt' : 'y'})\n",
    "    df_final5 = pd.DataFrame()\n",
    "    m = Prophet()\n",
    "    m.daily_seasonality=True\n",
    "    m.weekly_seasonality=True\n",
    "    m.fit(new_df)\n",
    "    future = m.make_future_dataframe(freq ='M', periods=2)\n",
    "    forecast = m.predict(future)\n",
    "    forecast = forecast.rename(columns={'yhat': 'yhat_'})\n",
    "    df_final5 = pd.merge(df_final5, forecast.set_index('ds'), how='outer', left_index=True, right_index=True)\n",
    "    df_final5 = df_final5[['yhat_']]\n",
    "    print(c + \" 그룹별 예측 결과\")\n",
    "    sum_july5 += df_final5.iloc[-2,0]\n",
    "    sum_august5 += df_final5.iloc[-1,0]\n",
    "    print(f'7월의 sum_resid_pop_cnt(주민등록 거주 인구 합) : {sum_july5}')\n",
    "    print(f'8월의 sum_resid_pop_cnt(주민등록 거주 인구 합) : {sum_august5}')\n",
    "    list_male_resid.append(sum_july5)\n",
    "    list_male_resid.append(sum_august5)"
   ]
  },
  {
   "cell_type": "code",
   "execution_count": null,
   "metadata": {},
   "outputs": [],
   "source": [
    "# 여성의 데이터\n",
    "list_female_resid = []\n",
    "for c in dong:\n",
    "    sum_july6 = 0\n",
    "    sum_august6 = 0\n",
    "    new_df = resif_df[resif_df['emd_nm']==c]\n",
    "    new_df = new_df.rename(columns = {'m' : 'ds', 'sum_resid_pop_cnt' : 'y'})\n",
    "    df_final6 = pd.DataFrame()\n",
    "    m = Prophet()\n",
    "    m.daily_seasonality=True\n",
    "    m.weekly_seasonality=True\n",
    "    m.fit(new_df)\n",
    "    future = m.make_future_dataframe(freq ='M', periods=2)\n",
    "    forecast = m.predict(future)\n",
    "    forecast = forecast.rename(columns={'yhat': 'yhat_'})\n",
    "    df_final6 = pd.merge(df_final6, forecast.set_index('ds'), how='outer', left_index=True, right_index=True)\n",
    "    df_final6 = df_final6[['yhat_']]\n",
    "    print(c + \" 그룹별 예측 결과\")\n",
    "    sum_july6 += df_final6.iloc[-2,0]\n",
    "    sum_august6 += df_final6.iloc[-1,0]\n",
    "    print(f'7월의 sum_resid_pop_cnt(주민등록 거주 인구 합) : {sum_july6}')\n",
    "    print(f'8월의 sum_resid_pop_cnt(주민등록 거주 인구 합) : {sum_august6}')\n",
    "    list_female_resid.append(sum_july6)\n",
    "    list_female_resid.append(sum_august6)"
   ]
  },
  {
   "cell_type": "code",
   "execution_count": null,
   "metadata": {},
   "outputs": [],
   "source": [
    "total_july_resid = []\n",
    "total_august_resid = []\n",
    "for i in range(86):\n",
    "    if i%2 ==0:\n",
    "        total_july_resid[i] = list_male_resid[i] + list_female_resid[i]\n",
    "    else:\n",
    "        total_august_resid[i] = list_male_resid[i] + list_female_resid[i]\n",
    "\n",
    "j = 0\n",
    "for c in dong:\n",
    "    print(c + \" 7월 예측값 : \" + total_july_resid[j])\n",
    "    print(c + \" 8월 예측값 : \" + total_august_resid[j])\n",
    "    j+=1"
   ]
  },
  {
   "cell_type": "markdown",
   "metadata": {},
   "source": [
    "sum_foreign_pop_cnt"
   ]
  },
  {
   "cell_type": "code",
   "execution_count": null,
   "metadata": {},
   "outputs": [],
   "source": [
    "# 남성의 데이터\n",
    "for c in dong:\n",
    "    sum_july7 = 0\n",
    "    sum_august7 = 0\n",
    "    new_df = resim_df[resim_df['emd_nm']==c]\n",
    "    new_df = new_df.rename(columns = {'m' : 'ds', 'sum_foreign_pop_cnt' : 'y'})\n",
    "    df_final7 = pd.DataFrame()\n",
    "    m = Prophet()\n",
    "    m.daily_seasonality=True\n",
    "    m.weekly_seasonality=True\n",
    "    m.fit(new_df)\n",
    "    future = m.make_future_dataframe(freq ='M', periods=2)\n",
    "    forecast = m.predict(future)\n",
    "    forecast = forecast.rename(columns={'yhat': 'yhat_'})\n",
    "    df_final7 = pd.merge(df_final7, forecast.set_index('ds'), how='outer', left_index=True, right_index=True)\n",
    "    df_final7 = df_final7[['yhat_']]\n",
    "    print(c + \" 그룹별 예측 결과\")\n",
    "    sum_july7 += df_final7.iloc[-2,0]\n",
    "    sum_august7 += df_final7.iloc[-1,0]\n",
    "    print(f'7월의 sum_resid_pop_cnt(외국인 거주 인구 합) : {sum_july7}')\n",
    "    print(f'8월의 sum_resid_pop_cnt(외국인 거주 인구 합) : {sum_august7}')"
   ]
  },
  {
   "cell_type": "code",
   "execution_count": null,
   "metadata": {},
   "outputs": [],
   "source": [
    "# 여성의 데이터\n",
    "for c in dong:\n",
    "    sum_july8 = 0\n",
    "    sum_august8 = 0\n",
    "    new_df = resif_df[resif_df['emd_nm']==c]\n",
    "    new_df = new_df.rename(columns = {'m' : 'ds', 'sum_foreign_pop_cnt' : 'y'})\n",
    "    df_final8 = pd.DataFrame()\n",
    "    m = Prophet()\n",
    "    m.daily_seasonality=True\n",
    "    m.weekly_seasonality=True\n",
    "    m.fit(new_df)\n",
    "    future = m.make_future_dataframe(freq ='M', periods=2)\n",
    "    forecast = m.predict(future)\n",
    "    forecast = forecast.rename(columns={'yhat': 'yhat_'})\n",
    "    df_final8 = pd.merge(df_final8, forecast.set_index('ds'), how='outer', left_index=True, right_index=True)\n",
    "    df_final8 = df_final8[['yhat_']]\n",
    "    print(c + \" 그룹별 예측 결과\")\n",
    "    sum_july8 += df_final8.iloc[-2,0]\n",
    "    sum_august8 += df_final8.iloc[-1,0]\n",
    "    print(f'7월의 sum_resid_pop_cnt(외국인 거주 인구 합) : {sum_july8}')\n",
    "    print(f'8월의 sum_resid_pop_cnt(외국인 거주 인구 합) : {sum_august8}')"
   ]
  },
  {
   "cell_type": "code",
   "execution_count": null,
   "metadata": {},
   "outputs": [],
   "source": []
  },
  {
   "cell_type": "code",
   "execution_count": null,
   "metadata": {},
   "outputs": [],
   "source": []
  },
  {
   "cell_type": "code",
   "execution_count": null,
   "metadata": {},
   "outputs": [],
   "source": [
    "# 남성, 여성을 sex별로 나눈건데 중간에 오류떠서 위의 코드로 대체"
   ]
  },
  {
   "cell_type": "code",
   "execution_count": 214,
   "metadata": {
    "collapsed": true
   },
   "outputs": [
    {
     "name": "stdout",
     "output_type": "stream",
     "text": [
      "건입동 그룹별 예측 결과\n",
      "Empty DataFrame\n",
      "Columns: [yhat_남성, yhat_여성]\n",
      "Index: []\n"
     ]
    },
    {
     "ename": "ValueError",
     "evalue": "Dataframe has less than 2 non-NaN rows.",
     "output_type": "error",
     "traceback": [
      "\u001b[1;31m---------------------------------------------------------------------------\u001b[0m",
      "\u001b[1;31mValueError\u001b[0m                                Traceback (most recent call last)",
      "\u001b[1;32m<ipython-input-214-c1b7537b1f62>\u001b[0m in \u001b[0;36m<module>\u001b[1;34m\u001b[0m\n\u001b[0;32m     13\u001b[0m         \u001b[0mm\u001b[0m\u001b[1;33m.\u001b[0m\u001b[0mdaily_seasonality\u001b[0m\u001b[1;33m=\u001b[0m\u001b[1;32mTrue\u001b[0m\u001b[1;33m\u001b[0m\u001b[1;33m\u001b[0m\u001b[0m\n\u001b[0;32m     14\u001b[0m         \u001b[0mm\u001b[0m\u001b[1;33m.\u001b[0m\u001b[0mweekly_seasonality\u001b[0m\u001b[1;33m=\u001b[0m\u001b[1;32mTrue\u001b[0m\u001b[1;33m\u001b[0m\u001b[1;33m\u001b[0m\u001b[0m\n\u001b[1;32m---> 15\u001b[1;33m         \u001b[0mm\u001b[0m\u001b[1;33m.\u001b[0m\u001b[0mfit\u001b[0m\u001b[1;33m(\u001b[0m\u001b[0mgroup\u001b[0m\u001b[1;33m)\u001b[0m\u001b[1;33m\u001b[0m\u001b[1;33m\u001b[0m\u001b[0m\n\u001b[0m\u001b[0;32m     16\u001b[0m         \u001b[0mfuture\u001b[0m \u001b[1;33m=\u001b[0m \u001b[0mm\u001b[0m\u001b[1;33m.\u001b[0m\u001b[0mmake_future_dataframe\u001b[0m\u001b[1;33m(\u001b[0m\u001b[0mfreq\u001b[0m \u001b[1;33m=\u001b[0m\u001b[1;34m'M'\u001b[0m\u001b[1;33m,\u001b[0m \u001b[0mperiods\u001b[0m\u001b[1;33m=\u001b[0m\u001b[1;36m2\u001b[0m\u001b[1;33m)\u001b[0m\u001b[1;33m\u001b[0m\u001b[1;33m\u001b[0m\u001b[0m\n\u001b[0;32m     17\u001b[0m         \u001b[0mforecast\u001b[0m \u001b[1;33m=\u001b[0m \u001b[0mm\u001b[0m\u001b[1;33m.\u001b[0m\u001b[0mpredict\u001b[0m\u001b[1;33m(\u001b[0m\u001b[0mfuture\u001b[0m\u001b[1;33m)\u001b[0m\u001b[1;33m\u001b[0m\u001b[1;33m\u001b[0m\u001b[0m\n",
      "\u001b[1;32mC:\\jupyter\\lib\\site-packages\\fbprophet\\forecaster.py\u001b[0m in \u001b[0;36mfit\u001b[1;34m(self, df, **kwargs)\u001b[0m\n\u001b[0;32m   1106\u001b[0m         \u001b[0mhistory\u001b[0m \u001b[1;33m=\u001b[0m \u001b[0mdf\u001b[0m\u001b[1;33m[\u001b[0m\u001b[0mdf\u001b[0m\u001b[1;33m[\u001b[0m\u001b[1;34m'y'\u001b[0m\u001b[1;33m]\u001b[0m\u001b[1;33m.\u001b[0m\u001b[0mnotnull\u001b[0m\u001b[1;33m(\u001b[0m\u001b[1;33m)\u001b[0m\u001b[1;33m]\u001b[0m\u001b[1;33m.\u001b[0m\u001b[0mcopy\u001b[0m\u001b[1;33m(\u001b[0m\u001b[1;33m)\u001b[0m\u001b[1;33m\u001b[0m\u001b[1;33m\u001b[0m\u001b[0m\n\u001b[0;32m   1107\u001b[0m         \u001b[1;32mif\u001b[0m \u001b[0mhistory\u001b[0m\u001b[1;33m.\u001b[0m\u001b[0mshape\u001b[0m\u001b[1;33m[\u001b[0m\u001b[1;36m0\u001b[0m\u001b[1;33m]\u001b[0m \u001b[1;33m<\u001b[0m \u001b[1;36m2\u001b[0m\u001b[1;33m:\u001b[0m\u001b[1;33m\u001b[0m\u001b[1;33m\u001b[0m\u001b[0m\n\u001b[1;32m-> 1108\u001b[1;33m             \u001b[1;32mraise\u001b[0m \u001b[0mValueError\u001b[0m\u001b[1;33m(\u001b[0m\u001b[1;34m'Dataframe has less than 2 non-NaN rows.'\u001b[0m\u001b[1;33m)\u001b[0m\u001b[1;33m\u001b[0m\u001b[1;33m\u001b[0m\u001b[0m\n\u001b[0m\u001b[0;32m   1109\u001b[0m         \u001b[0mself\u001b[0m\u001b[1;33m.\u001b[0m\u001b[0mhistory_dates\u001b[0m \u001b[1;33m=\u001b[0m \u001b[0mpd\u001b[0m\u001b[1;33m.\u001b[0m\u001b[0mto_datetime\u001b[0m\u001b[1;33m(\u001b[0m\u001b[0mpd\u001b[0m\u001b[1;33m.\u001b[0m\u001b[0mSeries\u001b[0m\u001b[1;33m(\u001b[0m\u001b[0mdf\u001b[0m\u001b[1;33m[\u001b[0m\u001b[1;34m'ds'\u001b[0m\u001b[1;33m]\u001b[0m\u001b[1;33m.\u001b[0m\u001b[0munique\u001b[0m\u001b[1;33m(\u001b[0m\u001b[1;33m)\u001b[0m\u001b[1;33m,\u001b[0m \u001b[0mname\u001b[0m\u001b[1;33m=\u001b[0m\u001b[1;34m'ds'\u001b[0m\u001b[1;33m)\u001b[0m\u001b[1;33m)\u001b[0m\u001b[1;33m.\u001b[0m\u001b[0msort_values\u001b[0m\u001b[1;33m(\u001b[0m\u001b[1;33m)\u001b[0m\u001b[1;33m\u001b[0m\u001b[1;33m\u001b[0m\u001b[0m\n\u001b[0;32m   1110\u001b[0m \u001b[1;33m\u001b[0m\u001b[0m\n",
      "\u001b[1;31mValueError\u001b[0m: Dataframe has less than 2 non-NaN rows."
     ]
    }
   ],
   "source": [
    "# 1. sum_resid_pop_cnt\n",
    "# sex별로 예측하기\n",
    "for c in dong:\n",
    "    sum_july5 = 0\n",
    "    sum_august5 = 0\n",
    "    new_df = resi_df[resi_df['emd_nm']==c]\n",
    "    new_df = new_df.rename(columns = {'m' : 'ds', 'sum_resid_pop_cnt' : 'y'})\n",
    "    df_grouped = new_df.groupby('sex')  \n",
    "    df_final5 = pd.DataFrame()\n",
    "    for g in df_grouped.groups:\n",
    "        group = df_grouped.get_group(g)\n",
    "        m = Prophet()\n",
    "        m.daily_seasonality=True\n",
    "        m.weekly_seasonality=True\n",
    "        m.fit(group)\n",
    "        future = m.make_future_dataframe(freq ='M', periods=2)\n",
    "        forecast = m.predict(future)\n",
    "        forecast = forecast.rename(columns={'yhat': 'yhat_'+g})\n",
    "        df_final5 = pd.merge(df_final5, forecast.set_index('ds'), how='inner', left_index=True, right_index=True)\n",
    "\n",
    "    df_final5 = df_final5[['yhat_' + g for g in df_grouped.groups.keys()]]\n",
    "    print(c + \" 그룹별 예측 결과\")\n",
    "    print(df_final5)\n",
    "    for i in range(2):\n",
    "        sum_july5 += df_final5.iloc[-2,i]\n",
    "        sum_august5 += df_final5.iloc[-1,i]\n",
    "    print(f'7월의 sum_resid_pop_cnt(주민등록 거주 인구 합) : {sum_july5}')\n",
    "    print(f'8월의 sum_resid_pop_cnt(주민등록 거주 인구 합) : {sum_august5}')"
   ]
  },
  {
   "cell_type": "code",
   "execution_count": null,
   "metadata": {},
   "outputs": [],
   "source": [
    "# 2. sum_foreign_pop_cnt\n",
    "# sex별로 예측하기\n",
    "for c in dong:\n",
    "    sum_july6 = 0\n",
    "    sum_august6 = 0\n",
    "    new_df = resi_df[resi_df['emd_nm']==c]\n",
    "    new_df = new_df.rename(columns = {'m' : 'ds', 'sum_foreign_pop_cnt' : 'y'})\n",
    "    df_grouped = new_df.groupby('sex')   \n",
    "    df_final6 = pd.DataFrame()\n",
    "    for g in df_grouped.groups:\n",
    "        group = df_grouped.get_group(g)\n",
    "        m = Prophet()\n",
    "        m.daily_seasonality=True\n",
    "        m.weekly_seasonality=True\n",
    "        m.fit(group)\n",
    "        future = m.make_future_dataframe(freq ='M', periods=2)\n",
    "        forecast = m.predict(future)\n",
    "        forecast = forecast.rename(columns={'yhat': 'yhat_'+g})\n",
    "        df_final6 = pd.merge(df_final6, forecast.set_index('ds'), how='outer', left_index=True, right_index=True)\n",
    "\n",
    "    df_final6 = df_final6[['yhat_' + g for g in df_grouped.groups.keys()]]\n",
    "    print(c + \" 그룹별 예측 결과\")\n",
    "    for i in range(2):\n",
    "        sum_july6 += df_final6.iloc[-2,i]\n",
    "        sum_august6 += df_final6.iloc[-1,i]\n",
    "    print(f'7월의 sum_foreign_pop_cnt(외국인 거주 인구 합) : {sum_july6}')\n",
    "    print(f'8월의 sum_foreign_pop_cnt(외국인 거주 인구 합) : {sum_august6}')"
   ]
  },
  {
   "cell_type": "markdown",
   "metadata": {},
   "source": [
    "## month_card_spending (음식 관련 카드소비 데이터)"
   ]
  },
  {
   "cell_type": "markdown",
   "metadata": {},
   "source": [
    "7. sum_use_cnt  ~ mct_cat_nm(업종)별로\n",
    "8. sum_use_amt  ~ mct_cat_nm(업종)별로"
   ]
  },
  {
   "cell_type": "code",
   "execution_count": null,
   "metadata": {},
   "outputs": [],
   "source": [
    "card_df = pd.read_csv(r'C:\\Users\\이현아\\Desktop\\월별데이터 정리\\month_card_spending.csv',encoding='cp949')\n",
    "card_df"
   ]
  },
  {
   "cell_type": "markdown",
   "metadata": {},
   "source": [
    "### 1. mct_cat_nm grouping (업종 그룹화)"
   ]
  },
  {
   "cell_type": "code",
   "execution_count": null,
   "metadata": {},
   "outputs": [],
   "source": [
    "card_df['mct_cat_nm'].unique()"
   ]
  },
  {
   "cell_type": "code",
   "execution_count": null,
   "metadata": {},
   "outputs": [],
   "source": [
    "group1 = ['마트/슈퍼마켓','한식']\n",
    "group2 = ['식품']\n",
    "group3 = ['농축수산물']\n",
    "group4 = ['아시아음식','간식','배달','패스트푸드','양식','부페','주점및주류판매']"
   ]
  },
  {
   "cell_type": "code",
   "execution_count": null,
   "metadata": {},
   "outputs": [],
   "source": [
    "card_df['mct_cat_nm_group'].unique()"
   ]
  },
  {
   "cell_type": "code",
   "execution_count": null,
   "metadata": {},
   "outputs": [],
   "source": [
    "card_df['mct_cat_nm_group'].value_counts()"
   ]
  },
  {
   "cell_type": "markdown",
   "metadata": {},
   "source": [
    "### 데이터 전처리"
   ]
  },
  {
   "cell_type": "code",
   "execution_count": null,
   "metadata": {},
   "outputs": [],
   "source": [
    "# 우선, 시계열 데이터이므로 날짜를 datetime형식으로 변환\n",
    "card_df['m'] = pd.to_datetime(card_df.m, format = '%Y-%m')\n",
    "# card_df.info()"
   ]
  },
  {
   "cell_type": "code",
   "execution_count": null,
   "metadata": {},
   "outputs": [],
   "source": [
    "dong = card_df['emd_nm'].unique()"
   ]
  },
  {
   "cell_type": "code",
   "execution_count": null,
   "metadata": {},
   "outputs": [],
   "source": [
    "# 1. sum_use_cnt\n",
    "# mct_cat_nm 그룹별 (mct_cat_nm_group)로 예측하기\n",
    "for c in dong:\n",
    "    sum_july7 = 0\n",
    "    sum_august7 = 0\n",
    "    new_df = card_df[card_df['emd_nm']==c]\n",
    "    new_df = new_df.rename(columns = {'m' : 'ds', 'sum_use_cnt' : 'y'})\n",
    "    df_grouped = new_df.groupby('mct_cat_nm_group')   \n",
    "    df_final7 = pd.DataFrame()\n",
    "    for g in df_grouped.groups:\n",
    "        group = df_grouped.get_group(g)\n",
    "        m = Prophet()\n",
    "        m.daily_seasonality=True\n",
    "        m.weekly_seasonality=True\n",
    "        m.fit(group)\n",
    "        future = m.make_future_dataframe(freq ='M', periods=2)\n",
    "        forecast = m.predict(future)\n",
    "        forecast = forecast.rename(columns={'yhat': 'yhat_'+g})\n",
    "        df_final7 = pd.merge(df_final7, forecast.set_index('ds'), how='outer', left_index=True, right_index=True)\n",
    "\n",
    "    df_final7 = df_final7[['yhat_' + g for g in df_grouped.groups.keys()]]\n",
    "    print(c + \" 그룹별 예측 결과\")\n",
    "    for i in range(4):\n",
    "        sum_july7 += df_final7.iloc[-2,i]\n",
    "        sum_august7 += df_final7.iloc[-1,i]\n",
    "    print(f'7월의 sum_use_cnt(결제 건수 합) : {sum_july7}')\n",
    "    print(f'8월의 sum_use_cnt(결제 건수 합) : {sum_august7}')"
   ]
  },
  {
   "cell_type": "code",
   "execution_count": null,
   "metadata": {},
   "outputs": [],
   "source": [
    "# 2. sum_use_amt\n",
    "# mct_cat_nm 그룹별 (mct_cat_nm_group)로 예측하기\n",
    "for c in dong:\n",
    "    sum_july8 = 0\n",
    "    sum_august8 = 0\n",
    "    new_df = card_df[card_df['emd_nm']==c]\n",
    "    new_df = new_df.rename(columns = {'m' : 'ds', 'sum_use_amt' : 'y'})\n",
    "    df_grouped = new_df.groupby('mct_cat_nm_group')   \n",
    "    df_final8 = pd.DataFrame()\n",
    "    for g in df_grouped.groups:\n",
    "        group = df_grouped.get_group(g)\n",
    "        m = Prophet()\n",
    "        m.daily_seasonality=True\n",
    "        m.weekly_seasonality=True\n",
    "        m.fit(group)\n",
    "        future = m.make_future_dataframe(freq ='M', periods=2)\n",
    "        forecast = m.predict(future)\n",
    "        forecast = forecast.rename(columns={'yhat': 'yhat_'+g})\n",
    "        df_final8 = pd.merge(df_final8, forecast.set_index('ds'), how='outer', left_index=True, right_index=True)\n",
    "\n",
    "    df_final8 = df_final8[['yhat_' + g for g in df_grouped.groups.keys()]]\n",
    "    print(c + \" 그룹별 예측 결과\")\n",
    "    for i in range(4):\n",
    "        sum_july8 += df_final8.iloc[-2,i]\n",
    "        sum_august8 += df_final8.iloc[-1,i]\n",
    "    print(f'7월의 sum_use_amt(결제 금액 합) : {sum_july8}')\n",
    "    print(f'8월의 sum_use_amt(결제 금액 합) : {sum_august8}')"
   ]
  },
  {
   "cell_type": "code",
   "execution_count": null,
   "metadata": {},
   "outputs": [],
   "source": []
  },
  {
   "cell_type": "code",
   "execution_count": null,
   "metadata": {},
   "outputs": [],
   "source": []
  },
  {
   "cell_type": "code",
   "execution_count": null,
   "metadata": {},
   "outputs": [],
   "source": [
    "# 문제점 -> Using 21처럼 나오는 것\n",
    "# Well basically if you have very few rows, it will reduce the number of changepoints to make sure that there are always less \n",
    "# changepoints than data. It isn't necessarily an issue, but more to let you know that a specified setting (number of changepoints) \n",
    "# was overridden. That said, the model will be more likely to overfit the changepoints when there is very little data, so if you are \n",
    "# fitting very small time series and are seeing this warning, you may want to check that by plotting the forecasts."
   ]
  },
  {
   "cell_type": "code",
   "execution_count": null,
   "metadata": {},
   "outputs": [],
   "source": []
  },
  {
   "cell_type": "code",
   "execution_count": null,
   "metadata": {},
   "outputs": [],
   "source": []
  },
  {
   "cell_type": "code",
   "execution_count": null,
   "metadata": {},
   "outputs": [],
   "source": []
  },
  {
   "cell_type": "markdown",
   "metadata": {},
   "source": [
    "dong_list = ['geonip','gujwa','namwon','nohyeong','daeryun','daejeong','daecheon','dodu','donghong','bonggae','samdo1','samdo2',\n",
    "             'samyang','seohong','seongsan','songsan','ara','andeok','aewol','yeon','yeongcheon','yerae','ora','oedo','yongdam1',\n",
    "             'yongdam2','udo','ido1','ido2','iho','Ildo1','Ildo2','jeongbang','jocheon','jungmun','jungang','cheonji','chuja','pyoseon',\n",
    "             'hangyeong','hallim','hwabuk','hyodon']\n"
   ]
  },
  {
   "cell_type": "markdown",
   "metadata": {},
   "source": [
    "## 계층적 시계열"
   ]
  },
  {
   "cell_type": "markdown",
   "metadata": {},
   "source": [
    "3. 계층적 시계열에 넣어서 그 동의 7,8월 예측값"
   ]
  },
  {
   "cell_type": "markdown",
   "metadata": {},
   "source": [
    ">  <1> sum_resd_pop_cnt\n",
    ">\n",
    "> <2> sum_work_pop_cnt\n",
    ">\n",
    ">  <3> sum_visit_pop_cnt"
   ]
  },
  {
   "cell_type": "markdown",
   "metadata": {},
   "source": [
    " #### <1> sum_resd_pop_cnt 예측값 구하기 \n"
   ]
  },
  {
   "cell_type": "markdown",
   "metadata": {},
   "source": [
    "1. nationality_group에 따른 sum_resd_pop_cnt를 구하기"
   ]
  },
  {
   "cell_type": "code",
   "execution_count": null,
   "metadata": {
    "scrolled": true
   },
   "outputs": [],
   "source": [
    "\n",
    "\n",
    "# 건입동\n",
    "geonip_df = geonip_df.groupby([\"m\",\"nationality_group\"])[\"sum_resd_pop_cnt\"].sum().reset_index(drop = False)\n",
    "geonip_df"
   ]
  },
  {
   "cell_type": "code",
   "execution_count": null,
   "metadata": {},
   "outputs": [],
   "source": [
    "# 구좌읍\n",
    "gujwa_df = gujwa_df.groupby([\"m\",\"nationality_group\"])[\"sum_resd_pop_cnt\"].sum().reset_index(drop = False)\n",
    "# 남원읍\n",
    "namwon_df= namwon_df.groupby([\"m\",\"nationality_group\"])[\"sum_resd_pop_cnt\"].sum().reset_index(drop = False)\n",
    "# 노형동\n",
    "nohyeong_df = nohyeong_df.groupby([\"m\",\"nationality_group\"])[\"sum_resd_pop_cnt\"].sum().reset_index(drop = False)\n",
    "# 대륜동\n",
    "daeryun_df = daeryun_df.groupby([\"m\",\"nationality_group\"])[\"sum_resd_pop_cnt\"].sum().reset_index(drop = False)\n",
    "# 대정읍\n",
    "daejeong_df = daejeong_df.groupby([\"m\",\"nationality_group\"])[\"sum_resd_pop_cnt\"].sum().reset_index(drop = False)\n",
    "# 대천동\n",
    "daecheon_df = daecheon_df.groupby([\"m\",\"nationality_group\"])[\"sum_resd_pop_cnt\"].sum().reset_index(drop = False)\n",
    "# 도두동\n",
    "dodu_df = dodu_df.groupby([\"m\",\"nationality_group\"])[\"sum_resd_pop_cnt\"].sum().reset_index(drop = False)\n",
    "# 동홍동\n",
    "donghong_df = donghong_df.groupby([\"m\",\"nationality_group\"])[\"sum_resd_pop_cnt\"].sum().reset_index(drop = False)\n",
    "# 봉개동\n",
    "bonggae_df = bonggae_df.groupby([\"m\",\"nationality_group\"])[\"sum_resd_pop_cnt\"].sum().reset_index(drop = False)\n",
    "# 삼도1동\n",
    "samdo1_df = samdo1_df.groupby([\"m\",\"nationality_group\"])[\"sum_resd_pop_cnt\"].sum().reset_index(drop = False)\n",
    "# 삼도2동\n",
    "samdo2_df = samdo2_df.groupby([\"m\",\"nationality_group\"])[\"sum_resd_pop_cnt\"].sum().reset_index(drop = False)\n",
    "# 삼양동\n",
    "samyang_df = samyang_df.groupby([\"m\",\"nationality_group\"])[\"sum_resd_pop_cnt\"].sum().reset_index(drop = False)\n",
    "# 서홍동\n",
    "seohong_df = seohong_df.groupby([\"m\",\"nationality_group\"])[\"sum_resd_pop_cnt\"].sum().reset_index(drop = False)\n",
    "# 성산읍\n",
    "seongsan_df = seongsan_df.groupby([\"m\",\"nationality_group\"])[\"sum_resd_pop_cnt\"].sum().reset_index(drop = False)\n",
    "# 송산동\n",
    "songsan_df = songsan_df.groupby([\"m\",\"nationality_group\"])[\"sum_resd_pop_cnt\"].sum().reset_index(drop = False)\n",
    "# 아라동\n",
    "ara_df = ara_df.groupby([\"m\",\"nationality_group\"])[\"sum_resd_pop_cnt\"].sum().reset_index(drop = False)\n",
    "# 안덕면\n",
    "andeok_df = andeok_df.groupby([\"m\",\"nationality_group\"])[\"sum_resd_pop_cnt\"].sum().reset_index(drop = False)\n",
    "# 애월읍\n",
    "aewol_df = aewol_df.groupby([\"m\",\"nationality_group\"])[\"sum_resd_pop_cnt\"].sum().reset_index(drop = False)\n",
    "# 연동\n",
    "yeon_df = yeon_df.groupby([\"m\",\"nationality_group\"])[\"sum_resd_pop_cnt\"].sum().reset_index(drop = False)\n",
    "# 영천동\n",
    "yeongcheon_df = yeongcheon_df.groupby([\"m\",\"nationality_group\"])[\"sum_resd_pop_cnt\"].sum().reset_index(drop = False)\n",
    "# 예래동\n",
    "yerae_df = yerae_df.groupby([\"m\",\"nationality_group\"])[\"sum_resd_pop_cnt\"].sum().reset_index(drop = False)\n",
    "# 오라동\n",
    "ora_df = ora_df.groupby([\"m\",\"nationality_group\"])[\"sum_resd_pop_cnt\"].sum().reset_index(drop = False)\n",
    "# 외도동\n",
    "oedo_df = oedo_df.groupby([\"m\",\"nationality_group\"])[\"sum_resd_pop_cnt\"].sum().reset_index(drop = False)\n",
    "# 용담1동\n",
    "yongdam1_df = yongdam1_df.groupby([\"m\",\"nationality_group\"])[\"sum_resd_pop_cnt\"].sum().reset_index(drop = False)\n",
    "# 용담2동\n",
    "yongdam2_df = yongdam2_df.groupby([\"m\",\"nationality_group\"])[\"sum_resd_pop_cnt\"].sum().reset_index(drop = False)\n",
    "# 우도면\n",
    "udo_df = udo_df.groupby([\"m\",\"nationality_group\"])[\"sum_resd_pop_cnt\"].sum().reset_index(drop = False)\n",
    "# 이도1동\n",
    "ido1_df = ido1_df.groupby([\"m\",\"nationality_group\"])[\"sum_resd_pop_cnt\"].sum().reset_index(drop = False)\n",
    "# 이도2동\n",
    "ido2_df = ido2_df.groupby([\"m\",\"nationality_group\"])[\"sum_resd_pop_cnt\"].sum().reset_index(drop = False)\n",
    "# 이호동\n",
    "iho_df = iho_df.groupby([\"m\",\"nationality_group\"])[\"sum_resd_pop_cnt\"].sum().reset_index(drop = False)\n",
    "# 일도1동\n",
    "Ildo1_df = Ildo1_df.groupby([\"m\",\"nationality_group\"])[\"sum_resd_pop_cnt\"].sum().reset_index(drop = False)\n",
    "# 일도2동\n",
    "Ildo2_df = Ildo2_df.groupby([\"m\",\"nationality_group\"])[\"sum_resd_pop_cnt\"].sum().reset_index(drop = False)\n",
    "# 정방동\n",
    "jeongbang_df = jeongbang_df.groupby([\"m\",\"nationality_group\"])[\"sum_resd_pop_cnt\"].sum().reset_index(drop = False)\n",
    "# 조천읍\n",
    "jocheon_df = jocheon_df.groupby([\"m\",\"nationality_group\"])[\"sum_resd_pop_cnt\"].sum().reset_index(drop = False)\n",
    "# 중문동\n",
    "jungmun_df = jungmun_df.groupby([\"m\",\"nationality_group\"])[\"sum_resd_pop_cnt\"].sum().reset_index(drop = False)\n",
    "# 중앙동\n",
    "jungang_df = jungang_df.groupby([\"m\",\"nationality_group\"])[\"sum_resd_pop_cnt\"].sum().reset_index(drop = False)\n",
    "# 천지동\n",
    "cheonji_df = cheonji_df.groupby([\"m\",\"nationality_group\"])[\"sum_resd_pop_cnt\"].sum().reset_index(drop = False)\n",
    "# 추자면\n",
    "chuja_df = chuja_df.groupby([\"m\",\"nationality_group\"])[\"sum_resd_pop_cnt\"].sum().reset_index(drop = False)\n",
    "# 표선면\n",
    "pyoseon_df = pyoseon_df.groupby([\"m\",\"nationality_group\"])[\"sum_resd_pop_cnt\"].sum().reset_index(drop = False)\n",
    "# 한경면\n",
    "hangyeong_df = hangyeong_df.groupby([\"m\",\"nationality_group\"])[\"sum_resd_pop_cnt\"].sum().reset_index(drop = False)\n",
    "# 한림읍\n",
    "hallim_df = hallim_df.groupby([\"m\",\"nationality_group\"])[\"sum_resd_pop_cnt\"].sum().reset_index(drop = False)\n",
    "# 화북동 \n",
    "hwabuk_df = hwabuk_df.groupby([\"m\",\"nationality_group\"])[\"sum_resd_pop_cnt\"].sum().reset_index(drop = False)\n",
    "# 효돈동 \n",
    "hyodon_df = hyodon_df.groupby([\"m\",\"nationality_group\"])[\"sum_resd_pop_cnt\"].sum().reset_index(drop = False)"
   ]
  },
  {
   "cell_type": "code",
   "execution_count": null,
   "metadata": {
    "scrolled": true
   },
   "outputs": [],
   "source": [
    "# +) 건입동 세트의 영역 살펴보기\n",
    "geonip_df.groupby(\"nationality_group\")[\"sum_resd_pop_cnt\"].apply(set).to_frame()"
   ]
  },
  {
   "cell_type": "markdown",
   "metadata": {},
   "source": [
    "2. scikit-hts 모델을 만들기 위한 dataframe 만들기"
   ]
  },
  {
   "cell_type": "code",
   "execution_count": null,
   "metadata": {},
   "outputs": [],
   "source": [
    "# 건입동\n",
    "\n",
    "# 가장 하위 레벨(수준) 만들기\n",
    "geonip_df_bottom_level = geonip_df.pivot(index = \"m\",columns = \"nationality_group\",values = \"sum_resd_pop_cnt\")\n",
    "\n",
    "# total 레벨(수준) 만들기\n",
    "geonip_df_total = geonip_df.groupby(\"m\")[\"sum_resd_pop_cnt\"].sum().to_frame().rename(columns = {\"sum_resd_pop_cnt\" : \"resd_total\"})\n",
    "\n",
    "# df 합치기\n",
    "geonip_hierarchy_df = geonip_df_bottom_level.join(geonip_df_total)\n",
    "geonip_hierarchy_df.index = pd.to_datetime(geonip_hierarchy_df.index) # resample위해 인덱스 시간데이터여야\n",
    "\n",
    "geonip_hierarchy_df = geonip_hierarchy_df.resample(\"MS\").sum() # 달초를 알고 싶기에 start를 의미하는 S 붙임\n",
    "\n",
    "# dataframe을 준비한 후 인덱스를 사용하여 결합하고 계층 구조의 하위 수준에서 고유한 계열 수 인쇄\n",
    "print(f\"하위 수준의 시계열 수: {geonip_df_bottom_level.shape[1]}\")"
   ]
  },
  {
   "cell_type": "code",
   "execution_count": null,
   "metadata": {},
   "outputs": [],
   "source": [
    "# 구좌읍\n",
    "gujwa_df_bottom_level = gujwa_df.pivot(index = \"m\",columns = \"nationality_group\",values = \"sum_resd_pop_cnt\")\n",
    "gujwa_df_total = gujwa_df.groupby(\"m\")[\"sum_resd_pop_cnt\"].sum().to_frame().rename(columns = {\"sum_resd_pop_cnt\" : \"resd_total\"})\n",
    "gujwa_hierarchy_df = gujwa_df_bottom_level.join(gujwa_df_total)\n",
    "gujwa_hierarchy_df.index = pd.to_datetime(gujwa_hierarchy_df.index)\n",
    "gujwa_hierarchy_df = gujwa_hierarchy_df.resample(\"MS\").sum()\n",
    "# 남원읍\n",
    "namwon_df_bottom_level = namwon_df.pivot(index = \"m\",columns = \"nationality_group\",values = \"sum_resd_pop_cnt\")\n",
    "namwon_df_total = namwon_df.groupby(\"m\")[\"sum_resd_pop_cnt\"].sum().to_frame().rename(columns = {\"sum_resd_pop_cnt\" : \"resd_total\"})\n",
    "namwon_hierarchy_df = namwon_df_bottom_level.join(namwon_df_total)\n",
    "namwon_hierarchy_df.index = pd.to_datetime(namwon_hierarchy_df.index)\n",
    "namwon_hierarchy_df = namwon_hierarchy_df.resample(\"MS\").sum()\n",
    "# 노형동\n",
    "nohyeong_df_bottom_level = nohyeong_df.pivot(index = \"m\",columns = \"nationality_group\",values = \"sum_resd_pop_cnt\")\n",
    "nohyeong_df_total = nohyeong_df.groupby(\"m\")[\"sum_resd_pop_cnt\"].sum().to_frame().rename(columns = {\"sum_resd_pop_cnt\" : \"resd_total\"})\n",
    "nohyeong_hierarchy_df = nohyeong_df_bottom_level.join(nohyeong_df_total)\n",
    "nohyeong_hierarchy_df.index = pd.to_datetime(nohyeong_hierarchy_df.index)\n",
    "nohyeong_hierarchy_df = nohyeong_hierarchy_df.resample(\"MS\").sum()\n",
    "# 대륜동\n",
    "daeryun_df_bottom_level = daeryun_df.pivot(index = \"m\",columns = \"nationality_group\",values = \"sum_resd_pop_cnt\")\n",
    "daeryun_df_total = daeryun_df.groupby(\"m\")[\"sum_resd_pop_cnt\"].sum().to_frame().rename(columns = {\"sum_resd_pop_cnt\" : \"resd_total\"})\n",
    "daeryun_hierarchy_df = daeryun_df_bottom_level.join(daeryun_df_total)\n",
    "daeryun_hierarchy_df.index = pd.to_datetime(daeryun_hierarchy_df.index)\n",
    "daeryun_hierarchy_df = daeryun_hierarchy_df.resample(\"MS\").sum()\n",
    "# 대정읍\n",
    "daejeong_df_bottom_level = daejeong_df.pivot(index = \"m\",columns = \"nationality_group\",values = \"sum_resd_pop_cnt\")\n",
    "daejeong_df_total = daejeong_df.groupby(\"m\")[\"sum_resd_pop_cnt\"].sum().to_frame().rename(columns = {\"sum_resd_pop_cnt\" : \"resd_total\"})\n",
    "daejeong_hierarchy_df = daejeong_df_bottom_level.join(daejeong_df_total)\n",
    "daejeong_hierarchy_df.index = pd.to_datetime(daejeong_hierarchy_df.index)\n",
    "daejeong_hierarchy_df = daejeong_hierarchy_df.resample(\"MS\").sum()\n",
    "# 대천동\n",
    "daecheon_df_bottom_level = daecheon_df.pivot(index = \"m\",columns = \"nationality_group\",values = \"sum_resd_pop_cnt\")\n",
    "daecheon_df_total = daecheon_df.groupby(\"m\")[\"sum_resd_pop_cnt\"].sum().to_frame().rename(columns = {\"sum_resd_pop_cnt\" : \"resd_total\"})\n",
    "daecheon_hierarchy_df = daecheon_df_bottom_level.join(daecheon_df_total)\n",
    "daecheon_hierarchy_df.index = pd.to_datetime(daecheon_hierarchy_df.index)\n",
    "daecheon_hierarchy_df = daecheon_hierarchy_df.resample(\"MS\").sum()\n",
    "# 도두동\n",
    "dodu_df_bottom_level = dodu_df.pivot(index = \"m\",columns = \"nationality_group\",values = \"sum_resd_pop_cnt\")\n",
    "dodu_df_total = dodu_df.groupby(\"m\")[\"sum_resd_pop_cnt\"].sum().to_frame().rename(columns = {\"sum_resd_pop_cnt\" : \"resd_total\"})\n",
    "dodu_hierarchy_df = dodu_df_bottom_level.join(dodu_df_total)\n",
    "dodu_hierarchy_df.index = pd.to_datetime(dodu_hierarchy_df.index)\n",
    "dodu_hierarchy_df = dodu_hierarchy_df.resample(\"MS\").sum()\n",
    "# 동홍동\n",
    "donghong_df_bottom_level = donghong_df.pivot(index = \"m\",columns = \"nationality_group\",values = \"sum_resd_pop_cnt\")\n",
    "donghong_df_total = donghong_df.groupby(\"m\")[\"sum_resd_pop_cnt\"].sum().to_frame().rename(columns = {\"sum_resd_pop_cnt\" : \"resd_total\"})\n",
    "donghong_hierarchy_df = donghong_df_bottom_level.join(donghong_df_total)\n",
    "donghong_hierarchy_df.index = pd.to_datetime(donghong_hierarchy_df.index)\n",
    "donghong_hierarchy_df = donghong_hierarchy_df.resample(\"MS\").sum()\n",
    "# 봉개동\n",
    "bonggae_df_bottom_level = bonggae_df.pivot(index = \"m\",columns = \"nationality_group\",values = \"sum_resd_pop_cnt\")\n",
    "bonggae_df_total = bonggae_df.groupby(\"m\")[\"sum_resd_pop_cnt\"].sum().to_frame().rename(columns = {\"sum_resd_pop_cnt\" : \"resd_total\"})\n",
    "bonggae_hierarchy_df = bonggae_df_bottom_level.join(bonggae_df_total)\n",
    "bonggae_hierarchy_df.index = pd.to_datetime(bonggae_hierarchy_df.index)\n",
    "bonggae_hierarchy_df = bonggae_hierarchy_df.resample(\"MS\").sum()\n",
    "# 삼도1동\n",
    "samdo1_df_bottom_level = samdo1_df.pivot(index = \"m\",columns = \"nationality_group\",values = \"sum_resd_pop_cnt\")\n",
    "samdo1_df_total = samdo1_df.groupby(\"m\")[\"sum_resd_pop_cnt\"].sum().to_frame().rename(columns = {\"sum_resd_pop_cnt\" : \"resd_total\"})\n",
    "samdo1_hierarchy_df = samdo1_df_bottom_level.join(samdo1_df_total)\n",
    "samdo1_hierarchy_df.index = pd.to_datetime(samdo1_hierarchy_df.index)\n",
    "samdo1_hierarchy_df = samdo1_hierarchy_df.resample(\"MS\").sum()\n",
    "# 삼도2동\n",
    "samdo2_df_bottom_level = samdo2_df.pivot(index = \"m\",columns = \"nationality_group\",values = \"sum_resd_pop_cnt\")\n",
    "samdo2_df_total = samdo2_df.groupby(\"m\")[\"sum_resd_pop_cnt\"].sum().to_frame().rename(columns = {\"sum_resd_pop_cnt\" : \"resd_total\"})\n",
    "samdo2_hierarchy_df = samdo2_df_bottom_level.join(samdo2_df_total)\n",
    "samdo2_hierarchy_df.index = pd.to_datetime(samdo2_hierarchy_df.index)\n",
    "samdo2_hierarchy_df = samdo2_hierarchy_df.resample(\"MS\").sum()\n",
    "# 삼양동\n",
    "samyang_df_bottom_level = samyang_df.pivot(index = \"m\",columns = \"nationality_group\",values = \"sum_resd_pop_cnt\")\n",
    "samyang_df_total = samyang_df.groupby(\"m\")[\"sum_resd_pop_cnt\"].sum().to_frame().rename(columns = {\"sum_resd_pop_cnt\" : \"resd_total\"})\n",
    "samyang_hierarchy_df = samyang_df_bottom_level.join(samyang_df_total)\n",
    "samyang_hierarchy_df.index = pd.to_datetime(samyang_hierarchy_df.index)\n",
    "samyang_hierarchy_df = samyang_hierarchy_df.resample(\"MS\").sum()\n",
    "# 서홍동\n",
    "seohong_df_bottom_level = seohong_df.pivot(index = \"m\",columns = \"nationality_group\",values = \"sum_resd_pop_cnt\")\n",
    "seohong_df_total = seohong_df.groupby(\"m\")[\"sum_resd_pop_cnt\"].sum().to_frame().rename(columns = {\"sum_resd_pop_cnt\" : \"resd_total\"})\n",
    "seohong_hierarchy_df = seohong_df_bottom_level.join(seohong_df_total)\n",
    "seohong_hierarchy_df.index = pd.to_datetime(seohong_hierarchy_df.index)\n",
    "seohong_hierarchy_df = seohong_hierarchy_df.resample(\"MS\").sum()\n",
    "# 성산읍\n",
    "seongsan_df_bottom_level = seongsan_df.pivot(index = \"m\",columns = \"nationality_group\",values = \"sum_resd_pop_cnt\")\n",
    "seongsan_df_total = seongsan_df.groupby(\"m\")[\"sum_resd_pop_cnt\"].sum().to_frame().rename(columns = {\"sum_resd_pop_cnt\" : \"resd_total\"})\n",
    "seongsan_hierarchy_df = seongsan_df_bottom_level.join(seongsan_df_total)\n",
    "seongsan_hierarchy_df.index = pd.to_datetime(seongsan_hierarchy_df.index)\n",
    "seongsan_hierarchy_df = seongsan_hierarchy_df.resample(\"MS\").sum()\n",
    "# 송산동\n",
    "songsan_df_bottom_level = songsan_df.pivot(index = \"m\",columns = \"nationality_group\",values = \"sum_resd_pop_cnt\")\n",
    "songsan_df_total = songsan_df.groupby(\"m\")[\"sum_resd_pop_cnt\"].sum().to_frame().rename(columns = {\"sum_resd_pop_cnt\" : \"resd_total\"})\n",
    "songsan_hierarchy_df = songsan_df_bottom_level.join(songsan_df_total)\n",
    "songsan_hierarchy_df.index = pd.to_datetime(songsan_hierarchy_df.index)\n",
    "songsan_hierarchy_df = songsan_hierarchy_df.resample(\"MS\").sum()\n",
    "# 아라동\n",
    "ara_df_bottom_level = ara_df.pivot(index = \"m\",columns = \"nationality_group\",values = \"sum_resd_pop_cnt\")\n",
    "ara_df_total = ara_df.groupby(\"m\")[\"sum_resd_pop_cnt\"].sum().to_frame().rename(columns = {\"sum_resd_pop_cnt\" : \"resd_total\"})\n",
    "ara_hierarchy_df = ara_df_bottom_level.join(ara_df_total)\n",
    "ara_hierarchy_df.index = pd.to_datetime(ara_hierarchy_df.index)\n",
    "ara_hierarchy_df = ara_hierarchy_df.resample(\"MS\").sum()\n",
    "# 안덕면\n",
    "andeok_df_bottom_level = andeok_df.pivot(index = \"m\",columns = \"nationality_group\",values = \"sum_resd_pop_cnt\")\n",
    "andeok_df_total = andeok_df.groupby(\"m\")[\"sum_resd_pop_cnt\"].sum().to_frame().rename(columns = {\"sum_resd_pop_cnt\" : \"resd_total\"})\n",
    "andeok_hierarchy_df = andeok_df_bottom_level.join(andeok_df_total)\n",
    "andeok_hierarchy_df.index = pd.to_datetime(andeok_hierarchy_df.index)\n",
    "andeok_hierarchy_df = andeok_hierarchy_df.resample(\"MS\").sum()\n",
    "# 애월읍\n",
    "aewol_df_bottom_level = aewol_df.pivot(index = \"m\",columns = \"nationality_group\",values = \"sum_resd_pop_cnt\")\n",
    "aewol_df_total = aewol_df.groupby(\"m\")[\"sum_resd_pop_cnt\"].sum().to_frame().rename(columns = {\"sum_resd_pop_cnt\" : \"resd_total\"})\n",
    "aewol_hierarchy_df = aewol_df_bottom_level.join(aewol_df_total)\n",
    "aewol_hierarchy_df.index = pd.to_datetime(aewol_hierarchy_df.index)\n",
    "aewol_hierarchy_df = aewol_hierarchy_df.resample(\"MS\").sum()\n",
    "# 연동\n",
    "yeon_df_bottom_level = yeon_df.pivot(index = \"m\",columns = \"nationality_group\",values = \"sum_resd_pop_cnt\")\n",
    "yeon_df_total = yeon_df.groupby(\"m\")[\"sum_resd_pop_cnt\"].sum().to_frame().rename(columns = {\"sum_resd_pop_cnt\" : \"resd_total\"})\n",
    "yeon_hierarchy_df = yeon_df_bottom_level.join(yeon_df_total)\n",
    "yeon_hierarchy_df.index = pd.to_datetime(yeon_hierarchy_df.index)\n",
    "yeon_hierarchy_df = yeon_hierarchy_df.resample(\"MS\").sum()\n",
    "# 영천동\n",
    "yeongcheon_df_bottom_level = yeongcheon_df.pivot(index = \"m\",columns = \"nationality_group\",values = \"sum_resd_pop_cnt\")\n",
    "yeongcheon_df_total = yeongcheon_df.groupby(\"m\")[\"sum_resd_pop_cnt\"].sum().to_frame().rename(columns = {\"sum_resd_pop_cnt\" : \"resd_total\"})\n",
    "yeongcheon_hierarchy_df = yeongcheon_df_bottom_level.join(yeongcheon_df_total)\n",
    "yeongcheon_hierarchy_df.index = pd.to_datetime(yeongcheon_hierarchy_df.index)\n",
    "yeongcheon_hierarchy_df = yeongcheon_hierarchy_df.resample(\"MS\").sum()\n",
    "# 예래동\n",
    "yerae_df_bottom_level = yerae_df.pivot(index = \"m\",columns = \"nationality_group\",values = \"sum_resd_pop_cnt\")\n",
    "yerae_df_total = yerae_df.groupby(\"m\")[\"sum_resd_pop_cnt\"].sum().to_frame().rename(columns = {\"sum_resd_pop_cnt\" : \"resd_total\"})\n",
    "yerae_hierarchy_df = yerae_df_bottom_level.join(yerae_df_total)\n",
    "yerae_hierarchy_df.index = pd.to_datetime(yerae_hierarchy_df.index)\n",
    "yerae_hierarchy_df = yerae_hierarchy_df.resample(\"MS\").sum()\n",
    "# 오라동\n",
    "ora_df_bottom_level = ora_df.pivot(index = \"m\",columns = \"nationality_group\",values = \"sum_resd_pop_cnt\")\n",
    "ora_df_total = ora_df.groupby(\"m\")[\"sum_resd_pop_cnt\"].sum().to_frame().rename(columns = {\"sum_resd_pop_cnt\" : \"resd_total\"})\n",
    "ora_hierarchy_df = ora_df_bottom_level.join(ora_df_total)\n",
    "ora_hierarchy_df.index = pd.to_datetime(ora_hierarchy_df.index)\n",
    "ora_hierarchy_df = ora_hierarchy_df.resample(\"MS\").sum()\n",
    "# 외도동\n",
    "oedo_df_bottom_level = oedo_df.pivot(index = \"m\",columns = \"nationality_group\",values = \"sum_resd_pop_cnt\")\n",
    "oedo_df_total = oedo_df.groupby(\"m\")[\"sum_resd_pop_cnt\"].sum().to_frame().rename(columns = {\"sum_resd_pop_cnt\" : \"resd_total\"})\n",
    "oedo_hierarchy_df = oedo_df_bottom_level.join(oedo_df_total)\n",
    "oedo_hierarchy_df.index = pd.to_datetime(oedo_hierarchy_df.index)\n",
    "oedo_hierarchy_df = oedo_hierarchy_df.resample(\"MS\").sum()\n",
    "# 용담1동\n",
    "yongdam1_df_bottom_level = yongdam1_df.pivot(index = \"m\",columns = \"nationality_group\",values = \"sum_resd_pop_cnt\")\n",
    "yongdam1_df_total = yongdam1_df.groupby(\"m\")[\"sum_resd_pop_cnt\"].sum().to_frame().rename(columns = {\"sum_resd_pop_cnt\" : \"resd_total\"})\n",
    "yongdam1_hierarchy_df = yongdam1_df_bottom_level.join(yongdam1_df_total)\n",
    "yongdam1_hierarchy_df.index = pd.to_datetime(yongdam1_hierarchy_df.index)\n",
    "yongdam1_hierarchy_df = yongdam1_hierarchy_df.resample(\"MS\").sum()\n",
    "# 용담2동\n",
    "yongdam2_df_bottom_level = yongdam2_df.pivot(index = \"m\",columns = \"nationality_group\",values = \"sum_resd_pop_cnt\")\n",
    "yongdam2_df_total = yongdam2_df.groupby(\"m\")[\"sum_resd_pop_cnt\"].sum().to_frame().rename(columns = {\"sum_resd_pop_cnt\" : \"resd_total\"})\n",
    "yongdam2_hierarchy_df = yongdam2_df_bottom_level.join(yongdam2_df_total)\n",
    "yongdam2_hierarchy_df.index = pd.to_datetime(yongdam2_hierarchy_df.index)\n",
    "yongdam2_hierarchy_df = yongdam2_hierarchy_df.resample(\"MS\").sum()\n",
    "# 우도면\n",
    "udo_df_bottom_level = udo_df.pivot(index = \"m\",columns = \"nationality_group\",values = \"sum_resd_pop_cnt\")\n",
    "udo_df_total = udo_df.groupby(\"m\")[\"sum_resd_pop_cnt\"].sum().to_frame().rename(columns = {\"sum_resd_pop_cnt\" : \"resd_total\"})\n",
    "udo_hierarchy_df = udo_df_bottom_level.join(udo_df_total)\n",
    "udo_hierarchy_df.index = pd.to_datetime(udo_hierarchy_df.index)\n",
    "udo_hierarchy_df = udo_hierarchy_df.resample(\"MS\").sum()\n",
    "# 이도1동\n",
    "ido1_df_bottom_level = ido1_df.pivot(index = \"m\",columns = \"nationality_group\",values = \"sum_resd_pop_cnt\")\n",
    "ido1_df_total = ido1_df.groupby(\"m\")[\"sum_resd_pop_cnt\"].sum().to_frame().rename(columns = {\"sum_resd_pop_cnt\" : \"resd_total\"})\n",
    "ido1_hierarchy_df = ido1_df_bottom_level.join(ido1_df_total)\n",
    "ido1_hierarchy_df.index = pd.to_datetime(ido1_hierarchy_df.index)\n",
    "ido1_hierarchy_df = ido1_hierarchy_df.resample(\"MS\").sum()\n",
    "# 이도2동\n",
    "ido2_df_bottom_level = ido2_df.pivot(index = \"m\",columns = \"nationality_group\",values = \"sum_resd_pop_cnt\")\n",
    "ido2_df_total = ido2_df.groupby(\"m\")[\"sum_resd_pop_cnt\"].sum().to_frame().rename(columns = {\"sum_resd_pop_cnt\" : \"resd_total\"})\n",
    "ido2_hierarchy_df = ido2_df_bottom_level.join(ido2_df_total)\n",
    "ido2_hierarchy_df.index = pd.to_datetime(ido2_hierarchy_df.index)\n",
    "ido2_hierarchy_df = ido2_hierarchy_df.resample(\"MS\").sum()\n",
    "# 이호동\n",
    "iho_df_bottom_level = iho_df.pivot(index = \"m\",columns = \"nationality_group\",values = \"sum_resd_pop_cnt\")\n",
    "iho_df_total = iho_df.groupby(\"m\")[\"sum_resd_pop_cnt\"].sum().to_frame().rename(columns = {\"sum_resd_pop_cnt\" : \"resd_total\"})\n",
    "iho_hierarchy_df = iho_df_bottom_level.join(iho_df_total)\n",
    "iho_hierarchy_df.index = pd.to_datetime(iho_hierarchy_df.index)\n",
    "iho_hierarchy_df = iho_hierarchy_df.resample(\"MS\").sum()\n",
    "# 일도1동\n",
    "Ildo1_df_bottom_level = Ildo1_df.pivot(index = \"m\",columns = \"nationality_group\",values = \"sum_resd_pop_cnt\")\n",
    "Ildo1_df_total = Ildo1_df.groupby(\"m\")[\"sum_resd_pop_cnt\"].sum().to_frame().rename(columns = {\"sum_resd_pop_cnt\" : \"resd_total\"})\n",
    "Ildo1_hierarchy_df = Ildo1_df_bottom_level.join(Ildo1_df_total)\n",
    "Ildo1_hierarchy_df.index = pd.to_datetime(Ildo1_hierarchy_df.index)\n",
    "Ildo1_hierarchy_df = Ildo1_hierarchy_df.resample(\"MS\").sum()\n",
    "# 일도2동\n",
    "Ildo2_df_bottom_level = Ildo2_df.pivot(index = \"m\",columns = \"nationality_group\",values = \"sum_resd_pop_cnt\")\n",
    "Ildo2_df_total = Ildo2_df.groupby(\"m\")[\"sum_resd_pop_cnt\"].sum().to_frame().rename(columns = {\"sum_resd_pop_cnt\" : \"resd_total\"})\n",
    "Ildo2_hierarchy_df = Ildo2_df_bottom_level.join(Ildo2_df_total)\n",
    "Ildo2_hierarchy_df.index = pd.to_datetime(Ildo2_hierarchy_df.index)\n",
    "Ildo2_hierarchy_df = Ildo2_hierarchy_df.resample(\"MS\").sum()\n",
    "# 정방동\n",
    "jeongbang_df_bottom_level = jeongbang_df.pivot(index = \"m\",columns = \"nationality_group\",values = \"sum_resd_pop_cnt\")\n",
    "jeongbang_df_total = jeongbang_df.groupby(\"m\")[\"sum_resd_pop_cnt\"].sum().to_frame().rename(columns = {\"sum_resd_pop_cnt\" : \"resd_total\"})\n",
    "jeongbang_hierarchy_df = jeongbang_df_bottom_level.join(jeongbang_df_total)\n",
    "jeongbang_hierarchy_df.index = pd.to_datetime(jeongbang_hierarchy_df.index)\n",
    "jeongbang_hierarchy_df = jeongbang_hierarchy_df.resample(\"MS\").sum()\n",
    "# 조천읍\n",
    "jocheon_df_bottom_level = jocheon_df.pivot(index = \"m\",columns = \"nationality_group\",values = \"sum_resd_pop_cnt\")\n",
    "jocheon_df_total = jocheon_df.groupby(\"m\")[\"sum_resd_pop_cnt\"].sum().to_frame().rename(columns = {\"sum_resd_pop_cnt\" : \"resd_total\"})\n",
    "jocheon_hierarchy_df = jocheon_df_bottom_level.join(jocheon_df_total)\n",
    "jocheon_hierarchy_df.index = pd.to_datetime(jocheon_hierarchy_df.index)\n",
    "jocheon_hierarchy_df = jocheon_hierarchy_df.resample(\"MS\").sum()\n",
    "# 중문동\n",
    "jungmun_df_bottom_level = jungmun_df.pivot(index = \"m\",columns = \"nationality_group\",values = \"sum_resd_pop_cnt\")\n",
    "jungmun_df_total = jungmun_df.groupby(\"m\")[\"sum_resd_pop_cnt\"].sum().to_frame().rename(columns = {\"sum_resd_pop_cnt\" : \"resd_total\"})\n",
    "jungmun_hierarchy_df = jungmun_df_bottom_level.join(jungmun_df_total)\n",
    "jungmun_hierarchy_df.index = pd.to_datetime(jungmun_hierarchy_df.index)\n",
    "jungmun_hierarchy_df = jungmun_hierarchy_df.resample(\"MS\").sum()\n",
    "# 중앙동\n",
    "jungang_df_bottom_level = jungang_df.pivot(index = \"m\",columns = \"nationality_group\",values = \"sum_resd_pop_cnt\")\n",
    "jungang_df_total = jungang_df.groupby(\"m\")[\"sum_resd_pop_cnt\"].sum().to_frame().rename(columns = {\"sum_resd_pop_cnt\" : \"resd_total\"})\n",
    "jungang_hierarchy_df = jungang_df_bottom_level.join(jungang_df_total)\n",
    "jungang_hierarchy_df.index = pd.to_datetime(jungang_hierarchy_df.index)\n",
    "jungang_hierarchy_df = jungang_hierarchy_df.resample(\"MS\").sum()\n",
    "# 천지동\n",
    "cheonji_df_bottom_level = cheonji_df.pivot(index = \"m\",columns = \"nationality_group\",values = \"sum_resd_pop_cnt\")\n",
    "cheonji_df_total = cheonji_df.groupby(\"m\")[\"sum_resd_pop_cnt\"].sum().to_frame().rename(columns = {\"sum_resd_pop_cnt\" : \"resd_total\"})\n",
    "cheonji_hierarchy_df = cheonji_df_bottom_level.join(cheonji_df_total)\n",
    "cheonji_hierarchy_df.index = pd.to_datetime(cheonji_hierarchy_df.index)\n",
    "cheonji_hierarchy_df = cheonji_hierarchy_df.resample(\"MS\").sum()\n",
    "# 추자면\n",
    "chuja_df_bottom_level = chuja_df.pivot(index = \"m\",columns = \"nationality_group\",values = \"sum_resd_pop_cnt\")\n",
    "chuja_df_total = chuja_df.groupby(\"m\")[\"sum_resd_pop_cnt\"].sum().to_frame().rename(columns = {\"sum_resd_pop_cnt\" : \"resd_total\"})\n",
    "chuja_hierarchy_df = chuja_df_bottom_level.join(chuja_df_total)\n",
    "chuja_hierarchy_df.index = pd.to_datetime(chuja_hierarchy_df.index)\n",
    "chuja_hierarchy_df = chuja_hierarchy_df.resample(\"MS\").sum()\n",
    "# 표선면\n",
    "pyoseon_df_bottom_level = pyoseon_df.pivot(index = \"m\",columns = \"nationality_group\",values = \"sum_resd_pop_cnt\")\n",
    "pyoseon_df_total = pyoseon_df.groupby(\"m\")[\"sum_resd_pop_cnt\"].sum().to_frame().rename(columns = {\"sum_resd_pop_cnt\" : \"resd_total\"})\n",
    "pyoseon_hierarchy_df = pyoseon_df_bottom_level.join(pyoseon_df_total)\n",
    "pyoseon_hierarchy_df.index = pd.to_datetime(pyoseon_hierarchy_df.index)\n",
    "pyoseon_hierarchy_df = pyoseon_hierarchy_df.resample(\"MS\").sum()\n",
    "# 한경면\n",
    "hangyeong_df_bottom_level = hangyeong_df.pivot(index = \"m\",columns = \"nationality_group\",values = \"sum_resd_pop_cnt\")\n",
    "hangyeong_df_total = hangyeong_df.groupby(\"m\")[\"sum_resd_pop_cnt\"].sum().to_frame().rename(columns = {\"sum_resd_pop_cnt\" : \"resd_total\"})\n",
    "hangyeong_hierarchy_df = hangyeong_df_bottom_level.join(hangyeong_df_total)\n",
    "hangyeong_hierarchy_df.index = pd.to_datetime(hangyeong_hierarchy_df.index)\n",
    "hangyeong_hierarchy_df = hangyeong_hierarchy_df.resample(\"MS\").sum()\n",
    "# 한림읍\n",
    "hallim_df_bottom_level = hallim_df.pivot(index = \"m\",columns = \"nationality_group\",values = \"sum_resd_pop_cnt\")\n",
    "hallim_df_total = hallim_df.groupby(\"m\")[\"sum_resd_pop_cnt\"].sum().to_frame().rename(columns = {\"sum_resd_pop_cnt\" : \"resd_total\"})\n",
    "hallim_hierarchy_df = hallim_df_bottom_level.join(hallim_df_total)\n",
    "hallim_hierarchy_df.index = pd.to_datetime(hallim_hierarchy_df.index)\n",
    "hallim_hierarchy_df = hallim_hierarchy_df.resample(\"MS\").sum()\n",
    "# 화북동\n",
    "hwabuk_df_bottom_level = hwabuk_df.pivot(index = \"m\",columns = \"nationality_group\",values = \"sum_resd_pop_cnt\")\n",
    "hwabuk_df_total = hwabuk_df.groupby(\"m\")[\"sum_resd_pop_cnt\"].sum().to_frame().rename(columns = {\"sum_resd_pop_cnt\" : \"resd_total\"})\n",
    "hwabuk_hierarchy_df = hwabuk_df_bottom_level.join(hwabuk_df_total)\n",
    "hwabuk_hierarchy_df.index = pd.to_datetime(hwabuk_hierarchy_df.index)\n",
    "hwabuk_hierarchy_df = hwabuk_hierarchy_df.resample(\"MS\").sum()\n",
    "# 효돈동\n",
    "hyodon_df_bottom_level = hyodon_df.pivot(index = \"m\",columns = \"nationality_group\",values = \"sum_resd_pop_cnt\")\n",
    "hyodon_df_total = hyodon_df.groupby(\"m\")[\"sum_resd_pop_cnt\"].sum().to_frame().rename(columns = {\"sum_resd_pop_cnt\" : \"resd_total\"})\n",
    "hyodon_hierarchy_df = hyodon_df_bottom_level.join(hyodon_df_total)\n",
    "hyodon_hierarchy_df.index = pd.to_datetime(hyodon_hierarchy_df.index)\n",
    "hyodon_hierarchy_df = hyodon_hierarchy_df.resample(\"MS\").sum()"
   ]
  },
  {
   "cell_type": "markdown",
   "metadata": {},
   "source": [
    "3. 계층구조 만들기"
   ]
  },
  {
   "cell_type": "code",
   "execution_count": null,
   "metadata": {},
   "outputs": [],
   "source": []
  },
  {
   "cell_type": "code",
   "execution_count": null,
   "metadata": {},
   "outputs": [],
   "source": []
  },
  {
   "cell_type": "code",
   "execution_count": null,
   "metadata": {},
   "outputs": [],
   "source": []
  },
  {
   "cell_type": "code",
   "execution_count": null,
   "metadata": {},
   "outputs": [],
   "source": []
  },
  {
   "cell_type": "markdown",
   "metadata": {},
   "source": [
    "### month_short_term_frgn 단기체류"
   ]
  },
  {
   "cell_type": "code",
   "execution_count": null,
   "metadata": {
    "scrolled": true
   },
   "outputs": [],
   "source": [
    "short_df = pd.read_csv('month_short_term_frgn.csv')\n",
    "short_df"
   ]
  },
  {
   "cell_type": "markdown",
   "metadata": {},
   "source": [
    "### 1. grouping"
   ]
  },
  {
   "cell_type": "code",
   "execution_count": null,
   "metadata": {},
   "outputs": [],
   "source": [
    "group1= ['VNM']\n",
    "group2 = ['JPN','SGP','IDN','MYS']\n",
    "group3 = ['USA','CHN','ETC']\n",
    "group4 = ['HKG','THA']"
   ]
  },
  {
   "cell_type": "code",
   "execution_count": null,
   "metadata": {},
   "outputs": [],
   "source": [
    "for i in short_df.index:\n",
    "    if short_df.loc[i,'nationality'] in group1:\n",
    "        short_df.loc[i,'nationality_group'] = 'group1'\n",
    "    elif short_df.loc[i,'nationality'] in group2:\n",
    "        short_df.loc[i,'nationality_group'] = 'group2'\n",
    "    elif short_df.loc[i,'nationality'] in group3:\n",
    "        short_df.loc[i,'nationality_group'] = 'group3'\n",
    "    elif short_df.loc[i,'nationality'] in group4:\n",
    "        short_df.loc[i,'nationality_group'] = 'group4'\n"
   ]
  },
  {
   "cell_type": "code",
   "execution_count": null,
   "metadata": {},
   "outputs": [],
   "source": [
    "short_df['nationality_group'].value_counts()"
   ]
  },
  {
   "cell_type": "markdown",
   "metadata": {},
   "source": [
    "### month_resident_pop (거주 인구 데이터)"
   ]
  },
  {
   "cell_type": "code",
   "execution_count": null,
   "metadata": {},
   "outputs": [],
   "source": [
    "# sex 그루핑 이미 나눠져 있음 !\n",
    "resi_df = pd.read_csv('month_resident_pop.csv')\n",
    "resi_df"
   ]
  },
  {
   "cell_type": "markdown",
   "metadata": {},
   "source": [
    "### month_korean(내국인 유동인구 데이터)"
   ]
  },
  {
   "cell_type": "code",
   "execution_count": null,
   "metadata": {},
   "outputs": [],
   "source": [
    "korean = pd.read_csv('month_korean.csv')\n",
    "korean"
   ]
  },
  {
   "cell_type": "code",
   "execution_count": null,
   "metadata": {},
   "outputs": [],
   "source": [
    "korean.info()"
   ]
  },
  {
   "cell_type": "markdown",
   "metadata": {},
   "source": [
    "### 1. age grouping"
   ]
  },
  {
   "cell_type": "code",
   "execution_count": null,
   "metadata": {},
   "outputs": [],
   "source": [
    "group1= [0,10]\n",
    "group2 = [20,30]\n",
    "group3 = [40,50]\n",
    "group4 = [60]\n",
    "group5 = [70,80]"
   ]
  },
  {
   "cell_type": "code",
   "execution_count": null,
   "metadata": {},
   "outputs": [],
   "source": [
    "for i in korean.index:\n",
    "    if korean.loc[i,'age'] in group1:\n",
    "        korean.loc[i,'age_group'] = 'group1'\n",
    "    elif korean.loc[i,'age'] in group2:\n",
    "        korean.loc[i,'age_group'] = 'group2'\n",
    "    elif korean.loc[i,'age'] in group3:\n",
    "        korean.loc[i,'age_group'] = 'group3'\n",
    "    elif korean.loc[i,'age'] in group4:\n",
    "        korean.loc[i,'age_group'] = 'group4'\n",
    "    elif korean.loc[i,'age'] in group5:\n",
    "        korean.loc[i,'age_group'] = 'group5'"
   ]
  },
  {
   "cell_type": "code",
   "execution_count": null,
   "metadata": {},
   "outputs": [],
   "source": [
    "korean['age_group'].unique()"
   ]
  },
  {
   "cell_type": "code",
   "execution_count": null,
   "metadata": {},
   "outputs": [],
   "source": [
    "korean['age_group'].value_counts()"
   ]
  },
  {
   "cell_type": "markdown",
   "metadata": {},
   "source": [
    "### month_card_spending (음식 관련 카드소비 데이터)"
   ]
  },
  {
   "cell_type": "code",
   "execution_count": null,
   "metadata": {},
   "outputs": [],
   "source": [
    "card_df = pd.read_csv('month_card_spending.csv',encoding='cp949')\n",
    "card_df"
   ]
  },
  {
   "cell_type": "markdown",
   "metadata": {},
   "source": [
    "### 1. mct_cat_nm grouping"
   ]
  },
  {
   "cell_type": "code",
   "execution_count": null,
   "metadata": {},
   "outputs": [],
   "source": [
    "card_df['mct_cat_nm'].unique()"
   ]
  },
  {
   "cell_type": "code",
   "execution_count": null,
   "metadata": {},
   "outputs": [],
   "source": [
    "group1 = ['마트/슈퍼마켓','한식']\n",
    "group2 = ['식품']\n",
    "group3 = ['농축수산물']\n",
    "group4 = ['아시아음식','간식','배달','패스트푸드','양식','부페','주점및주류판매']"
   ]
  },
  {
   "cell_type": "code",
   "execution_count": null,
   "metadata": {},
   "outputs": [],
   "source": [
    "for i in card_df.index:\n",
    "    if card_df.loc[i,'mct_cat_nm'] in group1:\n",
    "        card_df.loc[i,'mct_cat_nm_group'] = 'group1'\n",
    "    elif card_df.loc[i,'mct_cat_nm'] in group2:\n",
    "        card_df.loc[i,'mct_cat_nm_group'] = 'group2'\n",
    "    elif card_df.loc[i,'mct_cat_nm'] in group3:\n",
    "        card_df.loc[i,'mct_cat_nm_group'] = 'group3'\n",
    "    elif card_df.loc[i,'mct_cat_nm'] in group4:\n",
    "        card_df.loc[i,'mct_cat_nm_group'] = 'group4'"
   ]
  },
  {
   "cell_type": "code",
   "execution_count": null,
   "metadata": {},
   "outputs": [],
   "source": [
    "card_df['mct_cat_nm_group'].unique()"
   ]
  },
  {
   "cell_type": "code",
   "execution_count": null,
   "metadata": {},
   "outputs": [],
   "source": [
    "card_df['mct_cat_nm_group'].value_counts()"
   ]
  },
  {
   "cell_type": "code",
   "execution_count": null,
   "metadata": {},
   "outputs": [],
   "source": []
  }
 ],
 "metadata": {
  "kernelspec": {
   "display_name": "Python 3",
   "language": "python",
   "name": "python3"
  }
 },
 "nbformat": 4,
 "nbformat_minor": 4
}
