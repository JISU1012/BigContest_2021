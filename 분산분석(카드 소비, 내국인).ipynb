{
 "cells": [
  {
   "cell_type": "code",
   "execution_count": 1,
   "metadata": {},
   "outputs": [],
   "source": [
    "import pandas as pd\n",
    "import numpy as np\n",
    "\n",
    "# ANOVA 하기 위한 코드\n",
    "from statsmodels.formula.api import ols\n",
    "from statsmodels.stats.anova import anova_lm\n",
    "\n",
    "# 오류 무시\n",
    "import warnings\n",
    "warnings.filterwarnings('ignore')\n",
    "\n",
    "# 다중비교 (Tukey)\n",
    "from statsmodels.stats.multicomp import pairwise_tukeyhsd\n",
    "\n",
    "# 지수 표현 없애기 위해 \n",
    "pd.options.display.float_format = '{:.4f}'.format\n",
    "\n",
    "# 박스 플롯 때문\n",
    "import seaborn as sns\n",
    "import matplotlib.pyplot as plt\n",
    "\n",
    "from pylab import rcParams\n",
    "rcParams['figure.figsize'] = 15, 10\n",
    "\n",
    "# 독립 t검정\n",
    "from scipy.stats import ttest_ind\n",
    "# 대응 t검정\n",
    "from scipy.stats import ttest_rel"
   ]
  },
  {
   "cell_type": "code",
   "execution_count": 20,
   "metadata": {},
   "outputs": [],
   "source": [
    "%matplotlib inline\n",
    "\n",
    "from pathlib import Path\n",
    "\n",
    "import pandas as pd\n",
    "from sklearn import preprocessing\n",
    "from sklearn.metrics import pairwise\n",
    "from scipy.cluster.hierarchy import dendrogram, linkage, fcluster\n",
    "from sklearn.cluster import KMeans\n",
    "import matplotlib.pylab as plt\n",
    "import seaborn as sns\n",
    "from pandas.plotting import parallel_coordinates"
   ]
  },
  {
   "cell_type": "markdown",
   "metadata": {},
   "source": [
    "## 카드 소비 데이터 분산분석"
   ]
  },
  {
   "cell_type": "code",
   "execution_count": 7,
   "metadata": {
    "scrolled": false
   },
   "outputs": [
    {
     "data": {
      "text/html": [
       "<div>\n",
       "<style scoped>\n",
       "    .dataframe tbody tr th:only-of-type {\n",
       "        vertical-align: middle;\n",
       "    }\n",
       "\n",
       "    .dataframe tbody tr th {\n",
       "        vertical-align: top;\n",
       "    }\n",
       "\n",
       "    .dataframe thead th {\n",
       "        text-align: right;\n",
       "    }\n",
       "</style>\n",
       "<table border=\"1\" class=\"dataframe\">\n",
       "  <thead>\n",
       "    <tr style=\"text-align: right;\">\n",
       "      <th></th>\n",
       "      <th>m</th>\n",
       "      <th>emd_cd</th>\n",
       "      <th>emd_nm</th>\n",
       "      <th>count_num</th>\n",
       "      <th>mct_cat_cd</th>\n",
       "      <th>mct_cat_nm</th>\n",
       "      <th>sum_use_cnt</th>\n",
       "      <th>sum_use_amt</th>\n",
       "    </tr>\n",
       "  </thead>\n",
       "  <tbody>\n",
       "    <tr>\n",
       "      <th>0</th>\n",
       "      <td>2018-01</td>\n",
       "      <td>50110590</td>\n",
       "      <td>건입동</td>\n",
       "      <td>31</td>\n",
       "      <td>C00400</td>\n",
       "      <td>간식</td>\n",
       "      <td>4540.0000</td>\n",
       "      <td>52714107.0000</td>\n",
       "    </tr>\n",
       "    <tr>\n",
       "      <th>1</th>\n",
       "      <td>2018-01</td>\n",
       "      <td>50110590</td>\n",
       "      <td>건입동</td>\n",
       "      <td>31</td>\n",
       "      <td>C01200</td>\n",
       "      <td>농축수산물</td>\n",
       "      <td>1699.0000</td>\n",
       "      <td>180535251.0000</td>\n",
       "    </tr>\n",
       "    <tr>\n",
       "      <th>2</th>\n",
       "      <td>2018-01</td>\n",
       "      <td>50110590</td>\n",
       "      <td>건입동</td>\n",
       "      <td>31</td>\n",
       "      <td>A00200</td>\n",
       "      <td>마트/슈퍼마켓</td>\n",
       "      <td>17547.0000</td>\n",
       "      <td>613458055.0000</td>\n",
       "    </tr>\n",
       "    <tr>\n",
       "      <th>3</th>\n",
       "      <td>2018-01</td>\n",
       "      <td>50110590</td>\n",
       "      <td>건입동</td>\n",
       "      <td>30</td>\n",
       "      <td>C01400</td>\n",
       "      <td>배달</td>\n",
       "      <td>585.0000</td>\n",
       "      <td>11571838.0000</td>\n",
       "    </tr>\n",
       "    <tr>\n",
       "      <th>4</th>\n",
       "      <td>2018-01</td>\n",
       "      <td>50110590</td>\n",
       "      <td>건입동</td>\n",
       "      <td>9</td>\n",
       "      <td>C00700</td>\n",
       "      <td>부페</td>\n",
       "      <td>55.0000</td>\n",
       "      <td>5081850.0000</td>\n",
       "    </tr>\n",
       "    <tr>\n",
       "      <th>...</th>\n",
       "      <td>...</td>\n",
       "      <td>...</td>\n",
       "      <td>...</td>\n",
       "      <td>...</td>\n",
       "      <td>...</td>\n",
       "      <td>...</td>\n",
       "      <td>...</td>\n",
       "      <td>...</td>\n",
       "    </tr>\n",
       "    <tr>\n",
       "      <th>20000</th>\n",
       "      <td>2021-06</td>\n",
       "      <td>50130550</td>\n",
       "      <td>효돈동</td>\n",
       "      <td>30</td>\n",
       "      <td>C00300</td>\n",
       "      <td>아시아음식</td>\n",
       "      <td>720.0000</td>\n",
       "      <td>25716378.0000</td>\n",
       "    </tr>\n",
       "    <tr>\n",
       "      <th>20001</th>\n",
       "      <td>2021-06</td>\n",
       "      <td>50130550</td>\n",
       "      <td>효돈동</td>\n",
       "      <td>20</td>\n",
       "      <td>C00200</td>\n",
       "      <td>양식</td>\n",
       "      <td>225.0000</td>\n",
       "      <td>9302910.0000</td>\n",
       "    </tr>\n",
       "    <tr>\n",
       "      <th>20002</th>\n",
       "      <td>2021-06</td>\n",
       "      <td>50130550</td>\n",
       "      <td>효돈동</td>\n",
       "      <td>16</td>\n",
       "      <td>C00900</td>\n",
       "      <td>주점및주류판매</td>\n",
       "      <td>105.0000</td>\n",
       "      <td>4039593.0000</td>\n",
       "    </tr>\n",
       "    <tr>\n",
       "      <th>20003</th>\n",
       "      <td>2021-06</td>\n",
       "      <td>50130550</td>\n",
       "      <td>효돈동</td>\n",
       "      <td>30</td>\n",
       "      <td>C00500</td>\n",
       "      <td>패스트푸드</td>\n",
       "      <td>1205.0000</td>\n",
       "      <td>20827922.0000</td>\n",
       "    </tr>\n",
       "    <tr>\n",
       "      <th>20004</th>\n",
       "      <td>2021-06</td>\n",
       "      <td>50130550</td>\n",
       "      <td>효돈동</td>\n",
       "      <td>30</td>\n",
       "      <td>C00100</td>\n",
       "      <td>한식</td>\n",
       "      <td>6258.0000</td>\n",
       "      <td>201139360.0000</td>\n",
       "    </tr>\n",
       "  </tbody>\n",
       "</table>\n",
       "<p>20005 rows × 8 columns</p>\n",
       "</div>"
      ],
      "text/plain": [
       "             m    emd_cd emd_nm  count_num mct_cat_cd mct_cat_nm  sum_use_cnt  \\\n",
       "0      2018-01  50110590    건입동         31     C00400         간식    4540.0000   \n",
       "1      2018-01  50110590    건입동         31     C01200      농축수산물    1699.0000   \n",
       "2      2018-01  50110590    건입동         31     A00200    마트/슈퍼마켓   17547.0000   \n",
       "3      2018-01  50110590    건입동         30     C01400         배달     585.0000   \n",
       "4      2018-01  50110590    건입동          9     C00700         부페      55.0000   \n",
       "...        ...       ...    ...        ...        ...        ...          ...   \n",
       "20000  2021-06  50130550    효돈동         30     C00300      아시아음식     720.0000   \n",
       "20001  2021-06  50130550    효돈동         20     C00200         양식     225.0000   \n",
       "20002  2021-06  50130550    효돈동         16     C00900    주점및주류판매     105.0000   \n",
       "20003  2021-06  50130550    효돈동         30     C00500      패스트푸드    1205.0000   \n",
       "20004  2021-06  50130550    효돈동         30     C00100         한식    6258.0000   \n",
       "\n",
       "         sum_use_amt  \n",
       "0      52714107.0000  \n",
       "1     180535251.0000  \n",
       "2     613458055.0000  \n",
       "3      11571838.0000  \n",
       "4       5081850.0000  \n",
       "...              ...  \n",
       "20000  25716378.0000  \n",
       "20001   9302910.0000  \n",
       "20002   4039593.0000  \n",
       "20003  20827922.0000  \n",
       "20004 201139360.0000  \n",
       "\n",
       "[20005 rows x 8 columns]"
      ]
     },
     "execution_count": 7,
     "metadata": {},
     "output_type": "execute_result"
    }
   ],
   "source": [
    "card_df = pd.read_csv('datasets/month_card_spending.csv')\n",
    "card_df"
   ]
  },
  {
   "cell_type": "markdown",
   "metadata": {},
   "source": [
    "### sum_use_cnt~ 분산분석"
   ]
  },
  {
   "cell_type": "code",
   "execution_count": 115,
   "metadata": {},
   "outputs": [
    {
     "name": "stdout",
     "output_type": "stream",
     "text": [
      "                      df             sum_sq           mean_sq        F  PR(>F)\n",
      "C(mct_cat_nm)    10.0000 2108655240553.2522 210865524055.3252 959.2299  0.0000\n",
      "Residual      19994.0000 4395239719314.7695    219827934.3460      nan     nan\n"
     ]
    }
   ],
   "source": [
    "# 일원배치 분산분석(mct_cat_nm)\n",
    "model = ols('sum_use_cnt ~ C(mct_cat_nm)', card_df).fit()\n",
    "\n",
    "print(anova_lm(model))"
   ]
  },
  {
   "cell_type": "code",
   "execution_count": 116,
   "metadata": {},
   "outputs": [
    {
     "name": "stdout",
     "output_type": "stream",
     "text": [
      "       Multiple Comparison of Means - Tukey HSD, FWER=0.05       \n",
      "=================================================================\n",
      " group1  group2   meandiff  p-adj     lower       upper    reject\n",
      "-----------------------------------------------------------------\n",
      "     간식   농축수산물  -3764.6488  0.001  -5334.7913  -2194.5063   True\n",
      "     간식 마트/슈퍼마켓  22622.0038  0.001  21051.8613  24192.1463   True\n",
      "     간식      배달  -2613.6989  0.001  -4184.0539  -1043.3439   True\n",
      "     간식      부페   -6555.591  0.001  -8203.8327  -4907.3494   True\n",
      "     간식      식품   3065.0779  0.001   1494.9354   4635.2204   True\n",
      "     간식   아시아음식   -3627.914  0.001  -5198.0565  -2057.7715   True\n",
      "     간식      양식  -5221.6342  0.001   -6792.628  -3650.6405   True\n",
      "     간식 주점및주류판매  -6048.3475  0.001  -7619.5546  -4477.1404   True\n",
      "     간식   패스트푸드  -1232.2278 0.2894  -2802.3703    337.9147  False\n",
      "     간식      한식  22896.6461  0.001  21326.5036  24466.7886   True\n",
      "  농축수산물 마트/슈퍼마켓  26386.6526  0.001  24816.5101  27956.7951   True\n",
      "  농축수산물      배달   1150.9499 0.3962   -419.4051   2721.3049  False\n",
      "  농축수산물      부페  -2790.9422  0.001  -4439.1839  -1142.7006   True\n",
      "  농축수산물      식품   6829.7267  0.001   5259.5842   8399.8692   True\n",
      "  농축수산물   아시아음식    136.7348    0.9  -1433.4077   1706.8774  False\n",
      "  농축수산물      양식  -1456.9854 0.0979  -3027.9792    114.0083  False\n",
      "  농축수산물 주점및주류판매  -2283.6987  0.001  -3854.9058   -712.4916   True\n",
      "  농축수산물   패스트푸드    2532.421  0.001    962.2785   4102.5635   True\n",
      "  농축수산물      한식  26661.2949  0.001  25091.1524  28231.4374   True\n",
      "마트/슈퍼마켓      배달 -25235.7027  0.001 -26806.0577 -23665.3477   True\n",
      "마트/슈퍼마켓      부페 -29177.5948  0.001 -30825.8365 -27529.3532   True\n",
      "마트/슈퍼마켓      식품 -19556.9259  0.001 -21127.0684 -17986.7834   True\n",
      "마트/슈퍼마켓   아시아음식 -26249.9177  0.001 -27820.0603 -24679.7752   True\n",
      "마트/슈퍼마켓      양식  -27843.638  0.001 -29414.6318 -26272.6443   True\n",
      "마트/슈퍼마켓 주점및주류판매 -28670.3513  0.001 -30241.5584 -27099.1442   True\n",
      "마트/슈퍼마켓   패스트푸드 -23854.2316  0.001 -25424.3741 -22284.0891   True\n",
      "마트/슈퍼마켓      한식    274.6423    0.9  -1295.5002   1844.7848  False\n",
      "     배달      부페  -3941.8921  0.001  -5590.3362   -2293.448   True\n",
      "     배달      식품   5678.7768  0.001   4108.4218   7249.1318   True\n",
      "     배달   아시아음식  -1014.2151 0.5792  -2584.5701      556.14  False\n",
      "     배달      양식  -2607.9353  0.001  -4179.1415  -1036.7292   True\n",
      "     배달 주점및주류판매  -3434.6486  0.001   -5006.068  -1863.2291   True\n",
      "     배달   패스트푸드   1381.4711 0.1458   -188.8839   2951.8261  False\n",
      "     배달      한식   25510.345  0.001    23939.99     27080.7   True\n",
      "     부페      식품    9620.669  0.001   7972.4273  11268.9106   True\n",
      "     부페   아시아음식   2927.6771  0.001   1279.4354   4575.9187   True\n",
      "     부페      양식   1333.9568 0.2464   -315.0958   2983.0094  False\n",
      "     부페 주점및주류판매    507.2436    0.9  -1142.0123   2156.4994  False\n",
      "     부페   패스트푸드   5323.3632  0.001   3675.1216   6971.6049   True\n",
      "     부페      한식  29452.2371  0.001  27803.9955  31100.4788   True\n",
      "     식품   아시아음식  -6692.9919  0.001  -8263.1344  -5122.8494   True\n",
      "     식품      양식  -8286.7122  0.001  -9857.7059  -6715.7184   True\n",
      "     식품 주점및주류판매  -9113.4254  0.001 -10684.6325  -7542.2183   True\n",
      "     식품   패스트푸드  -4297.3057  0.001  -5867.4482  -2727.1632   True\n",
      "     식품      한식  19831.5682  0.001  18261.4257  21401.7107   True\n",
      "  아시아음식      양식  -1593.7203 0.0434   -3164.714    -22.7265   True\n",
      "  아시아음식 주점및주류판매  -2420.4335  0.001  -3991.6406   -849.2264   True\n",
      "  아시아음식   패스트푸드   2395.6861  0.001    825.5436   3965.8287   True\n",
      "  아시아음식      한식  26524.5601  0.001  24954.4176  28094.7026   True\n",
      "     양식 주점및주류판매   -826.7132 0.8194   -2398.771    745.3445  False\n",
      "     양식   패스트푸드   3989.4064  0.001   2418.4127   5560.4002   True\n",
      "     양식      한식  28118.2803  0.001  26547.2866  29689.2741   True\n",
      "주점및주류판매   패스트푸드   4816.1197  0.001   3244.9126   6387.3268   True\n",
      "주점및주류판매      한식  28944.9936  0.001  27373.7865  30516.2007   True\n",
      "  패스트푸드      한식  24128.8739  0.001  22558.7314  25699.0164   True\n",
      "-----------------------------------------------------------------\n"
     ]
    }
   ],
   "source": [
    "# 다중비교 (Tukey)\n",
    "\n",
    "posthoc = pairwise_tukeyhsd(card_df['sum_use_cnt'], card_df['mct_cat_nm'], alpha=0.05)\n",
    "print(posthoc)"
   ]
  },
  {
   "cell_type": "code",
   "execution_count": 80,
   "metadata": {},
   "outputs": [
    {
     "data": {
      "image/png": "[encoded data removed]",
      "text/plain": [
       "<Figure size 1080x720 with 1 Axes>"
      ]
     },
     "metadata": {
      "needs_background": "light"
     },
     "output_type": "display_data"
    }
   ],
   "source": [
    "x = card_df['mct_cat_nm']\n",
    "y = card_df['sum_use_cnt']\n",
    "\n",
    "# y축 로그변환\n",
    "#y = np.log(card_df['sum_use_cnt'])\n",
    "\n",
    "sns.boxplot(x, y, data=card_df)\n",
    "\n",
    "\n",
    "plt.ylim(0, 25000)\n",
    "plt.show()### sum_use_cnt~ 분산분석### sum_use_cnt~ 분산분석\n",
    "\n",
    "\n",
    "# 그룹화\n",
    "# 마트/슈퍼마켓, 한식### sum_use_cnt~ 분산분석\n",
    "# 식품\n",
    "# 간식, 패스트푸드\n",
    "# 농축수산물, 아시아음식\n",
    "# 배달, 양식\n",
    "# 주점및주류판매\n",
    "# 부페"
   ]
  },
  {
   "cell_type": "code",
   "execution_count": 75,
   "metadata": {
    "scrolled": false
   },
   "outputs": [
    {
     "data": {
      "text/plain": [
       "<AxesSubplot:xlabel='mct_cat_nm', ylabel='sum_use_cnt'>"
      ]
     },
     "execution_count": 75,
     "metadata": {},
     "output_type": "execute_result"
    },
    {
     "data": {
      "image/png": "[encoded data removed]",
      "text/plain": [
       "<Figure size 1080x720 with 1 Axes>"
      ]
     },
     "metadata": {
      "needs_background": "light"
     },
     "output_type": "display_data"
    }
   ],
   "source": [
    "sns.stripplot(x, y, data=card_df)"
   ]
  },
  {
   "cell_type": "markdown",
   "metadata": {},
   "source": [
    "### 그룹화"
   ]
  },
  {
   "cell_type": "code",
   "execution_count": 128,
   "metadata": {},
   "outputs": [],
   "source": [
    "# 그룹화\n",
    "# 1. 마트/슈퍼마켓, 한식\n",
    "# 2. 식품\n",
    "# 3. 간식, 패스트푸드\n",
    "# 4. 농축수산물, 아시아음식\n",
    "# 5. 배달, 양식\n",
    "# 6. 주점및주류판매\n",
    "# 7. 부페### 그룹화\n",
    "\n",
    "a = card_df[card_df['mct_cat_nm']=='간식']\n",
    "b = card_df[card_df['mct_cat_nm']=='농축수산물']\n",
    "c = card_df[card_df['mct_cat_nm']=='마트/슈퍼마켓']\n",
    "d = card_df[card_df['mct_cat_nm']=='배달']\n",
    "e = card_df[card_df['mct_cat_nm']=='부페']\n",
    "f = card_df[card_df['mct_cat_nm']=='식품']\n",
    "g = card_df[card_df['mct_cat_nm']=='아시아음식']\n",
    "h = card_df[card_df['mct_cat_nm']=='양식']\n",
    "i = card_df[card_df['mct_cat_nm']=='주점및주류판매']\n",
    "j = card_df[card_df['mct_cat_nm']=='패스트푸드']\n",
    "k = card_df[card_df['mct_cat_nm']=='한식']"
   ]
  },
  {
   "cell_type": "code",
   "execution_count": 129,
   "metadata": {},
   "outputs": [
    {
     "data": {
      "text/plain": [
       "Ttest_indResult(statistic=-0.25774919591890866, pvalue=0.7966148329642857)"
      ]
     },
     "execution_count": 129,
     "metadata": {},
     "output_type": "execute_result"
    }
   ],
   "source": [
    "# 1. 마트/슈퍼마켓, 한식\n",
    "ttest_ind(c['sum_use_cnt'], k['sum_use_cnt'])"
   ]
  },
  {
   "cell_type": "code",
   "execution_count": 107,
   "metadata": {},
   "outputs": [
    {
     "data": {
      "text/plain": [
       "Ttest_indResult(statistic=5.560725211975678, pvalue=2.8769374405517984e-08)"
      ]
     },
     "execution_count": 107,
     "metadata": {},
     "output_type": "execute_result"
    }
   ],
   "source": [
    "# 3. 간식, 패스트푸드\n",
    "ttest_ind(a['sum_use_cnt'], j['sum_use_cnt'])"
   ]
  },
  {
   "cell_type": "code",
   "execution_count": 108,
   "metadata": {},
   "outputs": [
    {
     "data": {
      "text/plain": [
       "Ttest_indResult(statistic=-1.2277006307060874, pvalue=0.2196375947809361)"
      ]
     },
     "execution_count": 108,
     "metadata": {},
     "output_type": "execute_result"
    }
   ],
   "source": [
    "# 4. 농축수산물, 아시아음식\n",
    "ttest_ind(b['sum_use_cnt'], g['sum_use_cnt'])"
   ]
  },
  {
   "cell_type": "code",
   "execution_count": 109,
   "metadata": {},
   "outputs": [
    {
     "data": {
      "text/plain": [
       "Ttest_indResult(statistic=13.878011249400933, pvalue=1.002784122753039e-42)"
      ]
     },
     "execution_count": 109,
     "metadata": {},
     "output_type": "execute_result"
    }
   ],
   "source": [
    "# 5. 배달, 양식\n",
    "ttest_ind(d['sum_use_cnt'], h['sum_use_cnt'])"
   ]
  },
  {
   "cell_type": "markdown",
   "metadata": {},
   "source": [
    "## sum_use_amt~ 분산분석"
   ]
  },
  {
   "cell_type": "code",
   "execution_count": 60,
   "metadata": {},
   "outputs": [
    {
     "name": "stdout",
     "output_type": "stream",
     "text": [
      "                      df                      sum_sq                    mean_sq         F  PR(>F)\n",
      "C(mct_cat_nm)    10.0000 2374434764442465468416.0000 237443476444246540288.0000 1153.9789  0.0000\n",
      "Residual      19994.0000 4113979060183808606208.0000    205760681213554496.0000       nan     nan\n"
     ]
    }
   ],
   "source": [
    "# 일원배치 분산분석(mct_cat_nm)\n",
    "model = ols('sum_use_amt ~ C(mct_cat_nm)', card_df).fit()\n",
    "\n",
    "print(anova_lm(model))"
   ]
  },
  {
   "cell_type": "code",
   "execution_count": 61,
   "metadata": {
    "scrolled": false
   },
   "outputs": [
    {
     "name": "stdout",
     "output_type": "stream",
     "text": [
      "              Multiple Comparison of Means - Tukey HSD, FWER=0.05              \n",
      "===============================================================================\n",
      " group1  group2     meandiff     p-adj       lower            upper      reject\n",
      "-------------------------------------------------------------------------------\n",
      "     간식   농축수산물   111801828.0611  0.001    63764501.8448  159839154.2775   True\n",
      "     간식 마트/슈퍼마켓   928536621.3166  0.001   880499295.1002  976573947.5329   True\n",
      "     간식      배달     14001103.641    0.9   -34042724.2099   62044931.4918  False\n",
      "     간식      부페   -74270333.3572  0.001  -124697043.7254  -23843622.9889   True\n",
      "     간식      식품   292326969.9686  0.001   244289643.7523  340364296.1849   True\n",
      "     간식   아시아음식    30498281.3885 0.6012   -17539044.8278   78535607.6049  False\n",
      "     간식      양식   -27857882.3241 0.7118   -75921252.0914   20205487.4432  False\n",
      "     간식 주점및주류판매   -55849249.4057 0.0085  -103919145.5127   -7779353.2987   True\n",
      "     간식   패스트푸드    11970762.5487    0.9   -36066563.6676    60008088.765  False\n",
      "     간식      한식    848117267.441  0.001   800079941.2247  896154593.6573   True\n",
      "  농축수산물 마트/슈퍼마켓   816734793.2554  0.001   768697467.0391  864772119.4717   True\n",
      "  농축수산물      배달   -97800724.4202  0.001   -145844552.271  -49756896.5694   True\n",
      "  농축수산물      부페  -186072161.4183  0.001  -236498871.7865 -135645451.0501   True\n",
      "  농축수산물      식품   180525141.9075  0.001   132487815.6911  228562468.1238   True\n",
      "  농축수산물   아시아음식   -81303546.6726  0.001  -129340872.8889  -33266220.4563   True\n",
      "  농축수산물      양식  -139659710.3852  0.001  -187723080.1525  -91596340.6179   True\n",
      "  농축수산물 주점및주류판매  -167651077.4669  0.001  -215720973.5739 -119581181.3599   True\n",
      "  농축수산물   패스트푸드   -99831065.5124  0.001  -147868391.7288  -51793739.2961   True\n",
      "  농축수산물      한식   736315439.3799  0.001   688278113.1635  784352765.5962   True\n",
      "마트/슈퍼마켓      배달  -914535517.6756  0.001  -962579345.5264 -866491689.8248   True\n",
      "마트/슈퍼마켓      부페 -1002806954.6737  0.001 -1053233665.0419 -952380244.3055   True\n",
      "마트/슈퍼마켓      식품  -636209651.3479  0.001  -684246977.5643 -588172325.1316   True\n",
      "마트/슈퍼마켓   아시아음식   -898038339.928  0.001  -946075666.1444 -850001013.7117   True\n",
      "마트/슈퍼마켓      양식  -956394503.6406  0.001 -1004457873.4079 -908331133.8733   True\n",
      "마트/슈퍼마켓 주점및주류판매  -984385870.7223  0.001 -1032455766.8293 -936315974.6153   True\n",
      "마트/슈퍼마켓   패스트푸드  -916565858.7679  0.001  -964603184.9842 -868528532.5515   True\n",
      "마트/슈퍼마켓      한식   -80419353.8755  0.001  -128456680.0919  -32382027.6592   True\n",
      "     배달      부페   -88271436.9981  0.001  -138704340.9707  -37838533.0256   True\n",
      "     배달      식품   278325866.3277  0.001   230282038.4768  326369694.1785   True\n",
      "     배달   아시아음식    16497177.7476    0.9   -31546650.1033   64541005.5984  False\n",
      "     배달      양식    -41858985.965 0.1568   -89928853.8443    6210881.9143  False\n",
      "     배달 주점및주류판매   -69850353.0467  0.001  -117926746.3836  -21773959.7098   True\n",
      "     배달   패스트푸드    -2030341.0923    0.9   -50074168.9431   46013486.7586  False\n",
      "     배달      한식   834116163.8001  0.001   786072335.9492  882159991.6509   True\n",
      "     부페      식품   366597303.3258  0.001   316170592.9576   417024013.694   True\n",
      "     부페   아시아음식   104768614.7457  0.001    54341904.3775  155195325.1139   True\n",
      "     부페      양식    46412451.0331 0.1047    -4039069.4785   96863971.5447  False\n",
      "     부페 주점및주류판매    18421083.9514    0.9    -32036654.011   68878821.9138  False\n",
      "     부페   패스트푸드    86241095.9059  0.001    35814385.5376  136667806.2741   True\n",
      "     부페      한식   922387600.7982  0.001     871960890.43  972814311.1664   True\n",
      "     식품   아시아음식  -261828688.5801  0.001  -309866014.7964 -213791362.3638   True\n",
      "     식품      양식  -320184852.2927  0.001    -368248222.06 -272121482.5254   True\n",
      "     식품 주점및주류판매  -348176219.3743  0.001  -396246115.4813 -300106323.2673   True\n",
      "     식품   패스트푸드  -280356207.4199  0.001  -328393533.6362 -232318881.2036   True\n",
      "     식품      한식   555790297.4724  0.001   507752971.2561  603827623.6887   True\n",
      "  아시아음식      양식   -58356163.7126 0.0045  -106419533.4799  -10292793.9453   True\n",
      "  아시아음식 주점및주류판매   -86347530.7942  0.001  -134417426.9012  -38277634.6873   True\n",
      "  아시아음식   패스트푸드   -18527518.8398    0.9   -66564845.0562   29509807.3765  False\n",
      "  아시아음식      한식   817618986.0525  0.001   769581659.8362  865656312.2688   True\n",
      "     양식 주점및주류판매   -27991367.0816 0.7071   -76087289.1033     20104554.94  False\n",
      "     양식   패스트푸드    39828644.8728 0.2149    -8234724.8945   87892014.6401  False\n",
      "     양식      한식   875975149.7651  0.001   827911779.9978  924038519.5324   True\n",
      "주점및주류판매   패스트푸드    67820011.9544  0.001    19750115.8474  115889908.0614   True\n",
      "주점및주류판매      한식   903966516.8467  0.001   855896620.7397  952036412.9537   True\n",
      "  패스트푸드      한식   836146504.8923  0.001    788109178.676  884183831.1086   True\n",
      "-------------------------------------------------------------------------------\n"
     ]
    }
   ],
   "source": [
    "# 다중비교 (Tukey)\n",
    "\n",
    "posthoc = pairwise_tukeyhsd(card_df['sum_use_amt'], card_df['mct_cat_nm'], alpha=0.05)\n",
    "print(posthoc)"
   ]
  },
  {
   "cell_type": "code",
   "execution_count": 92,
   "metadata": {
    "scrolled": false
   },
   "outputs": [
    {
     "data": {
      "image/png": "[encoded data removed]",
      "text/plain": [
       "<Figure size 1080x720 with 1 Axes>"
      ]
     },
     "metadata": {
      "needs_background": "light"
     },
     "output_type": "display_data"
    }
   ],
   "source": [
    "x = card_df['mct_cat_nm']\n",
    "y = card_df['sum_use_amt']\n",
    "\n",
    "# y축 로그변환\n",
    "y = np.log(card_df['sum_use_amt'])\n",
    "\n",
    "sns.boxplot(x, y, data=card_df)\n",
    "\n",
    "#plt.ylim(0, 2)\n",
    "plt.show()\n",
    "\n",
    "\n",
    "# 그룹화\n",
    "# 마트/슈퍼마켓, 한식\n",
    "# 식품\n",
    "# 간식, 패스트푸드\n",
    "# 농축수산물, 아시아음식\n",
    "# 배달, 양식\n",
    "# 주점및주류판매\n",
    "# 부페"
   ]
  },
  {
   "cell_type": "code",
   "execution_count": 87,
   "metadata": {},
   "outputs": [
    {
     "data": {
      "text/plain": [
       "<AxesSubplot:xlabel='mct_cat_nm', ylabel='sum_use_amt'>"
      ]
     },
     "execution_count": 87,
     "metadata": {},
     "output_type": "execute_result"
    },
    {
     "data": {
      "image/png": "[encoded data removed]",
      "text/plain": [
       "<Figure size 1080x720 with 1 Axes>"
      ]
     },
     "metadata": {
      "needs_background": "light"
     },
     "output_type": "display_data"
    }
   ],
   "source": [
    "sns.stripplot(x, y, data=card_df)"
   ]
  },
  {
   "cell_type": "markdown",
   "metadata": {},
   "source": [
    "### 그룹화"
   ]
  },
  {
   "cell_type": "code",
   "execution_count": 110,
   "metadata": {},
   "outputs": [],
   "source": [
    "# 그룹화\n",
    "# 1. 마트/슈퍼마켓, 한식\n",
    "# 2. 식품\n",
    "# 3. 간식, 패스트푸드\n",
    "# 4. 농축수산물, 아시아음식\n",
    "# 5. 배달, 양식\n",
    "# 6. 주점및주류판매\n",
    "# 7. 부페\n",
    "\n",
    "a = card_df[card_df['mct_cat_nm']=='간식']\n",
    "b = card_df[card_df['mct_cat_nm']=='농축수산물']\n",
    "c = card_df[card_df['mct_cat_nm']=='마트/슈퍼마켓']\n",
    "d = card_df[card_df['mct_cat_nm']=='배달']\n",
    "e = card_df[card_df['mct_cat_nm']=='부페']### 그룹화\n",
    "f = card_df[card_df['mct_cat_nm']=='식품']\n",
    "g = card_df[card_df['mct_cat_nm']=='아시아음식']\n",
    "h = card_df[card_df['mct_cat_nm']=='양식']\n",
    "i = card_df[card_df['mct_cat_nm']=='주점및주류판매']\n",
    "j = card_df[card_df['mct_cat_nm']=='패스트푸드']\n",
    "k = card_df[card_df['mct_cat_nm']=='한식']"
   ]
  },
  {
   "cell_type": "code",
   "execution_count": 111,
   "metadata": {},
   "outputs": [
    {
     "data": {
      "text/plain": [
       "Ttest_indResult(statistic=2.4572208731801375, pvalue=0.014047303954801896)"
      ]
     },
     "execution_count": 111,
     "metadata": {},
     "output_type": "execute_result"
    }
   ],
   "source": [
    "# 1. 마트/슈퍼마켓, 한식(기각) -> 유의수준 0.01로 하면 기각 x\n",
    "ttest_ind(c['sum_use_amt'], k['sum_use_amt'])"
   ]
  },
  {
   "cell_type": "code",
   "execution_count": 112,
   "metadata": {},
   "outputs": [
    {
     "data": {
      "text/plain": [
       "Ttest_indResult(statistic=-3.985338297000961, pvalue=6.868515740950504e-05)"
      ]
     },
     "execution_count": 112,
     "metadata": {},
     "output_type": "execute_result"
    }
   ],
   "source": [
    "# 3. 간식, 패스트푸드\n",
    "ttest_ind(a['sum_use_amt'], j['sum_use_amt'])"
   ]
  },
  {
   "cell_type": "code",
   "execution_count": 113,
   "metadata": {},
   "outputs": [
    {
     "data": {
      "text/plain": [
       "Ttest_indResult(statistic=16.494576928806385, pvalue=4.935706286700319e-59)"
      ]
     },
     "execution_count": 113,
     "metadata": {},
     "output_type": "execute_result"
    }
   ],
   "source": [
    "# 4. 농축수산물, 아시아음식\n",
    "ttest_ind(b['sum_use_amt'], g['sum_use_amt'])"
   ]
  },
  {
   "cell_type": "code",
   "execution_count": 114,
   "metadata": {},
   "outputs": [
    {
     "data": {
      "text/plain": [
       "Ttest_indResult(statistic=9.195110879913047, pvalue=6.105332694915046e-20)"
      ]
     },
     "execution_count": 114,
     "metadata": {},
     "output_type": "execute_result"
    }
   ],
   "source": [
    "# 5. 배달, 양식\n",
    "ttest_ind(d['sum_use_amt'], h['sum_use_amt'])"
   ]
  },
  {
   "cell_type": "markdown",
   "metadata": {},
   "source": [
    "### 군집화"
   ]
  },
  {
   "cell_type": "code",
   "execution_count": 22,
   "metadata": {},
   "outputs": [
    {
     "data": {
      "text/html": [
       "<div>\n",
       "<style scoped>\n",
       "    .dataframe tbody tr th:only-of-type {\n",
       "        vertical-align: middle;\n",
       "    }\n",
       "\n",
       "    .dataframe tbody tr th {\n",
       "        vertical-align: top;\n",
       "    }\n",
       "\n",
       "    .dataframe thead th {\n",
       "        text-align: right;\n",
       "    }\n",
       "</style>\n",
       "<table border=\"1\" class=\"dataframe\">\n",
       "  <thead>\n",
       "    <tr style=\"text-align: right;\">\n",
       "      <th></th>\n",
       "      <th>sum_use_cnt</th>\n",
       "      <th>sum_use_amt</th>\n",
       "    </tr>\n",
       "    <tr>\n",
       "      <th>mct_cat_nm</th>\n",
       "      <th></th>\n",
       "      <th></th>\n",
       "    </tr>\n",
       "  </thead>\n",
       "  <tbody>\n",
       "    <tr>\n",
       "      <th>간식</th>\n",
       "      <td>12226585.0000</td>\n",
       "      <td>144865710255.0000</td>\n",
       "    </tr>\n",
       "    <tr>\n",
       "      <th>농축수산물</th>\n",
       "      <td>5269514.0000</td>\n",
       "      <td>351475488512.0000</td>\n",
       "    </tr>\n",
       "    <tr>\n",
       "      <th>마트/슈퍼마켓</th>\n",
       "      <td>54032048.0000</td>\n",
       "      <td>1860801386448.0000</td>\n",
       "    </tr>\n",
       "    <tr>\n",
       "      <th>배달</th>\n",
       "      <td>7392467.0000</td>\n",
       "      <td>170647358144.0000</td>\n",
       "    </tr>\n",
       "    <tr>\n",
       "      <th>부페</th>\n",
       "      <td>92908.0000</td>\n",
       "      <td>6324510830.0000</td>\n",
       "    </tr>\n",
       "    <tr>\n",
       "      <th>식품</th>\n",
       "      <td>17890849.0000</td>\n",
       "      <td>685085950757.0000</td>\n",
       "    </tr>\n",
       "    <tr>\n",
       "      <th>아시아음식</th>\n",
       "      <td>5522200.0000</td>\n",
       "      <td>201226534261.0000</td>\n",
       "    </tr>\n",
       "    <tr>\n",
       "      <th>양식</th>\n",
       "      <td>2571427.0000</td>\n",
       "      <td>93182213106.0000</td>\n",
       "    </tr>\n",
       "    <tr>\n",
       "      <th>주점및주류판매</th>\n",
       "      <td>1046400.0000</td>\n",
       "      <td>41543590921.0000</td>\n",
       "    </tr>\n",
       "    <tr>\n",
       "      <th>패스트푸드</th>\n",
       "      <td>9949428.0000</td>\n",
       "      <td>166987679445.0000</td>\n",
       "    </tr>\n",
       "    <tr>\n",
       "      <th>한식</th>\n",
       "      <td>54539587.0000</td>\n",
       "      <td>1712186420486.0000</td>\n",
       "    </tr>\n",
       "  </tbody>\n",
       "</table>\n",
       "</div>"
      ],
      "text/plain": [
       "             sum_use_cnt        sum_use_amt\n",
       "mct_cat_nm                                 \n",
       "간식         12226585.0000  144865710255.0000\n",
       "농축수산물       5269514.0000  351475488512.0000\n",
       "마트/슈퍼마켓    54032048.0000 1860801386448.0000\n",
       "배달          7392467.0000  170647358144.0000\n",
       "부페            92908.0000    6324510830.0000\n",
       "식품         17890849.0000  685085950757.0000\n",
       "아시아음식       5522200.0000  201226534261.0000\n",
       "양식          2571427.0000   93182213106.0000\n",
       "주점및주류판매     1046400.0000   41543590921.0000\n",
       "패스트푸드       9949428.0000  166987679445.0000\n",
       "한식         54539587.0000 1712186420486.0000"
      ]
     },
     "execution_count": 22,
     "metadata": {},
     "output_type": "execute_result"
    }
   ],
   "source": [
    "card_df1 = card_df.groupby('mct_cat_nm').sum()\n",
    "card_df1 = card_df1.drop('count_num', axis=1)\n",
    "card_df1"
   ]
  },
  {
   "cell_type": "code",
   "execution_count": 23,
   "metadata": {},
   "outputs": [
    {
     "data": {
      "image/png": "[encoded data removed]",
      "text/plain": [
       "<Figure size 720x432 with 1 Axes>"
      ]
     },
     "metadata": {
      "needs_background": "light"
     },
     "output_type": "display_data"
    }
   ],
   "source": [
    "Z = linkage(card_df1, method='single')\n",
    "\n",
    "fig = plt.figure(figsize=(10, 6))\n",
    "fig.subplots_adjust(bottom=0.23)\n",
    "plt.title('Hierarchical Clustering Dendrogram (Single linkage)')\n",
    "plt.xlabel('Company')\n",
    "dendrogram(Z, labels=card_df1.index, color_threshold=2.75)\n",
    "plt.axhline(y=2.75, color='black', linewidth=0.5, linestyle='dashed')\n",
    "plt.show()"
   ]
  },
  {
   "cell_type": "markdown",
   "metadata": {},
   "source": [
    "## 내국인 분산분석"
   ]
  },
  {
   "cell_type": "code",
   "execution_count": 2,
   "metadata": {},
   "outputs": [
    {
     "data": {
      "text/html": [
       "<div>\n",
       "<style scoped>\n",
       "    .dataframe tbody tr th:only-of-type {\n",
       "        vertical-align: middle;\n",
       "    }\n",
       "\n",
       "    .dataframe tbody tr th {\n",
       "        vertical-align: top;\n",
       "    }\n",
       "\n",
       "    .dataframe thead th {\n",
       "        text-align: right;\n",
       "    }\n",
       "</style>\n",
       "<table border=\"1\" class=\"dataframe\">\n",
       "  <thead>\n",
       "    <tr style=\"text-align: right;\">\n",
       "      <th></th>\n",
       "      <th>m</th>\n",
       "      <th>resd</th>\n",
       "      <th>sex</th>\n",
       "      <th>age</th>\n",
       "      <th>emd_cd</th>\n",
       "      <th>emd_nm</th>\n",
       "      <th>count_num</th>\n",
       "      <th>sum_resd_pop_cnt</th>\n",
       "      <th>sum_work_pop_cnt</th>\n",
       "      <th>sum_visit_pop_cnt</th>\n",
       "    </tr>\n",
       "  </thead>\n",
       "  <tbody>\n",
       "    <tr>\n",
       "      <th>0</th>\n",
       "      <td>2018-01</td>\n",
       "      <td>그외</td>\n",
       "      <td>남성</td>\n",
       "      <td>0</td>\n",
       "      <td>50110590</td>\n",
       "      <td>건입동</td>\n",
       "      <td>744</td>\n",
       "      <td>0.0000</td>\n",
       "      <td>3132.2282</td>\n",
       "      <td>76353.2457</td>\n",
       "    </tr>\n",
       "    <tr>\n",
       "      <th>1</th>\n",
       "      <td>2018-01</td>\n",
       "      <td>그외</td>\n",
       "      <td>남성</td>\n",
       "      <td>0</td>\n",
       "      <td>50110256</td>\n",
       "      <td>구좌읍</td>\n",
       "      <td>744</td>\n",
       "      <td>0.0000</td>\n",
       "      <td>4161.1501</td>\n",
       "      <td>147835.2530</td>\n",
       "    </tr>\n",
       "    <tr>\n",
       "      <th>2</th>\n",
       "      <td>2018-01</td>\n",
       "      <td>그외</td>\n",
       "      <td>남성</td>\n",
       "      <td>0</td>\n",
       "      <td>50130253</td>\n",
       "      <td>남원읍</td>\n",
       "      <td>744</td>\n",
       "      <td>0.0000</td>\n",
       "      <td>2121.0335</td>\n",
       "      <td>249159.0777</td>\n",
       "    </tr>\n",
       "    <tr>\n",
       "      <th>3</th>\n",
       "      <td>2018-01</td>\n",
       "      <td>그외</td>\n",
       "      <td>남성</td>\n",
       "      <td>0</td>\n",
       "      <td>50110660</td>\n",
       "      <td>노형동</td>\n",
       "      <td>744</td>\n",
       "      <td>0.0000</td>\n",
       "      <td>17475.4153</td>\n",
       "      <td>333967.8223</td>\n",
       "    </tr>\n",
       "    <tr>\n",
       "      <th>4</th>\n",
       "      <td>2018-01</td>\n",
       "      <td>그외</td>\n",
       "      <td>남성</td>\n",
       "      <td>0</td>\n",
       "      <td>50130590</td>\n",
       "      <td>대륜동</td>\n",
       "      <td>744</td>\n",
       "      <td>0.0000</td>\n",
       "      <td>5223.4448</td>\n",
       "      <td>308445.7634</td>\n",
       "    </tr>\n",
       "    <tr>\n",
       "      <th>...</th>\n",
       "      <td>...</td>\n",
       "      <td>...</td>\n",
       "      <td>...</td>\n",
       "      <td>...</td>\n",
       "      <td>...</td>\n",
       "      <td>...</td>\n",
       "      <td>...</td>\n",
       "      <td>...</td>\n",
       "      <td>...</td>\n",
       "      <td>...</td>\n",
       "    </tr>\n",
       "    <tr>\n",
       "      <th>65011</th>\n",
       "      <td>2021-06</td>\n",
       "      <td>제주</td>\n",
       "      <td>여성</td>\n",
       "      <td>80</td>\n",
       "      <td>50130320</td>\n",
       "      <td>표선면</td>\n",
       "      <td>720</td>\n",
       "      <td>133317.8449</td>\n",
       "      <td>373.1435</td>\n",
       "      <td>18236.7638</td>\n",
       "    </tr>\n",
       "    <tr>\n",
       "      <th>65012</th>\n",
       "      <td>2021-06</td>\n",
       "      <td>제주</td>\n",
       "      <td>여성</td>\n",
       "      <td>80</td>\n",
       "      <td>50110310</td>\n",
       "      <td>한경면</td>\n",
       "      <td>720</td>\n",
       "      <td>129052.5282</td>\n",
       "      <td>2082.5446</td>\n",
       "      <td>13292.0757</td>\n",
       "    </tr>\n",
       "    <tr>\n",
       "      <th>65013</th>\n",
       "      <td>2021-06</td>\n",
       "      <td>제주</td>\n",
       "      <td>여성</td>\n",
       "      <td>80</td>\n",
       "      <td>50110250</td>\n",
       "      <td>한림읍</td>\n",
       "      <td>720</td>\n",
       "      <td>244482.7666</td>\n",
       "      <td>4236.2232</td>\n",
       "      <td>24978.7051</td>\n",
       "    </tr>\n",
       "    <tr>\n",
       "      <th>65014</th>\n",
       "      <td>2021-06</td>\n",
       "      <td>제주</td>\n",
       "      <td>여성</td>\n",
       "      <td>80</td>\n",
       "      <td>50110600</td>\n",
       "      <td>화북동</td>\n",
       "      <td>720</td>\n",
       "      <td>202833.2091</td>\n",
       "      <td>2830.6591</td>\n",
       "      <td>32650.5844</td>\n",
       "    </tr>\n",
       "    <tr>\n",
       "      <th>65015</th>\n",
       "      <td>2021-06</td>\n",
       "      <td>제주</td>\n",
       "      <td>여성</td>\n",
       "      <td>80</td>\n",
       "      <td>50130550</td>\n",
       "      <td>효돈동</td>\n",
       "      <td>720</td>\n",
       "      <td>72372.6600</td>\n",
       "      <td>0.0000</td>\n",
       "      <td>10526.9092</td>\n",
       "    </tr>\n",
       "  </tbody>\n",
       "</table>\n",
       "<p>65016 rows × 10 columns</p>\n",
       "</div>"
      ],
      "text/plain": [
       "             m resd sex  age    emd_cd emd_nm  count_num  sum_resd_pop_cnt  \\\n",
       "0      2018-01   그외  남성    0  50110590    건입동        744            0.0000   \n",
       "1      2018-01   그외  남성    0  50110256    구좌읍        744            0.0000   \n",
       "2      2018-01   그외  남성    0  50130253    남원읍        744            0.0000   \n",
       "3      2018-01   그외  남성    0  50110660    노형동        744            0.0000   \n",
       "4      2018-01   그외  남성    0  50130590    대륜동        744            0.0000   \n",
       "...        ...  ...  ..  ...       ...    ...        ...               ...   \n",
       "65011  2021-06   제주  여성   80  50130320    표선면        720       133317.8449   \n",
       "65012  2021-06   제주  여성   80  50110310    한경면        720       129052.5282   \n",
       "65013  2021-06   제주  여성   80  50110250    한림읍        720       244482.7666   \n",
       "65014  2021-06   제주  여성   80  50110600    화북동        720       202833.2091   \n",
       "65015  2021-06   제주  여성   80  50130550    효돈동        720        72372.6600   \n",
       "\n",
       "       sum_work_pop_cnt  sum_visit_pop_cnt  \n",
       "0             3132.2282         76353.2457  \n",
       "1             4161.1501        147835.2530  \n",
       "2             2121.0335        249159.0777  \n",
       "3            17475.4153        333967.8223  \n",
       "4             5223.4448        308445.7634  \n",
       "...                 ...                ...  \n",
       "65011          373.1435         18236.7638  \n",
       "65012         2082.5446         13292.0757  \n",
       "65013         4236.2232         24978.7051  \n",
       "65014         2830.6591         32650.5844  \n",
       "65015            0.0000         10526.9092  \n",
       "\n",
       "[65016 rows x 10 columns]"
      ]
     },
     "execution_count": 2,
     "metadata": {},
     "output_type": "execute_result"
    }
   ],
   "source": [
    "korean_df = pd.read_csv('datasets/month_korean.csv')\n",
    "korean_df"
   ]
  },
  {
   "cell_type": "markdown",
   "metadata": {},
   "source": [
    "### sum_resd_pop_cnt~ 분산분석"
   ]
  },
  {
   "cell_type": "code",
   "execution_count": 43,
   "metadata": {},
   "outputs": [
    {
     "name": "stdout",
     "output_type": "stream",
     "text": [
      "                 df                 sum_sq            mean_sq      F  PR(>F)\n",
      "C(sex)       1.0000     1843852799509.4941 1843852799509.4941 7.5481  0.0060\n",
      "Residual 65014.0000 15881569818931420.0000  244279229380.3092    nan     nan\n"
     ]
    }
   ],
   "source": [
    "# 일원배치 분산분석(sex)\n",
    "model = ols('sum_resd_pop_cnt ~ C(sex)', korean_df).fit()\n",
    "\n",
    "print(anova_lm(model))"
   ]
  },
  {
   "cell_type": "code",
   "execution_count": 44,
   "metadata": {},
   "outputs": [
    {
     "name": "stdout",
     "output_type": "stream",
     "text": [
      "   Multiple Comparison of Means - Tukey HSD, FWER=0.05    \n",
      "==========================================================\n",
      "group1 group2  meandiff  p-adj   lower     upper    reject\n",
      "----------------------------------------------------------\n",
      "    남성     여성 10650.8188 0.006 3052.4684 18249.1692   True\n",
      "----------------------------------------------------------\n"
     ]
    }
   ],
   "source": [
    "# 다중비교 (Tukey)\n",
    "\n",
    "posthoc = pairwise_tukeyhsd(korean_df['sum_resd_pop_cnt'], korean_df['sex'], alpha=0.05)\n",
    "print(posthoc)"
   ]
  },
  {
   "cell_type": "code",
   "execution_count": 45,
   "metadata": {},
   "outputs": [
    {
     "name": "stdout",
     "output_type": "stream",
     "text": [
      "                 df                 sum_sq               mean_sq          F  \\\n",
      "C(resd)      1.0000  4102593275431151.0000 4102593275431151.0000 22640.6982   \n",
      "Residual 65014.0000 11780820396299984.0000     181204362080.4747        nan   \n",
      "\n",
      "          PR(>F)  \n",
      "C(resd)   0.0000  \n",
      "Residual     nan  \n"
     ]
    }
   ],
   "source": [
    "# 일원배치 분산분석(resd)\n",
    "model = ols('sum_resd_pop_cnt ~ C(resd)', korean_df).fit()\n",
    "\n",
    "print(anova_lm(model))"
   ]
  },
  {
   "cell_type": "code",
   "execution_count": 46,
   "metadata": {},
   "outputs": [
    {
     "name": "stdout",
     "output_type": "stream",
     "text": [
      "     Multiple Comparison of Means - Tukey HSD, FWER=0.05      \n",
      "==============================================================\n",
      "group1 group2   meandiff  p-adj    lower       upper    reject\n",
      "--------------------------------------------------------------\n",
      "    그외     제주 502399.3909 0.001 495855.1335 508943.6483   True\n",
      "--------------------------------------------------------------\n"
     ]
    }
   ],
   "source": [
    "# 다중비교 (Tukey)\n",
    "\n",
    "posthoc = pairwise_tukeyhsd(korean_df['sum_resd_pop_cnt'], korean_df['resd'], alpha=0.05)\n",
    "print(posthoc)"
   ]
  },
  {
   "cell_type": "code",
   "execution_count": 47,
   "metadata": {},
   "outputs": [
    {
     "name": "stdout",
     "output_type": "stream",
     "text": [
      "                 df                 sum_sq             mean_sq        F  \\\n",
      "C(age)       8.0000   629023709327402.7500 78627963665925.3438 335.0752   \n",
      "Residual 65007.0000 15254389962403552.0000   234657651674.4897      nan   \n",
      "\n",
      "          PR(>F)  \n",
      "C(age)    0.0000  \n",
      "Residual     nan  \n"
     ]
    }
   ],
   "source": [
    "# 일원배치 분산분석(age)\n",
    "model = ols('sum_resd_pop_cnt ~ C(age)', korean_df).fit()\n",
    "\n",
    "print(anova_lm(model))"
   ]
  },
  {
   "cell_type": "code",
   "execution_count": 48,
   "metadata": {},
   "outputs": [
    {
     "name": "stdout",
     "output_type": "stream",
     "text": [
      "       Multiple Comparison of Means - Tukey HSD, FWER=0.05        \n",
      "==================================================================\n",
      "group1 group2   meandiff   p-adj     lower        upper     reject\n",
      "------------------------------------------------------------------\n",
      "     0     10    6647.6439    0.9  -18353.6924   31648.9802  False\n",
      "     0     20    -63291.53  0.001  -88292.8663  -38290.1937   True\n",
      "     0     30  -10765.1287    0.9  -35766.4651   14236.2076  False\n",
      "     0     40   120684.271  0.001   95682.9347  145685.6073   True\n",
      "     0     50  115880.4843  0.001    90879.148  140881.8206   True\n",
      "     0     60  -19637.8121 0.2641  -44639.1484    5363.5242  False\n",
      "     0     70 -135122.0389  0.001 -160123.3752 -110120.7026   True\n",
      "     0     80 -200276.6708  0.001 -225278.0071 -175275.3344   True\n",
      "    10     20  -69939.1739  0.001  -94940.5102  -44937.8376   True\n",
      "    10     30  -17412.7727  0.435   -42414.109    7588.5636  False\n",
      "    10     40  114036.6271  0.001   89035.2908  139037.9634   True\n",
      "    10     50  109232.8404  0.001   84231.5041  134234.1767   True\n",
      "    10     60   -26285.456 0.0306  -51286.7923   -1284.1197   True\n",
      "    10     70 -141769.6828  0.001 -166771.0191 -116768.3465   True\n",
      "    10     80 -206924.3147  0.001  -231925.651 -181922.9784   True\n",
      "    20     30   52526.4012  0.001   27525.0649   77527.7375   True\n",
      "    20     40   183975.801  0.001  158974.4647  208977.1373   True\n",
      "    20     50  179172.0143  0.001  154170.6779  204173.3506   True\n",
      "    20     60   43653.7179  0.001   18652.3816   68655.0542   True\n",
      "    20     70  -71830.5089  0.001  -96831.8452  -46829.1726   True\n",
      "    20     80 -136985.1408  0.001 -161986.4771 -111983.8045   True\n",
      "    30     40  131449.3998  0.001  106448.0635  156450.7361   True\n",
      "    30     50   126645.613  0.001  101644.2767  151646.9493   True\n",
      "    30     60   -8872.6833    0.9  -33874.0196    16128.653  False\n",
      "    30     70 -124356.9101  0.001 -149358.2464  -99355.5738   True\n",
      "    30     80  -189511.542  0.001 -214512.8783 -164510.2057   True\n",
      "    40     50   -4803.7868    0.9  -29805.1231   20197.5496  False\n",
      "    40     60 -140322.0831  0.001 -165323.4194 -115320.7468   True\n",
      "    40     70 -255806.3099  0.001 -280807.6462 -230804.9736   True\n",
      "    40     80 -320960.9418  0.001 -345962.2781 -295959.6055   True\n",
      "    50     60 -135518.2964  0.001 -160519.6327 -110516.9601   True\n",
      "    50     70 -251002.5232  0.001 -276003.8595 -226001.1869   True\n",
      "    50     80  -316157.155  0.001 -341158.4914 -291155.8187   True\n",
      "    60     70 -115484.2268  0.001 -140485.5631  -90482.8905   True\n",
      "    60     80 -180638.8587  0.001  -205640.195 -155637.5224   True\n",
      "    70     80  -65154.6319  0.001  -90155.9682  -40153.2956   True\n",
      "------------------------------------------------------------------\n"
     ]
    }
   ],
   "source": [
    "# 다중비교 (Tukey)\n",
    "\n",
    "posthoc = pairwise_tukeyhsd(korean_df['sum_resd_pop_cnt'], korean_df['age'], alpha=0.05)\n",
    "print(posthoc)"
   ]
  },
  {
   "cell_type": "code",
   "execution_count": 98,
   "metadata": {},
   "outputs": [
    {
     "data": {
      "image/png": "[encoded data removed]",
      "text/plain": [
       "<Figure size 1080x720 with 1 Axes>"
      ]
     },
     "metadata": {
      "needs_background": "light"
     },
     "output_type": "display_data"
    }
   ],
   "source": [
    "x = korean_df['age']\n",
    "y = korean_df['sum_resd_pop_cnt']\n",
    "# y축 로그변환\n",
    "#y = np.log(korean_df['sum_resd_pop_cnt'])\n",
    "\n",
    "sns.boxplot(x, y, data=korean_df)\n",
    "\n",
    "plt.show()\n",
    "\n",
    "\n",
    "# 그룹화\n",
    "# 40, 50\n",
    "# 60\n",
    "# 0, 10, 30\n",
    "# 20, 70\n",
    "# 80"
   ]
  },
  {
   "cell_type": "code",
   "execution_count": 69,
   "metadata": {
    "scrolled": false
   },
   "outputs": [
    {
     "data": {
      "text/plain": [
       "<AxesSubplot:xlabel='age', ylabel='sum_resd_pop_cnt'>"
      ]
     },
     "execution_count": 69,
     "metadata": {},
     "output_type": "execute_result"
    },
    {
     "data": {
      "image/png": "[encoded data removed]",
      "text/plain": [
       "<Figure size 1080x720 with 1 Axes>"
      ]
     },
     "metadata": {
      "needs_background": "light"
     },
     "output_type": "display_data"
    }
   ],
   "source": [
    "sns.stripplot(x, y, data=korean_df)"
   ]
  },
  {
   "cell_type": "markdown",
   "metadata": {},
   "source": [
    "### 그룹화"
   ]
  },
  {
   "cell_type": "code",
   "execution_count": 135,
   "metadata": {},
   "outputs": [],
   "source": [
    "# 그룹화\n",
    "# 1. 40, 50\n",
    "# 2. 60\n",
    "# 3. 0, 10, 30\n",
    "# 4. 20, 70\n",
    "# 5. 80\n",
    "\n",
    "a = korean_df[korean_df['age']==0]\n",
    "b = korean_df[korean_df['age']==10]\n",
    "c = korean_df[korean_df['age']==20]\n",
    "d = korean_df[korean_df['age']==30]\n",
    "e = korean_df[korean_df['age']==40]\n",
    "f = korean_df[korean_df['age']==50]\n",
    "g = korean_df[korean_df['age']==60]\n",
    "h = korean_df[korean_df['age']==70]\n",
    "i = korean_df[korean_df['age']==80]"
   ]
  },
  {
   "cell_type": "code",
   "execution_count": 136,
   "metadata": {},
   "outputs": [
    {
     "data": {
      "text/plain": [
       "Ttest_indResult(statistic=0.42580001824641195, pvalue=0.6702599171021971)"
      ]
     },
     "execution_count": 136,
     "metadata": {},
     "output_type": "execute_result"
    }
   ],
   "source": [
    "# 1. 40, 50\n",
    "ttest_ind(e['sum_resd_pop_cnt'], f['sum_resd_pop_cnt'])"
   ]
  },
  {
   "cell_type": "code",
   "execution_count": 137,
   "metadata": {},
   "outputs": [
    {
     "name": "stdout",
     "output_type": "stream",
     "text": [
      "                 df                sum_sq           mean_sq      F  PR(>F)\n",
      "C(age)       2.0000    1115587434682.5093 557793717341.2546 2.1136  0.1208\n",
      "Residual 21669.0000 5718681108531246.0000 263910706933.0032    nan     nan\n",
      "     Multiple Comparison of Means - Tukey HSD, FWER=0.05      \n",
      "==============================================================\n",
      "group1 group2   meandiff  p-adj     lower      upper    reject\n",
      "--------------------------------------------------------------\n",
      "     0     10   6647.6439 0.6986 -13387.2794 26682.5673  False\n",
      "     0     30 -10765.1287 0.4201 -30800.0521  9269.7946  False\n",
      "    10     30 -17412.7727 0.1035  -37447.696  2622.1507  False\n",
      "--------------------------------------------------------------\n"
     ]
    }
   ],
   "source": [
    "# 3. 0, 10, 30\n",
    "\n",
    "G1 = pd.concat([a, b, d])\n",
    "\n",
    "\n",
    "# 일원배치 분산분석(age)\n",
    "model = ols('sum_resd_pop_cnt ~ C(age)', G1).fit()\n",
    "\n",
    "print(anova_lm(model))\n",
    "\n",
    "# 다중비교 (Tukey)\n",
    "\n",
    "posthoc = pairwise_tukeyhsd(G1['sum_resd_pop_cnt'], G1['age'], alpha=0.05)\n",
    "print(posthoc)"
   ]
  },
  {
   "cell_type": "code",
   "execution_count": 138,
   "metadata": {},
   "outputs": [
    {
     "data": {
      "text/plain": [
       "Ttest_indResult(statistic=12.76807729982917, pvalue=3.923810827254532e-37)"
      ]
     },
     "execution_count": 138,
     "metadata": {},
     "output_type": "execute_result"
    }
   ],
   "source": [
    "# 4. 20, 70\n",
    "ttest_ind(c['sum_resd_pop_cnt'], h['sum_resd_pop_cnt'])"
   ]
  },
  {
   "cell_type": "markdown",
   "metadata": {},
   "source": [
    "### sum_work_pop_cnt~ 분산분석"
   ]
  },
  {
   "cell_type": "code",
   "execution_count": 45,
   "metadata": {},
   "outputs": [
    {
     "name": "stdout",
     "output_type": "stream",
     "text": [
      "                 df               sum_sq           mean_sq       F  PR(>F)\n",
      "C(sex)       1.0000    201742863829.6020 201742863829.6020 61.8714  0.0000\n",
      "Residual 65014.0000 211989851961930.2500   3260680037.5601     nan     nan\n"
     ]
    }
   ],
   "source": [
    "# 일원배치 분산분석(sex)\n",
    "model = ols('sum_work_pop_cnt ~ C(sex)', korean_df).fit()\n",
    "\n",
    "print(anova_lm(model))"
   ]
  },
  {
   "cell_type": "code",
   "execution_count": 46,
   "metadata": {},
   "outputs": [
    {
     "name": "stdout",
     "output_type": "stream",
     "text": [
      "    Multiple Comparison of Means - Tukey HSD, FWER=0.05    \n",
      "===========================================================\n",
      "group1 group2  meandiff  p-adj   lower      upper    reject\n",
      "-----------------------------------------------------------\n",
      "    남성     여성 -3523.0513 0.001 -4400.9211 -2645.1814   True\n",
      "-----------------------------------------------------------\n"
     ]
    }
   ],
   "source": [
    "# 다중비교 (Tukey)\n",
    "\n",
    "posthoc = pairwise_tukeyhsd(korean_df['sum_work_pop_cnt'], korean_df['sex'], alpha=0.05)\n",
    "print(posthoc)"
   ]
  },
  {
   "cell_type": "code",
   "execution_count": 47,
   "metadata": {},
   "outputs": [
    {
     "name": "stdout",
     "output_type": "stream",
     "text": [
      "                 df               sum_sq             mean_sq         F  PR(>F)\n",
      "C(resd)      1.0000  24454666311470.2695 24454666311470.2695 8468.7423  0.0000\n",
      "Residual 65014.0000 187736928514290.5000     2887638485.7768       nan     nan\n"
     ]
    }
   ],
   "source": [
    "# 일원배치 분산분석(resd)\n",
    "model = ols('sum_work_pop_cnt ~ C(resd)', korean_df).fit()\n",
    "\n",
    "print(anova_lm(model))"
   ]
  },
  {
   "cell_type": "code",
   "execution_count": 48,
   "metadata": {},
   "outputs": [
    {
     "name": "stdout",
     "output_type": "stream",
     "text": [
      "   Multiple Comparison of Means - Tukey HSD, FWER=0.05    \n",
      "==========================================================\n",
      "group1 group2  meandiff  p-adj   lower      upper   reject\n",
      "----------------------------------------------------------\n",
      "    그외     제주 38788.2997 0.001 37962.1715 39614.428   True\n",
      "----------------------------------------------------------\n"
     ]
    }
   ],
   "source": [
    "# 다중비교 (Tukey)\n",
    "\n",
    "posthoc = pairwise_tukeyhsd(korean_df['sum_work_pop_cnt'], korean_df['resd'], alpha=0.05)\n",
    "print(posthoc)"
   ]
  },
  {
   "cell_type": "code",
   "execution_count": 49,
   "metadata": {},
   "outputs": [
    {
     "name": "stdout",
     "output_type": "stream",
     "text": [
      "                 df               sum_sq            mean_sq        F  PR(>F)\n",
      "C(age)       8.0000  14377220324964.3320 1797152540620.5415 590.5915  0.0000\n",
      "Residual 65007.0000 197814374500795.5625    3042970364.7422      nan     nan\n"
     ]
    }
   ],
   "source": [
    "# 일원배치 분산분석(age)\n",
    "model = ols('sum_work_pop_cnt ~ C(age)', korean_df).fit()\n",
    "\n",
    "print(anova_lm(model))"
   ]
  },
  {
   "cell_type": "code",
   "execution_count": 50,
   "metadata": {},
   "outputs": [
    {
     "name": "stdout",
     "output_type": "stream",
     "text": [
      "      Multiple Comparison of Means - Tukey HSD, FWER=0.05      \n",
      "===============================================================\n",
      "group1 group2   meandiff  p-adj     lower       upper    reject\n",
      "---------------------------------------------------------------\n",
      "     0     10   1207.2242    0.9  -1639.8234   4054.2718  False\n",
      "     0     20   8522.5262  0.001   5675.4787  11369.5738   True\n",
      "     0     30   11240.593  0.001   8393.5454  14087.6406   True\n",
      "     0     40  24958.3967  0.001  22111.3491  27805.4443   True\n",
      "     0     50  20855.6288  0.001  18008.5813  23702.6764   True\n",
      "     0     60  -5314.6429  0.001  -8161.6904  -2467.5953   True\n",
      "     0     70 -17954.2114  0.001  -20801.259 -15107.1638   True\n",
      "     0     80 -20927.7794  0.001  -23774.827 -18080.7318   True\n",
      "    10     20    7315.302  0.001   4468.2545  10162.3496   True\n",
      "    10     30  10033.3688  0.001   7186.3212  12880.4164   True\n",
      "    10     40  23751.1725  0.001  20904.1249  26598.2201   True\n",
      "    10     50  19648.4046  0.001   16801.357  22495.4522   True\n",
      "    10     60  -6521.8671  0.001  -9368.9146  -3674.8195   True\n",
      "    10     70 -19161.4356  0.001 -22008.4832  -16314.388   True\n",
      "    10     80 -22135.0036  0.001 -24982.0512  -19287.956   True\n",
      "    20     30   2718.0668 0.0753   -128.9808   5565.1143  False\n",
      "    20     40  16435.8705  0.001  13588.8229  19282.9181   True\n",
      "    20     50  12333.1026  0.001    9486.055  15180.1502   True\n",
      "    20     60 -13837.1691  0.001 -16684.2167 -10990.1215   True\n",
      "    20     70 -26476.7376  0.001 -29323.7852 -23629.6901   True\n",
      "    20     80 -29450.3056  0.001 -32297.3532 -26603.2581   True\n",
      "    30     40  13717.8037  0.001  10870.7562  16564.8513   True\n",
      "    30     50   9615.0358  0.001   6767.9883  12462.0834   True\n",
      "    30     60 -16555.2359  0.001 -19402.2834 -13708.1883   True\n",
      "    30     70 -29194.8044  0.001  -32041.852 -26347.7568   True\n",
      "    30     80 -32168.3724  0.001   -35015.42 -29321.3248   True\n",
      "    40     50  -4102.7679  0.001  -6949.8155  -1255.7203   True\n",
      "    40     60 -30273.0396  0.001 -33120.0872  -27425.992   True\n",
      "    40     70 -42912.6081  0.001 -45759.6557 -40065.5605   True\n",
      "    40     80 -45886.1761  0.001 -48733.2237 -43039.1285   True\n",
      "    50     60 -26170.2717  0.001 -29017.3193 -23323.2241   True\n",
      "    50     70 -38809.8402  0.001 -41656.8878 -35962.7926   True\n",
      "    50     80 -41783.4082  0.001 -44630.4558 -38936.3607   True\n",
      "    60     70 -12639.5685  0.001 -15486.6161   -9792.521   True\n",
      "    60     80 -15613.1365  0.001 -18460.1841  -12766.089   True\n",
      "    70     80   -2973.568 0.0328  -5820.6156   -126.5204   True\n",
      "---------------------------------------------------------------\n"
     ]
    }
   ],
   "source": [
    "# 다중비교 (Tukey)\n",
    "\n",
    "posthoc = pairwise_tukeyhsd(korean_df['sum_work_pop_cnt'], korean_df['age'], alpha=0.05)\n",
    "print(posthoc)"
   ]
  },
  {
   "cell_type": "markdown",
   "metadata": {},
   "source": [
    "### 그룹화"
   ]
  },
  {
   "cell_type": "code",
   "execution_count": 145,
   "metadata": {},
   "outputs": [
    {
     "data": {
      "image/png": "[encoded data removed]",
      "text/plain": [
       "<Figure size 1080x720 with 1 Axes>"
      ]
     },
     "metadata": {
      "needs_background": "light"
     },
     "output_type": "display_data"
    }
   ],
   "source": [
    "x = korean_df['age']\n",
    "y = korean_df['sum_work_pop_cnt']\n",
    "# y축 로그변환\n",
    "y = np.log(korean_df['sum_work_pop_cnt'])\n",
    "\n",
    "sns.boxplot(x, y, data=korean_df)\n",
    "\n",
    "plt.show()\n",
    "\n",
    "\n",
    "# 그룹화\n",
    "# 1. 40, 50\n",
    "# 2. 20, 30, 60\n",
    "# 3. 0, 10\n",
    "# 4. 70\n",
    "# 5. 80"
   ]
  },
  {
   "cell_type": "code",
   "execution_count": 8,
   "metadata": {},
   "outputs": [],
   "source": [
    "a = korean_df[korean_df['age']==0]\n",
    "b = korean_df[korean_df['age']==10]\n",
    "c = korean_df[korean_df['age']==20]\n",
    "d = korean_df[korean_df['age']==30]\n",
    "e = korean_df[korean_df['age']==40]\n",
    "f = korean_df[korean_df['age']==50]\n",
    "g = korean_df[korean_df['age']==60]\n",
    "h = korean_df[korean_df['age']==70]\n",
    "i = korean_df[korean_df['age']==80]\n",
    "\n",
    "# 그룹화\n",
    "# 1. 40, 50\n",
    "# 2. 60\n",
    "# 3. 0, 10, 30\n",
    "# 4. 20, 70\n",
    "# 5. 80"
   ]
  },
  {
   "cell_type": "code",
   "execution_count": 20,
   "metadata": {},
   "outputs": [
    {
     "data": {
      "text/plain": [
       "Ttest_indResult(statistic=3.336416717152335, pvalue=0.0008507987040988374)"
      ]
     },
     "execution_count": 20,
     "metadata": {},
     "output_type": "execute_result"
    }
   ],
   "source": [
    "# 1. 40, 50 -> 기각\n",
    "ttest_ind(e['sum_work_pop_cnt'], f['sum_work_pop_cnt'])"
   ]
  },
  {
   "cell_type": "code",
   "execution_count": 27,
   "metadata": {},
   "outputs": [
    {
     "name": "stdout",
     "output_type": "stream",
     "text": [
      "                 df              sum_sq           mean_sq        F  PR(>F)\n",
      "C(age)       2.0000  1138817775455.8970 569408887727.9485 209.6116  0.0000\n",
      "Residual 21669.0000 58863738525313.0859   2716495386.2805      nan     nan\n",
      "      Multiple Comparison of Means - Tukey HSD, FWER=0.05      \n",
      "===============================================================\n",
      "group1 group2   meandiff  p-adj     lower       upper    reject\n",
      "---------------------------------------------------------------\n",
      "    20     30   2718.0668 0.0049    685.4118   4750.7217   True\n",
      "    20     60 -13837.1691  0.001 -15869.8241 -11804.5141   True\n",
      "    30     60 -16555.2359  0.001 -18587.8908 -14522.5809   True\n",
      "---------------------------------------------------------------\n"
     ]
    }
   ],
   "source": [
    "# 2. 20, 30, 60 -> 기각\n",
    "\n",
    "G1 = pd.concat([c, d, g])\n",
    "\n",
    "\n",
    "# 일원배치 분산분석(age)\n",
    "model = ols('sum_work_pop_cnt ~ C(age)', G1).fit()\n",
    "\n",
    "print(anova_lm(model))\n",
    "\n",
    "# 다중비교 (Tukey)\n",
    "\n",
    "posthoc = pairwise_tukeyhsd(G1['sum_work_pop_cnt'], G1['age'], alpha=0.05)\n",
    "print(posthoc)"
   ]
  },
  {
   "cell_type": "code",
   "execution_count": 148,
   "metadata": {},
   "outputs": [
    {
     "data": {
      "text/plain": [
       "Ttest_indResult(statistic=-1.1297830239043527, pvalue=0.2585864217737992)"
      ]
     },
     "execution_count": 148,
     "metadata": {},
     "output_type": "execute_result"
    }
   ],
   "source": [
    "# 3. 0, 10\n",
    "ttest_ind(a['sum_work_pop_cnt'], b['sum_work_pop_cnt'])"
   ]
  },
  {
   "cell_type": "code",
   "execution_count": 6,
   "metadata": {},
   "outputs": [
    {
     "data": {
      "text/plain": [
       "Ttest_indResult(statistic=-2.6426060138956626, pvalue=0.008235942769300165)"
      ]
     },
     "execution_count": 6,
     "metadata": {},
     "output_type": "execute_result"
    }
   ],
   "source": [
    "ttest_ind(c['sum_work_pop_cnt'], d['sum_work_pop_cnt'])"
   ]
  },
  {
   "cell_type": "markdown",
   "metadata": {},
   "source": [
    "### sum_visit_pop_cnt~ 분산분석"
   ]
  },
  {
   "cell_type": "code",
   "execution_count": 51,
   "metadata": {},
   "outputs": [
    {
     "name": "stdout",
     "output_type": "stream",
     "text": [
      "                 df                sum_sq            mean_sq        F  PR(>F)\n",
      "C(sex)       1.0000    3862659248415.4839 3862659248415.4839 133.3479  0.0000\n",
      "Residual 65014.0000 1883245760197226.0000   28966772698.1454      nan     nan\n"
     ]
    }
   ],
   "source": [
    "# 일원배치 분산분석(sex)\n",
    "model = ols('sum_visit_pop_cnt ~ C(sex)', korean_df).fit()\n",
    "\n",
    "print(anova_lm(model))"
   ]
  },
  {
   "cell_type": "code",
   "execution_count": 52,
   "metadata": {},
   "outputs": [
    {
     "name": "stdout",
     "output_type": "stream",
     "text": [
      "     Multiple Comparison of Means - Tukey HSD, FWER=0.05     \n",
      "=============================================================\n",
      "group1 group2   meandiff  p-adj   lower       upper    reject\n",
      "-------------------------------------------------------------\n",
      "    남성     여성 -15415.6936 0.001 -18032.226 -12799.1613   True\n",
      "-------------------------------------------------------------\n"
     ]
    }
   ],
   "source": [
    "# 다중비교 (Tukey)\n",
    "\n",
    "posthoc = pairwise_tukeyhsd(korean_df['sum_visit_pop_cnt'], korean_df['sex'], alpha=0.05)\n",
    "print(posthoc)"
   ]
  },
  {
   "cell_type": "code",
   "execution_count": 53,
   "metadata": {},
   "outputs": [
    {
     "name": "stdout",
     "output_type": "stream",
     "text": [
      "                 df                sum_sq             mean_sq         F  PR(>F)\n",
      "C(resd)      1.0000   67989182139080.6250 67989182139080.6250 2429.8840  0.0000\n",
      "Residual 65014.0000 1819119237306562.2500    27980423252.0159       nan     nan\n"
     ]
    }
   ],
   "source": [
    "# 일원배치 분산분석(resd)\n",
    "model = ols('sum_visit_pop_cnt ~ C(resd)', korean_df).fit()\n",
    "\n",
    "print(anova_lm(model))"
   ]
  },
  {
   "cell_type": "code",
   "execution_count": 54,
   "metadata": {},
   "outputs": [
    {
     "name": "stdout",
     "output_type": "stream",
     "text": [
      "    Multiple Comparison of Means - Tukey HSD, FWER=0.05    \n",
      "===========================================================\n",
      "group1 group2  meandiff  p-adj   lower      upper    reject\n",
      "-----------------------------------------------------------\n",
      "    그외     제주 64675.4979 0.001 62103.8993 67247.0965   True\n",
      "-----------------------------------------------------------\n"
     ]
    }
   ],
   "source": [
    "# 다중비교 (Tukey)\n",
    "\n",
    "posthoc = pairwise_tukeyhsd(korean_df['sum_visit_pop_cnt'], korean_df['resd'], alpha=0.05)\n",
    "print(posthoc)"
   ]
  },
  {
   "cell_type": "code",
   "execution_count": 55,
   "metadata": {},
   "outputs": [
    {
     "name": "stdout",
     "output_type": "stream",
     "text": [
      "                 df                sum_sq             mean_sq         F  PR(>F)\n",
      "C(age)       8.0000  298425174155934.5625 37303146769491.8203 1526.3997  0.0000\n",
      "Residual 65007.0000 1588683245289708.5000    24438648842.2740       nan     nan\n"
     ]
    }
   ],
   "source": [
    "# 일원배치 분산분석(age)\n",
    "model = ols('sum_visit_pop_cnt ~ C(age)', korean_df).fit()\n",
    "\n",
    "print(anova_lm(model))"
   ]
  },
  {
   "cell_type": "code",
   "execution_count": 56,
   "metadata": {},
   "outputs": [
    {
     "name": "stdout",
     "output_type": "stream",
     "text": [
      "       Multiple Comparison of Means - Tukey HSD, FWER=0.05        \n",
      "==================================================================\n",
      "group1 group2   meandiff   p-adj     lower        upper     reject\n",
      "------------------------------------------------------------------\n",
      "     0     10    5748.7122 0.4015   -2319.6327   13817.0572  False\n",
      "     0     20   60242.8513  0.001   52174.5063   68311.1962   True\n",
      "     0     30   72633.3642  0.001   64565.0192   80701.7091   True\n",
      "     0     40  117005.2461  0.001  108936.9012  125073.5911   True\n",
      "     0     50  114165.3432  0.001  106096.9983  122233.6882   True\n",
      "     0     60   21253.0866  0.001   13184.7416   29321.4315   True\n",
      "     0     70  -60714.9583  0.001  -68783.3033  -52646.6134   True\n",
      "     0     80  -89262.0428  0.001  -97330.3878  -81193.6979   True\n",
      "    10     20   54494.1391  0.001   46425.7941    62562.484   True\n",
      "    10     30    66884.652  0.001    58816.307   74952.9969   True\n",
      "    10     40  111256.5339  0.001   103188.189  119324.8789   True\n",
      "    10     50   108416.631  0.001  100348.2861   116484.976   True\n",
      "    10     60   15504.3744  0.001    7436.0294   23572.7193   True\n",
      "    10     70  -66463.6706  0.001  -74532.0155  -58395.3256   True\n",
      "    10     80   -95010.755  0.001    -103079.1  -86942.4101   True\n",
      "    20     30   12390.5129  0.001    4322.1679   20458.8578   True\n",
      "    20     40   56762.3948  0.001   48694.0499   64830.7398   True\n",
      "    20     50   53922.4919  0.001    45854.147   61990.8369   True\n",
      "    20     60  -38989.7647  0.001  -47058.1097  -30921.4198   True\n",
      "    20     70 -120957.8096  0.001 -129026.1546 -112889.4647   True\n",
      "    20     80 -149504.8941  0.001 -157573.2391 -141436.5492   True\n",
      "    30     40    44371.882  0.001    36303.537   52440.2269   True\n",
      "    30     50    41531.979  0.001   33463.6341    49600.324   True\n",
      "    30     60  -51380.2776  0.001  -59448.6225  -43311.9326   True\n",
      "    30     70 -133348.3225  0.001 -141416.6675 -125279.9776   True\n",
      "    30     80  -161895.407  0.001  -169963.752 -153827.0621   True\n",
      "    40     50   -2839.9029    0.9  -10908.2479     5228.442  False\n",
      "    40     60  -95752.1595  0.001 -103820.5045  -87683.8146   True\n",
      "    40     70 -177720.2045  0.001 -185788.5494 -169651.8595   True\n",
      "    40     80  -206267.289  0.001 -214335.6339  -198198.944   True\n",
      "    50     60  -92912.2566  0.001 -100980.6016  -84843.9117   True\n",
      "    50     70 -174880.3016  0.001 -182948.6465 -166811.9566   True\n",
      "    50     80  -203427.386  0.001  -211495.731 -195359.0411   True\n",
      "    60     70  -81968.0449  0.001  -90036.3899     -73899.7   True\n",
      "    60     80 -110515.1294  0.001 -118583.4744 -102446.7845   True\n",
      "    70     80  -28547.0845  0.001  -36615.4294  -20478.7395   True\n",
      "------------------------------------------------------------------\n"
     ]
    }
   ],
   "source": [
    "# 다중비교 (Tukey)\n",
    "\n",
    "posthoc = pairwise_tukeyhsd(korean_df['sum_visit_pop_cnt'], korean_df['age'], alpha=0.05)\n",
    "print(posthoc)"
   ]
  },
  {
   "cell_type": "code",
   "execution_count": 73,
   "metadata": {},
   "outputs": [
    {
     "data": {
      "image/png": "[encoded data removed]",
      "text/plain": [
       "<Figure size 1080x720 with 1 Axes>"
      ]
     },
     "metadata": {
      "needs_background": "light"
     },
     "output_type": "display_data"
    }
   ],
   "source": [
    "x = korean_df['age']\n",
    "#y = korean_df['sum_work_pop_cnt']\n",
    "# y축 로그변환\n",
    "y = np.log(korean_df['sum_visit_pop_cnt'])\n",
    "\n",
    "sns.boxplot(x, y, data=korean_df)\n",
    "\n",
    "plt.show()\n",
    "\n",
    "# 그룹화\n",
    "# 40, 50\n",
    "# 20, 30, 60\n",
    "# 0, 10\n",
    "# 70\n",
    "# 80"
   ]
  },
  {
   "cell_type": "markdown",
   "metadata": {},
   "source": [
    "### 그룹화"
   ]
  },
  {
   "cell_type": "code",
   "execution_count": 3,
   "metadata": {},
   "outputs": [],
   "source": [
    "a = korean_df[korean_df['age']==0]\n",
    "b = korean_df[korean_df['age']==10]\n",
    "c = korean_df[korean_df['age']==20]\n",
    "d = korean_df[korean_df['age']==30]\n",
    "e = korean_df[korean_df['age']==40]\n",
    "f = korean_df[korean_df['age']==50]\n",
    "g = korean_df[korean_df['age']==60]\n",
    "h = korean_df[korean_df['age']==70]\n",
    "i = korean_df[korean_df['age']==80]\n",
    "\n",
    "# 그룹화\n",
    "# 1. 40, 50\n",
    "# 2. 20, 30, 60\n",
    "# 3. 0, 10\n",
    "# 4. 70\n",
    "# 5. 80"
   ]
  },
  {
   "cell_type": "code",
   "execution_count": 149,
   "metadata": {},
   "outputs": [
    {
     "data": {
      "text/plain": [
       "Ttest_indResult(statistic=0.7865113557552788, pvalue=0.4315808705332006)"
      ]
     },
     "execution_count": 149,
     "metadata": {},
     "output_type": "execute_result"
    }
   ],
   "source": [
    "# 1. 40, 50\n",
    "ttest_ind(e['sum_visit_pop_cnt'], f['sum_visit_pop_cnt'])"
   ]
  },
  {
   "cell_type": "code",
   "execution_count": 34,
   "metadata": {},
   "outputs": [
    {
     "name": "stdout",
     "output_type": "stream",
     "text": [
      "                 df               sum_sq            mean_sq        F  PR(>F)\n",
      "C(age)       2.0000  10387292044108.7695 5193646022054.3848 202.8060  0.0000\n",
      "Residual 21669.0000 554920116186708.6250   25608939784.3329      nan     nan\n",
      "     Multiple Comparison of Means - Tukey HSD, FWER=0.05      \n",
      "==============================================================\n",
      "group1 group2   meandiff  p-adj    lower       upper    reject\n",
      "--------------------------------------------------------------\n",
      "    20     30  12390.5129 0.001   6149.5014  18631.5243   True\n",
      "    20     60 -38989.7647 0.001 -45230.7762 -32748.7533   True\n",
      "    30     60 -51380.2776 0.001  -57621.289 -45139.2661   True\n",
      "--------------------------------------------------------------\n"
     ]
    }
   ],
   "source": [
    "# 2. 20, 30, 60 -> 기각\n",
    "\n",
    "G1 = pd.concat([c, d, g])\n",
    "\n",
    "\n",
    "# 일원배치 분산분석(age)\n",
    "model = ols('sum_visit_pop_cnt ~ C(age)', G1).fit()\n",
    "\n",
    "print(anova_lm(model))\n",
    "\n",
    "# 다중비교 (Tukey)\n",
    "\n",
    "posthoc = pairwise_tukeyhsd(G1['sum_visit_pop_cnt'], G1['age'], alpha=0.05)\n",
    "print(posthoc)\n",
    "\n",
    "# "
   ]
  },
  {
   "cell_type": "code",
   "execution_count": 35,
   "metadata": {},
   "outputs": [
    {
     "data": {
      "text/plain": [
       "Ttest_indResult(statistic=-4.1958713458023, pvalue=2.7344854199584033e-05)"
      ]
     },
     "execution_count": 35,
     "metadata": {},
     "output_type": "execute_result"
    }
   ],
   "source": [
    "# 20, 30으로 그룹화하면 기각 못함 => 20, 30 묶고 60 따로 할까 아님 그냥 묶어버릴까..?\n",
    "ttest_ind(c['sum_visit_pop_cnt'], d['sum_visit_pop_cnt'])"
   ]
  },
  {
   "cell_type": "code",
   "execution_count": 151,
   "metadata": {},
   "outputs": [
    {
     "data": {
      "text/plain": [
       "Ttest_indResult(statistic=-1.1297830239043527, pvalue=0.2585864217737992)"
      ]
     },
     "execution_count": 151,
     "metadata": {},
     "output_type": "execute_result"
    }
   ],
   "source": [
    "# 3. 0, 10\n",
    "ttest_ind(a['sum_work_pop_cnt'], b['sum_work_pop_cnt'])"
   ]
  },
  {
   "cell_type": "code",
   "execution_count": 4,
   "metadata": {},
   "outputs": [
    {
     "data": {
      "text/plain": [
       "Ttest_indResult(statistic=41.77970337892572, pvalue=0.0)"
      ]
     },
     "execution_count": 4,
     "metadata": {},
     "output_type": "execute_result"
    }
   ],
   "source": [
    "# 70, 80\n",
    "ttest_ind(h['sum_visit_pop_cnt'], i['sum_visit_pop_cnt'])"
   ]
  },
  {
   "cell_type": "code",
   "execution_count": 5,
   "metadata": {},
   "outputs": [
    {
     "name": "stdout",
     "output_type": "stream",
     "text": [
      "                 df               sum_sq             mean_sq         F  PR(>F)\n",
      "C(age)       2.0000  47551474933066.5000 23775737466533.2500 4146.0612  0.0000\n",
      "Residual 21669.0000 124261662967410.8125     5734536109.9917       nan     nan\n",
      "       Multiple Comparison of Means - Tukey HSD, FWER=0.05       \n",
      "=================================================================\n",
      "group1 group2   meandiff   p-adj    lower        upper     reject\n",
      "-----------------------------------------------------------------\n",
      "    60     70  -81968.0449 0.001  -84921.3501  -79014.7398   True\n",
      "    60     80 -110515.1294 0.001 -113468.4346 -107561.8243   True\n",
      "    70     80  -28547.0845 0.001  -31500.3897  -25593.7793   True\n",
      "-----------------------------------------------------------------\n"
     ]
    }
   ],
   "source": [
    "# 60, 70, 80\n",
    "G1 = pd.concat([g, h, i])\n",
    "\n",
    "\n",
    "# 일원배치 분산분석(age)\n",
    "model = ols('sum_visit_pop_cnt ~ C(age)', G1).fit()\n",
    "\n",
    "print(anova_lm(model))\n",
    "\n",
    "# 다중비교 (Tukey)\n",
    "\n",
    "posthoc = pairwise_tukeyhsd(G1['sum_visit_pop_cnt'], G1['age'], alpha=0.05)\n",
    "print(posthoc)"
   ]
  },
  {
   "cell_type": "markdown",
   "metadata": {},
   "source": [
    "### 군집화"
   ]
  },
  {
   "cell_type": "code",
   "execution_count": 26,
   "metadata": {},
   "outputs": [
    {
     "data": {
      "text/html": [
       "<div>\n",
       "<style scoped>\n",
       "    .dataframe tbody tr th:only-of-type {\n",
       "        vertical-align: middle;\n",
       "    }\n",
       "\n",
       "    .dataframe tbody tr th {\n",
       "        vertical-align: top;\n",
       "    }\n",
       "\n",
       "    .dataframe thead th {\n",
       "        text-align: right;\n",
       "    }\n",
       "</style>\n",
       "<table border=\"1\" class=\"dataframe\">\n",
       "  <thead>\n",
       "    <tr style=\"text-align: right;\">\n",
       "      <th></th>\n",
       "      <th>sum_resd_pop_cnt</th>\n",
       "      <th>sum_work_pop_cnt</th>\n",
       "      <th>sum_visit_pop_cnt</th>\n",
       "    </tr>\n",
       "    <tr>\n",
       "      <th>age</th>\n",
       "      <th></th>\n",
       "      <th></th>\n",
       "      <th></th>\n",
       "    </tr>\n",
       "  </thead>\n",
       "  <tbody>\n",
       "    <tr>\n",
       "      <th>0</th>\n",
       "      <td>1963866907.0024</td>\n",
       "      <td>174135332.8944</td>\n",
       "      <td>864808353.8761</td>\n",
       "    </tr>\n",
       "    <tr>\n",
       "      <th>10</th>\n",
       "      <td>2011889486.6933</td>\n",
       "      <td>182856320.5450</td>\n",
       "      <td>906337050.8254</td>\n",
       "    </tr>\n",
       "    <tr>\n",
       "      <th>20</th>\n",
       "      <td>1506648894.5201</td>\n",
       "      <td>235702062.3954</td>\n",
       "      <td>1300002711.6226</td>\n",
       "    </tr>\n",
       "    <tr>\n",
       "      <th>30</th>\n",
       "      <td>1886099616.9693</td>\n",
       "      <td>255337376.6329</td>\n",
       "      <td>1389511776.6739</td>\n",
       "    </tr>\n",
       "    <tr>\n",
       "      <th>40</th>\n",
       "      <td>2835690080.9992</td>\n",
       "      <td>354434790.7666</td>\n",
       "      <td>1710054251.9188</td>\n",
       "    </tr>\n",
       "    <tr>\n",
       "      <th>50</th>\n",
       "      <td>2800987525.5119</td>\n",
       "      <td>324796395.5039</td>\n",
       "      <td>1689538793.2152</td>\n",
       "    </tr>\n",
       "    <tr>\n",
       "      <th>60</th>\n",
       "      <td>1822003352.5264</td>\n",
       "      <td>135742352.8080</td>\n",
       "      <td>1018340651.3635</td>\n",
       "    </tr>\n",
       "    <tr>\n",
       "      <th>70</th>\n",
       "      <td>987745298.1129</td>\n",
       "      <td>44434109.7798</td>\n",
       "      <td>426203494.7715</td>\n",
       "    </tr>\n",
       "    <tr>\n",
       "      <th>80</th>\n",
       "      <td>517068237.4753</td>\n",
       "      <td>22953054.4965</td>\n",
       "      <td>219979356.4051</td>\n",
       "    </tr>\n",
       "  </tbody>\n",
       "</table>\n",
       "</div>"
      ],
      "text/plain": [
       "     sum_resd_pop_cnt  sum_work_pop_cnt  sum_visit_pop_cnt\n",
       "age                                                       \n",
       "0     1963866907.0024    174135332.8944     864808353.8761\n",
       "10    2011889486.6933    182856320.5450     906337050.8254\n",
       "20    1506648894.5201    235702062.3954    1300002711.6226\n",
       "30    1886099616.9693    255337376.6329    1389511776.6739\n",
       "40    2835690080.9992    354434790.7666    1710054251.9188\n",
       "50    2800987525.5119    324796395.5039    1689538793.2152\n",
       "60    1822003352.5264    135742352.8080    1018340651.3635\n",
       "70     987745298.1129     44434109.7798     426203494.7715\n",
       "80     517068237.4753     22953054.4965     219979356.4051"
      ]
     },
     "execution_count": 26,
     "metadata": {},
     "output_type": "execute_result"
    }
   ],
   "source": [
    "korean_df1 = korean_df.groupby('age').sum()\n",
    "korean_df1 = korean_df1.drop(['emd_cd', 'count_num'], axis=1)\n",
    "korean_df1"
   ]
  },
  {
   "cell_type": "code",
   "execution_count": 27,
   "metadata": {},
   "outputs": [
    {
     "data": {
      "image/png": "[encoded data removed]",
      "text/plain": [
       "<Figure size 720x432 with 1 Axes>"
      ]
     },
     "metadata": {
      "needs_background": "light"
     },
     "output_type": "display_data"
    }
   ],
   "source": [
    "Z = linkage(korean_df1, method='single')\n",
    "\n",
    "fig = plt.figure(figsize=(10, 6))\n",
    "fig.subplots_adjust(bottom=0.23)\n",
    "plt.title('Hierarchical Clustering Dendrogram (Single linkage)')\n",
    "plt.xlabel('Company')\n",
    "dendrogram(Z, labels=korean_df1.index, color_threshold=2.75)\n",
    "plt.axhline(y=2.75, color='black', linewidth=0.5, linestyle='dashed')\n",
    "plt.show()"
   ]
  },
  {
   "cell_type": "code",
   "execution_count": null,
   "metadata": {},
   "outputs": [],
   "source": []
  },
  {
   "cell_type": "code",
   "execution_count": null,
   "metadata": {},
   "outputs": [],
   "source": []
  },
  {
   "cell_type": "code",
   "execution_count": null,
   "metadata": {},
   "outputs": [],
   "source": []
  }
 ],
 "metadata": {
  "kernelspec": {
   "display_name": "Python 3",
   "language": "python",
   "name": "python3"
  },
  "language_info": {
   "codemirror_mode": {
    "name": "ipython",
    "version": 3
   },
   "file_extension": ".py",
   "mimetype": "text/x-python",
   "name": "python",
   "nbconvert_exporter": "python",
   "pygments_lexer": "ipython3",
   "version": "3.8.5"
  }
 },
 "nbformat": 4,
 "nbformat_minor": 4
}
